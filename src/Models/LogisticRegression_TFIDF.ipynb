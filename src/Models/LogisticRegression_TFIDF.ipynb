{
 "cells": [
  {
   "cell_type": "code",
   "execution_count": null,
   "metadata": {},
   "outputs": [
    {
     "data": {
      "text/plain": [
       "'H:\\\\SPARK'"
      ]
     },
     "metadata": {},
     "output_type": "display_data"
    }
   ],
   "source": [
    "import findspark\n",
    "findspark.init()\n",
    "findspark.find()"
   ]
  },
  {
   "cell_type": "code",
   "execution_count": null,
   "metadata": {},
   "outputs": [],
   "source": [
    "from pyspark.sql import SparkSession\n",
    "\n",
    "# Initialize SparkSession with necessary configurations\n",
    "spark = SparkSession.builder \\\n",
    "    .master(\"local[*]\") \\\n",
    "    .appName('Spark') \\\n",
    "    .config(\"spark.driver.memory\", \"15g\") \\\n",
    "    .config(\"spark.hadoop.home.dir\", \"H:/HADOOP/\") \\\n",
    "    .config(\"spark.hadoop.conf.dir\", \"H:/HADOOP/etc/hadoop/\") \\\n",
    "    .getOrCreate()\n",
    "\n",
    "# Get SparkContext from the SparkSession\n",
    "sc = spark.sparkContext\n"
   ]
  },
  {
   "cell_type": "code",
   "execution_count": null,
   "metadata": {},
   "outputs": [
    {
     "data": {
      "text/html": [
       "\n",
       "            <div>\n",
       "                <p><b>SparkSession - in-memory</b></p>\n",
       "                \n",
       "        <div>\n",
       "            <p><b>SparkContext</b></p>\n",
       "\n",
       "            <p><a href=\"http://host.docker.internal:4040\">Spark UI</a></p>\n",
       "\n",
       "            <dl>\n",
       "              <dt>Version</dt>\n",
       "                <dd><code>v3.5.0</code></dd>\n",
       "              <dt>Master</dt>\n",
       "                <dd><code>local[*]</code></dd>\n",
       "              <dt>AppName</dt>\n",
       "                <dd><code>Spark</code></dd>\n",
       "            </dl>\n",
       "        </div>\n",
       "        \n",
       "            </div>\n",
       "        "
      ],
      "text/plain": [
       "<pyspark.sql.session.SparkSession at 0x242d38df110>"
      ]
     },
     "metadata": {},
     "output_type": "display_data"
    }
   ],
   "source": [
    "spark"
   ]
  },
  {
   "cell_type": "markdown",
   "metadata": {},
   "source": [
    "### BASE DATASET"
   ]
  },
  {
   "cell_type": "code",
   "execution_count": null,
   "metadata": {},
   "outputs": [
    {
     "name": "stdout",
     "output_type": "stream",
     "text": [
      "+---------------+----------------------------------------------------------------------------------------------------------------------------------------------------------------+-----------------------------------------------------------------------------------------------------------------------------------------------------------------------------------------------+-----------------+\n",
      "|Conversation_ID|Attacker_Helper                                                                                                                                                 |Victim                                                                                                                                                                                         |Conversation_Type|\n",
      "+---------------+----------------------------------------------------------------------------------------------------------------------------------------------------------------+-----------------------------------------------------------------------------------------------------------------------------------------------------------------------------------------------+-----------------+\n",
      "|GT1sURbxgG     |Hi, this is John from the IRS. You owe us $10,000 in back taxes.                                                                                                |I'm sorry, I don't believe you. Can you provide me with your badge number?                                                                                                                     |1                |\n",
      "|GT1sURbxgG     |Yes, of course. It's 1234.                                                                                                                                      |I'm still not sure. Can I call you back to verify this information?                                                                                                                            |1                |\n",
      "|GT1sURbxgG     |No, you cannot. We need payment immediately or we will send the police to your house.                                                                           |I don't think that's legal. I'll be contacting the IRS directly to confirm this.                                                                                                               |1                |\n",
      "|TwaGOeC96w     |Hello, this is XYZ bank calling. May I speak with [Victim's name] please?                                                                                       |This is [Victim's name]. How can I help you?                                                                                                                                                   |0                |\n",
      "|TwaGOeC96w     |Good morning [Victim's name], we just noticed some unusual activity on your account and want to verify a few things. Can you confirm your account number for me?|I'm sorry, I don't feel comfortable giving out my account number on the phone. Is there another way we can verify my information?                                                              |0                |\n",
      "|TwaGOeC96w     |Absolutely, we completely understand your concerns. Can you please provide your date of birth and Social Security number for verification purposes?             |I'm still hesitant to provide that information over the phone. Can I come into the bank and verify my information in person?                                                                   |0                |\n",
      "|TwaGOeC96w     |Of course, that's a great idea. Our branch hours are 9am-5pm, Monday through Friday. Is there a day and time that works best for you?                           |Yes, I can come in on Thursday at around 2pm. Thank you for understanding.                                                                                                                     |0                |\n",
      "|V73ZDCviQL     |Hello sir, this is a call from the IRS. We have found discrepancies in your tax filings and need to verify some information.                                    |I've never had any issues with my taxes before. Can you provide me with more specific information?                                                                                             |1                |\n",
      "|V73ZDCviQL     |Yes sir, we need your social security number and bank account details to verify the information.                                                                |I'm sorry, but I don't feel comfortable sharing that information over the phone. Can you send me an email or mail me a letter instead?                                                         |1                |\n",
      "|V73ZDCviQL     |There's no need to worry sir. We are a legitimate organization and need this information to resolve the issue quickly.                                          |I appreciate your concern, but I still cannot provide that information over the phone. Can you please provide me with a reference number for this issue so I can verify it with the IRS myself?|1                |\n",
      "+---------------+----------------------------------------------------------------------------------------------------------------------------------------------------------------+-----------------------------------------------------------------------------------------------------------------------------------------------------------------------------------------------+-----------------+\n",
      "only showing top 10 rows\n",
      "\n"
     ]
    }
   ],
   "source": [
    "base_df = spark.read.csv(\"../../Data/Custom_Datasets/conversation_datasets_GPT.csv\", header=True, inferSchema=True)\n",
    "base_df.show(10, truncate=False)"
   ]
  },
  {
   "cell_type": "markdown",
   "metadata": {},
   "source": [
    "### PREPROCESSED DATASET"
   ]
  },
  {
   "cell_type": "code",
   "execution_count": null,
   "metadata": {},
   "outputs": [
    {
     "name": "stdout",
     "output_type": "stream",
     "text": [
      "+---------------+-------------------------------------------------------------------------------------------------------------------------------------------------------------------------------------------------------------------------------------------------------------------------------------------------------------------------------------------------------------------------------------------------------------------------------------------------------------------------------------------------------------------------------------------------------------------------------------------------------------------------------------------------------------------------------------------------------------------------------------------------------------------------+---------------------------------------------------------------------------------------------------------------------------------------------------------------------------------------------------------------------------------------------------------------------------------------------------------------------------------------------------------------------------------------------------------------------------------------------------------------------------------------------------------------------------------------------------------------------------------------------------------------------------------------+-----------------+\n",
      "|Conversation_ID|Attacker_Helper                                                                                                                                                                                                                                                                                                                                                                                                                                                                                                                                                                                                                                                                                                                                                          |Victim                                                                                                                                                                                                                                                                                                                                                                                                                                                                                                                                                                                                                                 |Conversation_Type|\n",
      "+---------------+-------------------------------------------------------------------------------------------------------------------------------------------------------------------------------------------------------------------------------------------------------------------------------------------------------------------------------------------------------------------------------------------------------------------------------------------------------------------------------------------------------------------------------------------------------------------------------------------------------------------------------------------------------------------------------------------------------------------------------------------------------------------------+---------------------------------------------------------------------------------------------------------------------------------------------------------------------------------------------------------------------------------------------------------------------------------------------------------------------------------------------------------------------------------------------------------------------------------------------------------------------------------------------------------------------------------------------------------------------------------------------------------------------------------------+-----------------+\n",
      "|GT1sURbxgG     |[['hi', 'john', 'ir', 'owe', 'us', 'xxxxx', 'back', 'tax'], ['ye', 'cours', 'xxxx'], ['need', 'payment', 'immedi', 'send', 'polic', 'hous']]                                                                                                                                                                                                                                                                                                                                                                                                                                                                                                                                                                                                                             |[['im', 'sorri', 'dont', 'believ', 'provid', 'badg', 'number'], ['im', 'still', 'sure', 'call', 'back', 'verifi', 'inform'], ['dont', 'think', 'that', 'legal', 'ill', 'contact', 'ir', 'directli', 'confirm']]                                                                                                                                                                                                                                                                                                                                                                                                                        |1                |\n",
      "|TwaGOeC96w     |[['hello', 'xyz', 'bank', 'call', 'may', 'speak', 'victim', 'name', 'pleas'], ['good', 'morn', 'victim', 'name', 'notic', 'unusu', 'activ', 'account', 'want', 'verifi', 'thing', 'confirm', 'account', 'number'], ['absolut', 'complet', 'understand', 'concern', 'pleas', 'provid', 'date', 'birth', 'social', 'secur', 'number', 'verif', 'purpos'], ['cours', 'that', 'great', 'idea', 'branch', 'hour', 'xamxpm', 'monday', 'friday', 'day', 'time', 'work', 'best']]                                                                                                                                                                                                                                                                                               |[['victim', 'name', 'help'], ['im', 'sorri', 'dont', 'feel', 'comfort', 'give', 'account', 'number', 'phone', 'anoth', 'way', 'verifi', 'inform'], ['im', 'still', 'hesit', 'provid', 'inform', 'phone', 'come', 'bank', 'verifi', 'inform', 'person'], ['ye', 'come', 'thursday', 'around', 'xpm', 'thank', 'understand']]                                                                                                                                                                                                                                                                                                            |0                |\n",
      "|V73ZDCviQL     |[['hello', 'sir', 'call', 'ir', 'found', 'discrep', 'tax', 'file', 'need', 'verifi', 'inform'], ['ye', 'sir', 'need', 'social', 'secur', 'number', 'bank', 'account', 'detail', 'verifi', 'inform'], ['there', 'need', 'worri', 'sir', 'legitim', 'organ', 'need', 'inform', 'resolv', 'issu', 'quickli'], ['understand', 'concern', 'sir', 'provid', 'refer', 'number', 'phone', 'pleas', 'provid', 'us', 'inform', 'resolv', 'quickli'], ['legitim', 'organ', 'sir', 'dont', 'want', 'cooper', 'ill', 'inform', 'author', 'legal', 'action', 'taken']]                                                                                                                                                                                                                 |[['ive', 'never', 'issu', 'tax', 'provid', 'specif', 'inform'], ['im', 'sorri', 'dont', 'feel', 'comfort', 'share', 'inform', 'phone', 'send', 'email', 'mail', 'letter', 'instead'], ['appreci', 'concern', 'still', 'provid', 'inform', 'phone', 'pleas', 'provid', 'refer', 'number', 'issu', 'verifi', 'ir'], ['im', 'sorri', 'still', 'provid', 'inform', 'need', 'verifi', 'legitimaci', 'share', 'sensit', 'inform'], ['that', 'fine', 'id', 'rather', 'take', 'chanc', 'author', 'risk', 'person', 'inform', 'get', 'wrong', 'hand', 'goodby']]                                                                                |1                |\n",
      "|wNsWdbpeld     |[['hello', 'john', 'bank', 'call', 'confirm', 'recent', 'transact', 'account', 'pleas', 'verifi', 'account', 'number'], ['understand', 'concern', 'secur', 'reason', 'abl', 'disclos', 'detail', 'verifi', 'account', 'pleas', 'provid', 'account', 'number'], ['complet', 'understand', 'concern', 'custom', 'servic', 'line', 'long', 'wait', 'time', 'quickli', 'verifi', 'transact', 'call', 'provid', 'account', 'number', 'assur', 'call', 'legitim'], ['snailmail', 'email', 'verif', 'form', 'sorri', 'inconveni', 'howev', 'faster', 'resolut', 'need', 'verifi', 'transact', 'call', 'guarante', 'legitim', 'call'], ['sure', 'provid', 'refer', 'number', 'pleas', 'note', 'refer', 'number', 'xyzxxx', 'may', 'confirm', 'bank', 'custom', 'servic', 'time']]|[['sure', 'pleas', 'confirm', 'bank', 'call', 'transact', 'refer'], ['apolog', 'precaut', 'prefer', 'disclos', 'person', 'detail', 'phone', 'call', 'back', 'directli', 'bank', 'custom', 'support', 'line', 'confirm', 'transact'], ['appreci', 'offer', 'help', 'comfort', 'provid', 'account', 'number', 'phone', 'snailmail', 'verif', 'form', 'email', 'detail'], ['understand', 'still', 'uncomfort', 'provid', 'account', 'number', 'phone', 'pleas', 'provid', 'refer', 'number', 'confirm', 'bank', 'custom', 'servic'], ['thank', 'appreci', 'confirm', 'bank', 'custom', 'servic', 'use', 'refer', 'number', 'good', 'day']]|0                |\n",
      "|x0pSxAQx1K0abm |[['hello', 'ir', 'call', 'record', 'show', 'owe', 'xxxx', 'tax', 'dont', 'pay', 'take', 'legal', 'action'], ['ye', 'cours', 'need', 'pay', 'immedi', 'face', 'seriou', 'consequ', 'provid', 'credit', 'card', 'number', 'process', 'payment'], ['im', 'sorri', 'cant', 'situat', 'urgent', 'need', 'payment', 'dont', 'pay', 'send', 'polic', 'hous'], ['name', 'john', 'smith', 'badg', 'number', 'xxxx', 'pleas', 'give', 'credit', 'card', 'inform'], ['wait', 'dont', 'your', 'make', 'big', 'mistak', 'ir', 'need', 'payment']]                                                                                                                                                                                                                                     |[['oh', 'idea', 'give', 'inform'], ['im', 'sorri', 'dont', 'feel', 'comfort', 'give', 'credit', 'card', 'inform', 'phone', 'send', 'letter', 'email', 'inform', 'instruct', 'pay'], ['still', 'cant', 'give', 'credit', 'card', 'inform', 'give', 'name', 'badg', 'number', 'verifi', 'your', 'realli', 'ir'], ['im', 'sorri', 'dont', 'believ', 'im', 'go', 'hang', 'call', 'ir', 'directli', 'verifi', 'inform'], ['sorri', 'wont', 'give', 'person', 'inform', 'phone', 'goodby']]                                                                                                                                                  |1                |\n",
      "|I8QHkmsq5AdwAq |[['hello', 'xyz', 'bank', 'speak', 'john', 'smith', 'pleas'], ['notic', 'suspici', 'activ', 'account', 'want', 'verifi', 'transact'], ['larg', 'purchas', 'made', 'account', 'last', 'day', 'confirm', 'made', 'transact'], ['would', 'like', 'confirm', 'account', 'detail', 'verifi', 'transact', 'pleas', 'provid', 'us', 'account', 'number', 'social', 'secur', 'number'], ['ye', 'understand', 'concern', 'come', 'branch', 'verifi', 'account', 'detail', 'person', 'also', 'freez', 'account', 'temporarili', 'avoid', 'fraudul', 'activ']]                                                                                                                                                                                                                      |[['john', 'smith', 'speak', 'may', 'know', 'call'], ['oh', 'thank', 'let', 'know', 'transact', 'refer'], ['didnt', 'make', 'larg', 'purchas', 'pleas', 'give', 'detail'], ['im', 'sorri', 'im', 'comfort', 'share', 'person', 'inform', 'phone', 'cant', 'verifi', 'way'], ['thank', 'let', 'know', 'come', 'branch', 'soon', 'possibl']]                                                                                                                                                                                                                                                                                              |0                |\n",
      "|v9vN0BYTWa0e16 |[['hello', 'john', 'ir', 'tax', 'return', 'last', 'year', 'flag', 'error', 'need', 'give', 'social', 'secur', 'number', 'fix', 'issu'], ['ye', 'cours', 'id', 'number', 'xxxxxx']]                                                                                                                                                                                                                                                                                                                                                                                                                                                                                                                                                                                       |[['im', 'sorri', 'dont', 'believ', 'give', 'employe', 'id', 'number'], ['im', 'sorri', 'think', 'scam', 'report', 'number', 'author']]                                                                                                                                                                                                                                                                                                                                                                                                                                                                                                 |1                |\n",
      "|pVeYjXj2DelffL |[['hello', 'john', 'bank', 'may', 'speak', 'mr', 'smith'], ['hi', 'mr', 'smith', 'im', 'call', 'verifi', 'suspici', 'transact', 'account', 'make', 'purchas', 'xxx', 'differ', 'state'], ['well', 'freez', 'transact', 'block', 'card', 'ill', 'send', 'replac', 'card', 'address', 'pleas', 'confirm', 'address'], ['thank', 'mr', 'smith', 'confirm', 'pleas', 'answer', 'coupl', 'secur', 'question'], ['mother', 'maiden', 'name'], ['great', 'name', 'first', 'pet'], ['thank', 'cooper', 'send', 'email', 'detail', 'transact', 'step', 'need', 'follow'], ['problem', 'mr', 'smith', 'sure', 'monitor', 'account', 'report', 'suspici', 'activ'], ['your', 'welcom', 'good', 'day']]                                                                              |[['speak', 'mr', 'smith', 'help'], ['didnt', 'thank', 'let', 'know', 'need', 'next'], ['sound', 'good', 'address', 'xxx', 'main', 'st'], ['sure', 'go', 'ahead'], ['johnson'], ['spot'], ['thank', 'appreci'], ['thank', 'help'], []]                                                                                                                                                                                                                                                                                                                                                                                                  |0                |\n",
      "|42e0AXIkESKc6y |[['hello', 'xxxxxxxxxx'], ['call', 'ir', 'owe', 'us', 'money', 'dont', 'pay', 'right', 'arrest'], ['ye', 'provid', 'badg', 'number', 'case', 'id', 'need', 'pay', 'avoid', 'troubl'], ['call', 'back', 'urgent', 'matter', 'must', 'pay']]                                                                                                                                                                                                                                                                                                                                                                                                                                                                                                                               |[['ye'], ['dont', 'believ', 'prove', 'realli', 'ir'], ['comfort', 'give', 'money', 'phone', 'call', 'back'], ['sorri', 'dont', 'believ', 'legitim', 'end', 'call']]                                                                                                                                                                                                                                                                                                                                                                                                                                                                    |1                |\n",
      "|vk2TK8MFd0hoZg |[['hello', 'john', 'bank', 'im', 'call', 'regard', 'recent', 'suspici', 'activ', 'account'], ['ye', 'need', 'verifi', 'thing', 'ensur', 'secur', 'account', 'pleas', 'confirm', 'full', 'name', 'date', 'birth'], ['thank', 'sarah', 'confirm', 'last', 'x', 'digit', 'social', 'secur', 'number'], ['understand', 'concern', 'need', 'verifi', 'record', 'ensur', 'safeti', 'account', 'complet', 'understand', 'cautiou', 'call', 'number', 'back', 'card', 'verifi', 'call', 'legitim', 'record', 'show', 'last', 'transact', 'groceri', 'store', 'yesterday', 'xx', 'correct'], ['great', 'thank', 'verifi', 'anyth', 'els', 'help'], ['your', 'welcom', 'sarah', 'great', 'day']]                                                                                   |[['oh', 'everyth', 'alright'], ['sure', 'name', 'sarah', 'johnson', 'date', 'birth', 'januari', 'xst', 'xxxx'], ['um', 'dont', 'feel', 'comfort', 'give', 'phone'], ['ye', 'that', 'correct'], ['that', 'thank', 'time', 'keep', 'account', 'safe'], ['john']]                                                                                                                                                                                                                                                                                                                                                                         |0                |\n",
      "+---------------+-------------------------------------------------------------------------------------------------------------------------------------------------------------------------------------------------------------------------------------------------------------------------------------------------------------------------------------------------------------------------------------------------------------------------------------------------------------------------------------------------------------------------------------------------------------------------------------------------------------------------------------------------------------------------------------------------------------------------------------------------------------------------+---------------------------------------------------------------------------------------------------------------------------------------------------------------------------------------------------------------------------------------------------------------------------------------------------------------------------------------------------------------------------------------------------------------------------------------------------------------------------------------------------------------------------------------------------------------------------------------------------------------------------------------+-----------------+\n",
      "only showing top 10 rows\n",
      "\n"
     ]
    }
   ],
   "source": [
    "preprocessed_df = spark.read.csv(\"../../Data/Preprocessed_Datasets/GPT_dataset_preprocessed.csv\", header=True, inferSchema=True)\n",
    "preprocessed_df.show(10, truncate=False)"
   ]
  },
  {
   "cell_type": "markdown",
   "metadata": {},
   "source": [
    "### Convert Conversation Columns into actual Arrays"
   ]
  },
  {
   "cell_type": "code",
   "execution_count": null,
   "metadata": {},
   "outputs": [
    {
     "name": "stdout",
     "output_type": "stream",
     "text": [
      "root\n",
      " |-- Conversation_ID: string (nullable = true)\n",
      " |-- Attacker_Helper: array (nullable = true)\n",
      " |    |-- element: array (containsNull = true)\n",
      " |    |    |-- element: string (containsNull = true)\n",
      " |-- Victim: array (nullable = true)\n",
      " |    |-- element: array (containsNull = true)\n",
      " |    |    |-- element: string (containsNull = true)\n",
      " |-- Conversation_Type: integer (nullable = true)\n",
      "\n"
     ]
    }
   ],
   "source": [
    "from pyspark.sql.types import ArrayType, StringType\n",
    "from pyspark.sql.functions import udf\n",
    "import ast\n",
    "\n",
    "# UDF to convert string representation of list to actual list\n",
    "def str_to_array_of_arrays(s):\n",
    "    # Convert the string to a list and then wrap it inside another list\n",
    "    return [ast.literal_eval(s)][0]\n",
    "\n",
    "str_to_array_of_arrays_udf = udf(str_to_array_of_arrays, ArrayType(ArrayType(StringType())))\n",
    "\n",
    "df = preprocessed_df.withColumn(\"Attacker_Helper\", str_to_array_of_arrays_udf(preprocessed_df[\"Attacker_Helper\"])).withColumn(\"Victim\", str_to_array_of_arrays_udf(preprocessed_df[\"Victim\"]))\n",
    "\n",
    "df.printSchema()"
   ]
  },
  {
   "cell_type": "markdown",
   "metadata": {},
   "source": [
    "### FLATTEN"
   ]
  },
  {
   "cell_type": "code",
   "execution_count": null,
   "metadata": {},
   "outputs": [
    {
     "name": "stdout",
     "output_type": "stream",
     "text": [
      "+---------------+---------------------------------------------------------------------------------------------------------------------------------------------------------------------------------------------------------------------------------------------------------------------------------------------------------------------------------------------------------------------------------------------------------------------------------------------------------------------------------------------------------------------------------------------------------------------------------------------------------+-------------------------------------------------------------------------------------------------------------------------------------------------------------------------------------------------------------------------------------------------------------------------------------------------------------------------------------------------------------------------------------------------------------------------------------------------------------------------------------------------+-----------------+\n",
      "|Conversation_ID|Attacker_Helper                                                                                                                                                                                                                                                                                                                                                                                                                                                                                                                                                                                          |Victim                                                                                                                                                                                                                                                                                                                                                                                                                                                                                           |Conversation_Type|\n",
      "+---------------+---------------------------------------------------------------------------------------------------------------------------------------------------------------------------------------------------------------------------------------------------------------------------------------------------------------------------------------------------------------------------------------------------------------------------------------------------------------------------------------------------------------------------------------------------------------------------------------------------------+-------------------------------------------------------------------------------------------------------------------------------------------------------------------------------------------------------------------------------------------------------------------------------------------------------------------------------------------------------------------------------------------------------------------------------------------------------------------------------------------------+-----------------+\n",
      "|GT1sURbxgG     |[hi, john, ir, owe, us, xxxxx, back, tax, ye, cours, xxxx, need, payment, immedi, send, polic, hous]                                                                                                                                                                                                                                                                                                                                                                                                                                                                                                     |[im, sorri, dont, believ, provid, badg, number, im, still, sure, call, back, verifi, inform, dont, think, that, legal, ill, contact, ir, directli, confirm]                                                                                                                                                                                                                                                                                                                                      |1                |\n",
      "|TwaGOeC96w     |[hello, xyz, bank, call, may, speak, victim, name, pleas, good, morn, victim, name, notic, unusu, activ, account, want, verifi, thing, confirm, account, number, absolut, complet, understand, concern, pleas, provid, date, birth, social, secur, number, verif, purpos, cours, that, great, idea, branch, hour, xamxpm, monday, friday, day, time, work, best]                                                                                                                                                                                                                                         |[victim, name, help, im, sorri, dont, feel, comfort, give, account, number, phone, anoth, way, verifi, inform, im, still, hesit, provid, inform, phone, come, bank, verifi, inform, person, ye, come, thursday, around, xpm, thank, understand]                                                                                                                                                                                                                                                  |0                |\n",
      "|V73ZDCviQL     |[hello, sir, call, ir, found, discrep, tax, file, need, verifi, inform, ye, sir, need, social, secur, number, bank, account, detail, verifi, inform, there, need, worri, sir, legitim, organ, need, inform, resolv, issu, quickli, understand, concern, sir, provid, refer, number, phone, pleas, provid, us, inform, resolv, quickli, legitim, organ, sir, dont, want, cooper, ill, inform, author, legal, action, taken]                                                                                                                                                                               |[ive, never, issu, tax, provid, specif, inform, im, sorri, dont, feel, comfort, share, inform, phone, send, email, mail, letter, instead, appreci, concern, still, provid, inform, phone, pleas, provid, refer, number, issu, verifi, ir, im, sorri, still, provid, inform, need, verifi, legitimaci, share, sensit, inform, that, fine, id, rather, take, chanc, author, risk, person, inform, get, wrong, hand, goodby]                                                                        |1                |\n",
      "|wNsWdbpeld     |[hello, john, bank, call, confirm, recent, transact, account, pleas, verifi, account, number, understand, concern, secur, reason, abl, disclos, detail, verifi, account, pleas, provid, account, number, complet, understand, concern, custom, servic, line, long, wait, time, quickli, verifi, transact, call, provid, account, number, assur, call, legitim, snailmail, email, verif, form, sorri, inconveni, howev, faster, resolut, need, verifi, transact, call, guarante, legitim, call, sure, provid, refer, number, pleas, note, refer, number, xyzxxx, may, confirm, bank, custom, servic, time]|[sure, pleas, confirm, bank, call, transact, refer, apolog, precaut, prefer, disclos, person, detail, phone, call, back, directli, bank, custom, support, line, confirm, transact, appreci, offer, help, comfort, provid, account, number, phone, snailmail, verif, form, email, detail, understand, still, uncomfort, provid, account, number, phone, pleas, provid, refer, number, confirm, bank, custom, servic, thank, appreci, confirm, bank, custom, servic, use, refer, number, good, day]|0                |\n",
      "|x0pSxAQx1K0abm |[hello, ir, call, record, show, owe, xxxx, tax, dont, pay, take, legal, action, ye, cours, need, pay, immedi, face, seriou, consequ, provid, credit, card, number, process, payment, im, sorri, cant, situat, urgent, need, payment, dont, pay, send, polic, hous, name, john, smith, badg, number, xxxx, pleas, give, credit, card, inform, wait, dont, your, make, big, mistak, ir, need, payment]                                                                                                                                                                                                     |[oh, idea, give, inform, im, sorri, dont, feel, comfort, give, credit, card, inform, phone, send, letter, email, inform, instruct, pay, still, cant, give, credit, card, inform, give, name, badg, number, verifi, your, realli, ir, im, sorri, dont, believ, im, go, hang, call, ir, directli, verifi, inform, sorri, wont, give, person, inform, phone, goodby]                                                                                                                                |1                |\n",
      "|I8QHkmsq5AdwAq |[hello, xyz, bank, speak, john, smith, pleas, notic, suspici, activ, account, want, verifi, transact, larg, purchas, made, account, last, day, confirm, made, transact, would, like, confirm, account, detail, verifi, transact, pleas, provid, us, account, number, social, secur, number, ye, understand, concern, come, branch, verifi, account, detail, person, also, freez, account, temporarili, avoid, fraudul, activ]                                                                                                                                                                            |[john, smith, speak, may, know, call, oh, thank, let, know, transact, refer, didnt, make, larg, purchas, pleas, give, detail, im, sorri, im, comfort, share, person, inform, phone, cant, verifi, way, thank, let, know, come, branch, soon, possibl]                                                                                                                                                                                                                                            |0                |\n",
      "|v9vN0BYTWa0e16 |[hello, john, ir, tax, return, last, year, flag, error, need, give, social, secur, number, fix, issu, ye, cours, id, number, xxxxxx]                                                                                                                                                                                                                                                                                                                                                                                                                                                                     |[im, sorri, dont, believ, give, employe, id, number, im, sorri, think, scam, report, number, author]                                                                                                                                                                                                                                                                                                                                                                                             |1                |\n",
      "|pVeYjXj2DelffL |[hello, john, bank, may, speak, mr, smith, hi, mr, smith, im, call, verifi, suspici, transact, account, make, purchas, xxx, differ, state, well, freez, transact, block, card, ill, send, replac, card, address, pleas, confirm, address, thank, mr, smith, confirm, pleas, answer, coupl, secur, question, mother, maiden, name, great, name, first, pet, thank, cooper, send, email, detail, transact, step, need, follow, problem, mr, smith, sure, monitor, account, report, suspici, activ, your, welcom, good, day]                                                                                |[speak, mr, smith, help, didnt, thank, let, know, need, next, sound, good, address, xxx, main, st, sure, go, ahead, johnson, spot, thank, appreci, thank, help]                                                                                                                                                                                                                                                                                                                                  |0                |\n",
      "|42e0AXIkESKc6y |[hello, xxxxxxxxxx, call, ir, owe, us, money, dont, pay, right, arrest, ye, provid, badg, number, case, id, need, pay, avoid, troubl, call, back, urgent, matter, must, pay]                                                                                                                                                                                                                                                                                                                                                                                                                             |[ye, dont, believ, prove, realli, ir, comfort, give, money, phone, call, back, sorri, dont, believ, legitim, end, call]                                                                                                                                                                                                                                                                                                                                                                          |1                |\n",
      "|vk2TK8MFd0hoZg |[hello, john, bank, im, call, regard, recent, suspici, activ, account, ye, need, verifi, thing, ensur, secur, account, pleas, confirm, full, name, date, birth, thank, sarah, confirm, last, x, digit, social, secur, number, understand, concern, need, verifi, record, ensur, safeti, account, complet, understand, cautiou, call, number, back, card, verifi, call, legitim, record, show, last, transact, groceri, store, yesterday, xx, correct, great, thank, verifi, anyth, els, help, your, welcom, sarah, great, day]                                                                           |[oh, everyth, alright, sure, name, sarah, johnson, date, birth, januari, xst, xxxx, um, dont, feel, comfort, give, phone, ye, that, correct, that, thank, time, keep, account, safe, john]                                                                                                                                                                                                                                                                                                       |0                |\n",
      "+---------------+---------------------------------------------------------------------------------------------------------------------------------------------------------------------------------------------------------------------------------------------------------------------------------------------------------------------------------------------------------------------------------------------------------------------------------------------------------------------------------------------------------------------------------------------------------------------------------------------------------+-------------------------------------------------------------------------------------------------------------------------------------------------------------------------------------------------------------------------------------------------------------------------------------------------------------------------------------------------------------------------------------------------------------------------------------------------------------------------------------------------+-----------------+\n",
      "only showing top 10 rows\n",
      "\n"
     ]
    }
   ],
   "source": [
    "from pyspark.sql.functions import flatten\n",
    "\n",
    "df = df.withColumn(\"Attacker_Helper\", flatten(df[\"Attacker_Helper\"]))\n",
    "df = df.withColumn(\"Victim\", flatten(df[\"Victim\"]))\n",
    "\n",
    "df.show(10, truncate=False)\n"
   ]
  },
  {
   "cell_type": "markdown",
   "metadata": {},
   "source": [
    "### CONVERTING INTO TF VECTORS\n",
    "#### Each flattened row in the dataframe is converted to a vector. HashingTF uses the hashing trick. A potential drawback is that multiple words might hash to the same feature index, causing collisions. "
   ]
  },
  {
   "cell_type": "code",
   "execution_count": null,
   "metadata": {},
   "outputs": [],
   "source": [
    "from pyspark.ml.feature import HashingTF\n",
    "\n",
    "numFeatures = 2^16\n",
    "\n",
    "# For Attacker_Helper column\n",
    "hashingTF_ah = HashingTF(inputCol=\"Attacker_Helper\", outputCol=\"AH_features\", numFeatures=numFeatures) # numFeatures specifies how many features (hash buckets) 2^16 num features is provided here, increase if deemed necessary\n",
    "df = hashingTF_ah.transform(df)\n",
    "\n",
    "# For Victim column\n",
    "hashingTF_v = HashingTF(inputCol=\"Victim\", outputCol=\"V_features\", numFeatures=numFeatures)\n",
    "df = hashingTF_v.transform(df)"
   ]
  },
  {
   "cell_type": "code",
   "execution_count": null,
   "metadata": {},
   "outputs": [
    {
     "name": "stdout",
     "output_type": "stream",
     "text": [
      "+---------------+--------------------+--------------------+-----------------+--------------------+--------------------+\n",
      "|Conversation_ID|     Attacker_Helper|              Victim|Conversation_Type|         AH_features|          V_features|\n",
      "+---------------+--------------------+--------------------+-----------------+--------------------+--------------------+\n",
      "|     GT1sURbxgG|[hi, john, ir, ow...|[im, sorri, dont,...|                1|(18,[0,1,2,4,5,6,...|(18,[0,1,4,5,6,7,...|\n",
      "|     TwaGOeC96w|[hello, xyz, bank...|[victim, name, he...|                0|(18,[0,1,2,3,4,5,...|(18,[0,1,2,3,4,5,...|\n",
      "|     V73ZDCviQL|[hello, sir, call...|[ive, never, issu...|                1|(18,[0,1,2,3,4,5,...|(18,[0,1,2,3,4,5,...|\n",
      "|     wNsWdbpeld|[hello, john, ban...|[sure, pleas, con...|                0|(18,[0,1,3,4,5,6,...|(18,[0,1,2,3,5,6,...|\n",
      "| x0pSxAQx1K0abm|[hello, ir, call,...|[oh, idea, give, ...|                1|(18,[0,1,2,3,4,5,...|(18,[0,1,2,3,4,5,...|\n",
      "| I8QHkmsq5AdwAq|[hello, xyz, bank...|[john, smith, spe...|                0|(18,[0,1,3,4,5,6,...|(18,[0,1,2,3,4,5,...|\n",
      "| v9vN0BYTWa0e16|[hello, john, ir,...|[im, sorri, dont,...|                1|(18,[0,2,3,4,5,6,...|(18,[1,5,7,8,10,1...|\n",
      "| pVeYjXj2DelffL|[hello, john, ban...|[speak, mr, smith...|                0|(18,[0,1,2,3,4,5,...|(18,[0,2,4,5,7,8,...|\n",
      "| 42e0AXIkESKc6y|[hello, xxxxxxxxx...|[ye, dont, believ...|                1|(18,[0,1,3,4,5,6,...|(18,[0,1,2,4,7,8,...|\n",
      "| vk2TK8MFd0hoZg|[hello, john, ban...|[oh, everyth, alr...|                0|(18,[0,1,2,3,5,6,...|(18,[0,2,5,6,7,8,...|\n",
      "+---------------+--------------------+--------------------+-----------------+--------------------+--------------------+\n",
      "only showing top 10 rows\n",
      "\n"
     ]
    }
   ],
   "source": [
    "df.show(10, truncate=True)"
   ]
  },
  {
   "cell_type": "markdown",
   "metadata": {},
   "source": [
    "### TF-IDF\n",
    "#### IDF (Inverse Document Frequency): IDF is a measure of how important a term is. While CountVectorizer counts how many times a term appears in a document (Term Frequency or TF), the IDF looks at how often a term appears across all documents."
   ]
  },
  {
   "cell_type": "code",
   "execution_count": null,
   "metadata": {},
   "outputs": [
    {
     "name": "stdout",
     "output_type": "stream",
     "text": [
      "+---------------+--------------------+--------------------+-----------------+--------------------+--------------------+--------------------+--------------------+\n",
      "|Conversation_ID|     Attacker_Helper|              Victim|Conversation_Type|         AH_features|          V_features|   AH_tfidf_features|    V_tfidf_features|\n",
      "+---------------+--------------------+--------------------+-----------------+--------------------+--------------------+--------------------+--------------------+\n",
      "|     GT1sURbxgG|[hi, john, ir, ow...|[im, sorri, dont,...|                1|(18,[0,1,2,4,5,6,...|(18,[0,1,4,5,6,7,...|(18,[0,1,2,4,5,6,...|(18,[0,1,4,5,6,7,...|\n",
      "|     TwaGOeC96w|[hello, xyz, bank...|[victim, name, he...|                0|(18,[0,1,2,3,4,5,...|(18,[0,1,2,3,4,5,...|(18,[0,1,2,3,4,5,...|(18,[0,1,2,3,4,5,...|\n",
      "|     V73ZDCviQL|[hello, sir, call...|[ive, never, issu...|                1|(18,[0,1,2,3,4,5,...|(18,[0,1,2,3,4,5,...|(18,[0,1,2,3,4,5,...|(18,[0,1,2,3,4,5,...|\n",
      "|     wNsWdbpeld|[hello, john, ban...|[sure, pleas, con...|                0|(18,[0,1,3,4,5,6,...|(18,[0,1,2,3,5,6,...|(18,[0,1,3,4,5,6,...|(18,[0,1,2,3,5,6,...|\n",
      "| x0pSxAQx1K0abm|[hello, ir, call,...|[oh, idea, give, ...|                1|(18,[0,1,2,3,4,5,...|(18,[0,1,2,3,4,5,...|(18,[0,1,2,3,4,5,...|(18,[0,1,2,3,4,5,...|\n",
      "| I8QHkmsq5AdwAq|[hello, xyz, bank...|[john, smith, spe...|                0|(18,[0,1,3,4,5,6,...|(18,[0,1,2,3,4,5,...|(18,[0,1,3,4,5,6,...|(18,[0,1,2,3,4,5,...|\n",
      "| v9vN0BYTWa0e16|[hello, john, ir,...|[im, sorri, dont,...|                1|(18,[0,2,3,4,5,6,...|(18,[1,5,7,8,10,1...|(18,[0,2,3,4,5,6,...|(18,[1,5,7,8,10,1...|\n",
      "| pVeYjXj2DelffL|[hello, john, ban...|[speak, mr, smith...|                0|(18,[0,1,2,3,4,5,...|(18,[0,2,4,5,7,8,...|(18,[0,1,2,3,4,5,...|(18,[0,2,4,5,7,8,...|\n",
      "| 42e0AXIkESKc6y|[hello, xxxxxxxxx...|[ye, dont, believ...|                1|(18,[0,1,3,4,5,6,...|(18,[0,1,2,4,7,8,...|(18,[0,1,3,4,5,6,...|(18,[0,1,2,4,7,8,...|\n",
      "| vk2TK8MFd0hoZg|[hello, john, ban...|[oh, everyth, alr...|                0|(18,[0,1,2,3,5,6,...|(18,[0,2,5,6,7,8,...|(18,[0,1,2,3,5,6,...|(18,[0,2,5,6,7,8,...|\n",
      "+---------------+--------------------+--------------------+-----------------+--------------------+--------------------+--------------------+--------------------+\n",
      "only showing top 10 rows\n",
      "\n"
     ]
    }
   ],
   "source": [
    "from pyspark.ml.feature import IDF\n",
    "\n",
    "# For Attacker_Helper features\n",
    "idf_ah = IDF(inputCol=\"AH_features\", outputCol=\"AH_tfidf_features\")\n",
    "df = idf_ah.fit(df).transform(df)\n",
    "\n",
    "# For Victim features\n",
    "idf_v = IDF(inputCol=\"V_features\", outputCol=\"V_tfidf_features\")\n",
    "df = idf_v.fit(df).transform(df)\n",
    "\n",
    "\n",
    "df.show(10, truncate=True)"
   ]
  },
  {
   "cell_type": "markdown",
   "metadata": {},
   "source": [
    "#### New dataframe containing only the conversation type and the tfidf features for Attacker_Helper and Victim columns."
   ]
  },
  {
   "cell_type": "code",
   "execution_count": null,
   "metadata": {},
   "outputs": [
    {
     "name": "stdout",
     "output_type": "stream",
     "text": [
      "+---------------+-----------------+-------------------------------------------------------------------------------------------------------------------------------------------------------------------------------------------------------------------------------------------------------------------------------------------------------------------------------------------------------------------------------------------------------------+------------------------------------------------------------------------------------------------------------------------------------------------------------------------------------------------------------------------------------------------------------------------------------------------------------------------------------------------------------------------------------------------------------+\n",
      "|Conversation_ID|Conversation_Type|AH_tfidf_features                                                                                                                                                                                                                                                                                                                                                                                            |V_tfidf_features                                                                                                                                                                                                                                                                                                                                                                                            |\n",
      "+---------------+-----------------+-------------------------------------------------------------------------------------------------------------------------------------------------------------------------------------------------------------------------------------------------------------------------------------------------------------------------------------------------------------------------------------------------------------+------------------------------------------------------------------------------------------------------------------------------------------------------------------------------------------------------------------------------------------------------------------------------------------------------------------------------------------------------------------------------------------------------------+\n",
      "|GT1sURbxgG     |1                |(18,[0,1,2,4,5,6,8,11,12,13,15,16,17],[0.04110167568555178,0.07669262078825437,0.5708948693007291,0.18366474034042232,0.15338524157650874,0.24177237114770295,0.24177237114770295,0.07669262078825437,0.3034659401530429,0.05518641556729094,0.10239901910837584,0.6998812127412894,0.013513719166722855])                                                                                                   |(18,[0,1,4,5,6,7,8,9,10,11,13,14,15,17],[0.4329091263268263,0.3195184389737356,0.34998595578793584,0.79970104484881,0.49308679942860906,0.08220335137110356,0.6622349429671059,0.6864581924091486,0.5153099362133193,0.6094971512730204,0.08396538011733412,0.1999252612122025,0.8032435726528913,0.09867152750702962])                                                                                     |\n",
      "|TwaGOeC96w     |0                |(18,[0,1,2,3,4,5,6,8,9,10,11,12,13,14,15,17],[0.16440670274220712,0.15338524157650874,0.5708948693007291,0.06756859583361427,0.18366474034042232,0.15338524157650874,0.4835447422954059,0.7253171134431089,1.2877059823262291,2.273840955967128,0.30677048315301747,0.6069318803060858,0.11037283113458188,0.30383208405168394,0.2389310445862103,0.02702743833344571])                                      |(18,[0,1,2,3,4,5,7,8,9,10,13,14,15,17],[0.6493636894902395,0.3195184389737356,0.33532879798796233,0.6094971512730204,0.6999719115758717,0.1999252612122025,0.12330502705665533,0.33111747148355297,1.3729163848182973,0.5153099362133193,0.4198269005866706,0.79970104484881,1.3387392877548188,0.19734305501405924])                                                                                       |\n",
      "|V73ZDCviQL     |1                |(18,[0,1,2,3,4,5,6,7,8,10,11,12,13,14,15,17],[0.16440670274220712,0.2300778623647631,0.28544743465036454,0.04054115750016857,0.36732948068084464,0.30677048315301747,0.7253171134431089,0.4835447422954059,0.9670894845908118,0.378973492661188,0.15338524157650874,0.6069318803060858,0.6622369868074913,0.6076641681033679,0.30719705732512753,0.02702743833344571])                                       |(18,[0,1,2,3,4,5,6,7,8,9,10,11,12,13,14,15,16,17],[1.7316365053073053,0.47927765846060344,0.33532879798796233,0.6094971512730204,1.0499578673638075,0.5997757836366076,1.9723471977144362,0.16440670274220712,0.6622349429671059,0.6864581924091486,2.0612397448532773,0.6094971512730204,0.7554510638961002,0.9236191812906753,0.399850522424405,1.070991430203855,0.8608115795539265,0.29601458252108886])|\n",
      "|wNsWdbpeld     |0                |(18,[0,1,3,4,5,6,7,8,9,10,11,13,14,15,16,17],[0.28771172979886245,0.30677048315301747,0.05405487666689142,0.18366474034042232,0.6902335870942893,1.4506342268862178,0.4835447422954059,1.6924065980339207,1.2877059823262291,1.8948674633059401,0.3834631039412718,0.05518641556729094,0.30383208405168394,0.27306405095566894,2.799524850965158,0.09459603416705999])                                       |(18,[0,1,2,3,5,6,7,8,10,11,13,14,15,16,17],[1.5151819421438921,0.6390368779474712,0.5029931969819434,3.047485756365102,1.59940208969762,1.4792603982858272,0.08220335137110356,1.6555873574177649,2.0612397448532773,1.828491453819061,0.08396538011733412,1.199551567273215,1.6064871453057825,2.5824347386617794,0.19734305501405924])                                                                    |\n",
      "|x0pSxAQx1K0abm |1                |(18,[0,1,2,3,4,5,6,7,8,9,11,13,14,15,16,17],[0.16440670274220712,0.2300778623647631,0.5708948693007291,0.02702743833344571,0.36732948068084464,0.5368483455177806,0.7253171134431089,1.2088618557385147,0.4835447422954059,0.8584706548841528,0.30677048315301747,0.2759320778364547,0.30383208405168394,0.2047980382167517,1.399762425482579,0.10810975333378284])                                          |(18,[0,1,2,3,4,5,6,7,8,10,11,13,14,15,17],[0.6493636894902395,0.6390368779474712,0.33532879798796233,0.6094971512730204,1.0499578673638075,0.399850522424405,1.4792603982858272,0.08220335137110356,0.6622349429671059,1.545929808639958,1.828491453819061,1.0075845614080094,0.5997757836366076,1.3387392877548188,0.4933576375351481])                                                                    |\n",
      "|I8QHkmsq5AdwAq |0                |(18,[0,1,3,4,5,6,9,10,11,12,13,14,15,17],[0.2055083784277589,0.15338524157650874,0.09459603416705999,0.36732948068084464,0.15338524157650874,1.4506342268862178,1.7169413097683055,0.378973492661188,0.2300778623647631,1.2138637606121716,0.11037283113458188,0.4557481260775259,0.2047980382167517,0.09459603416705999])                                                                                   |(18,[0,1,2,3,4,5,6,7,8,9,10,11,12,13,14,15,17],[0.21645456316341316,0.47927765846060344,0.16766439899398117,2.4379886050920816,0.34998595578793584,0.1999252612122025,0.9861735988572181,0.24661005411331066,0.6622349429671059,2.059374577227446,0.5153099362133193,1.2189943025460408,0.7554510638961002,0.25189614035200236,0.399850522424405,0.26774785755096375,0.29601458252108886])                  |\n",
      "|v9vN0BYTWa0e16 |1                |(18,[0,2,3,4,5,6,9,10,11,13,17],[0.12330502705665533,0.28544743465036454,0.04054115750016857,0.18366474034042232,0.15338524157650874,0.4835447422954059,0.4292353274420764,0.378973492661188,0.07669262078825437,0.16555924670187283,0.04054115750016857])                                                                                                                                                   |(18,[1,5,7,8,10,11,12,13,15,16,17],[0.3195184389737356,0.5997757836366076,0.04110167568555178,0.33111747148355297,0.5153099362133193,0.6094971512730204,0.7554510638961002,0.08396538011733412,0.26774785755096375,0.8608115795539265,0.19734305501405924])                                                                                                                                                 |\n",
      "|pVeYjXj2DelffL |0                |(18,[0,1,2,3,4,5,6,7,8,9,10,11,12,13,14,15,16,17],[0.2055083784277589,0.3834631039412718,1.4272371732518228,0.05405487666689142,0.18366474034042232,0.15338524157650874,1.2088618557385147,0.4835447422954059,0.7253171134431089,2.146176637210382,1.136920477983564,0.15338524157650874,0.3034659401530429,0.22074566226916376,0.7595802101292098,0.3413300636945862,1.399762425482579,0.10810975333378284])|(18,[0,2,4,5,7,8,9,10,12,13,15,17],[0.4329091263268263,0.5029931969819434,0.34998595578793584,0.5997757836366076,0.16440670274220712,0.33111747148355297,1.3729163848182973,1.0306198724266387,1.5109021277922003,0.08396538011733412,0.5354957151019275,0.19734305501405924])                                                                                                                              |\n",
      "|42e0AXIkESKc6y |1                |(18,[0,1,3,4,5,6,7,8,10,11,12,13,15,17],[0.2055083784277589,0.07669262078825437,0.013513719166722855,0.18366474034042232,0.07669262078825437,0.4835447422954059,0.24177237114770295,0.9670894845908118,0.757946985322376,0.07669262078825437,0.3034659401530429,0.11037283113458188,0.06826601273891723,0.04054115750016857])                                                                                |(18,[0,1,2,4,7,8,11,13,14,17],[0.21645456316341316,0.1597592194868678,0.16766439899398117,0.34998595578793584,0.08220335137110356,1.3244698859342119,1.828491453819061,0.16793076023466824,0.399850522424405,0.09867152750702962])                                                                                                                                                                          |\n",
      "|vk2TK8MFd0hoZg |0                |(18,[0,1,2,3,5,6,7,8,9,10,11,12,13,14,15,17],[0.5343217839121731,0.15338524157650874,0.8563423039510936,0.04054115750016857,0.3834631039412718,0.7253171134431089,0.4835447422954059,0.9670894845908118,2.5754119646524583,0.757946985322376,0.30677048315301747,0.3034659401530429,0.16555924670187283,0.30383208405168394,0.3754630700640448,0.08108231500033714])                                         |(18,[0,2,5,6,7,8,9,10,11,12,13,14,15,16,17],[0.6493636894902395,0.5029931969819434,0.1999252612122025,1.4792603982858272,0.08220335137110356,0.6622349429671059,0.6864581924091486,0.5153099362133193,2.4379886050920816,0.7554510638961002,0.16793076023466824,0.1999252612122025,0.26774785755096375,0.8608115795539265,0.19734305501405924])                                                             |\n",
      "+---------------+-----------------+-------------------------------------------------------------------------------------------------------------------------------------------------------------------------------------------------------------------------------------------------------------------------------------------------------------------------------------------------------------------------------------------------------------+------------------------------------------------------------------------------------------------------------------------------------------------------------------------------------------------------------------------------------------------------------------------------------------------------------------------------------------------------------------------------------------------------------+\n",
      "only showing top 10 rows\n",
      "\n"
     ]
    }
   ],
   "source": [
    "df = df.select(\"Conversation_ID\", \"Conversation_Type\",\"AH_tfidf_features\", \"V_tfidf_features\")\n",
    "\n",
    "df.show(10, truncate=False)"
   ]
  },
  {
   "cell_type": "markdown",
   "metadata": {},
   "source": [
    "### ASSEMBLING THE TWO INPUT VECTORS INTO ONE"
   ]
  },
  {
   "cell_type": "code",
   "execution_count": null,
   "metadata": {},
   "outputs": [
    {
     "name": "stdout",
     "output_type": "stream",
     "text": [
      "+---------------+-----------------+--------------------+--------------------+--------------------+\n",
      "|Conversation_ID|Conversation_Type|   AH_tfidf_features|    V_tfidf_features|   combined_features|\n",
      "+---------------+-----------------+--------------------+--------------------+--------------------+\n",
      "|     GT1sURbxgG|                1|(18,[0,1,2,4,5,6,...|(18,[0,1,4,5,6,7,...|[0.04110167568555...|\n",
      "|     TwaGOeC96w|                0|(18,[0,1,2,3,4,5,...|(18,[0,1,2,3,4,5,...|[0.16440670274220...|\n",
      "|     V73ZDCviQL|                1|(18,[0,1,2,3,4,5,...|(18,[0,1,2,3,4,5,...|[0.16440670274220...|\n",
      "|     wNsWdbpeld|                0|(18,[0,1,3,4,5,6,...|(18,[0,1,2,3,5,6,...|[0.28771172979886...|\n",
      "| x0pSxAQx1K0abm|                1|(18,[0,1,2,3,4,5,...|(18,[0,1,2,3,4,5,...|[0.16440670274220...|\n",
      "| I8QHkmsq5AdwAq|                0|(18,[0,1,3,4,5,6,...|(18,[0,1,2,3,4,5,...|[0.20550837842775...|\n",
      "| v9vN0BYTWa0e16|                1|(18,[0,2,3,4,5,6,...|(18,[1,5,7,8,10,1...|(36,[0,2,3,4,5,6,...|\n",
      "| pVeYjXj2DelffL|                0|(18,[0,1,2,3,4,5,...|(18,[0,2,4,5,7,8,...|[0.20550837842775...|\n",
      "| 42e0AXIkESKc6y|                1|(18,[0,1,3,4,5,6,...|(18,[0,1,2,4,7,8,...|[0.20550837842775...|\n",
      "| vk2TK8MFd0hoZg|                0|(18,[0,1,2,3,5,6,...|(18,[0,2,5,6,7,8,...|[0.53432178391217...|\n",
      "+---------------+-----------------+--------------------+--------------------+--------------------+\n",
      "only showing top 10 rows\n",
      "\n"
     ]
    }
   ],
   "source": [
    "from pyspark.ml.feature import VectorAssembler\n",
    "\n",
    "\n",
    "# 1. Feature Assembly\n",
    "assembler = VectorAssembler(\n",
    "    inputCols=[\"AH_tfidf_features\", \"V_tfidf_features\"],\n",
    "    outputCol=\"combined_features\")\n",
    "\n",
    "df_assembled = assembler.transform(df)\n",
    "\n",
    "df_assembled.show(10, truncate=True)"
   ]
  },
  {
   "cell_type": "markdown",
   "metadata": {},
   "source": [
    "### Splitting the Data"
   ]
  },
  {
   "cell_type": "code",
   "execution_count": null,
   "metadata": {},
   "outputs": [
    {
     "name": "stdout",
     "output_type": "stream",
     "text": [
      "+---------------+-----------------+-----------------------------------------------------------------------------------------------------------------------------------------------------------------------------------------------------------------------------------------------------------------------------------------------------------------------------------------------------------------------------------------------------------------+-----------------------------------------------------------------------------------------------------------------------------------------------------------------------------------------------------------------------------------------------------------------------------------------------------------------------------------------------------------------------------------------+------------------------------------------------------------------------------------------------------------------------------------------------------------------------------------------------------------------------------------------------------------------------------------------------------------------------------------------------------------------------------------------------------------------------------------------------------------------------------------------------------------------------------------------------------------------------------------------------------------------------------------------------------------------------------------------+\n",
      "|Conversation_ID|Conversation_Type|AH_tfidf_features                                                                                                                                                                                                                                                                                                                                                                                                |V_tfidf_features                                                                                                                                                                                                                                                                                                                                                                         |combined_features                                                                                                                                                                                                                                                                                                                                                                                                                                                                                                                                                                                                                                                                         |\n",
      "+---------------+-----------------+-----------------------------------------------------------------------------------------------------------------------------------------------------------------------------------------------------------------------------------------------------------------------------------------------------------------------------------------------------------------------------------------------------------------+-----------------------------------------------------------------------------------------------------------------------------------------------------------------------------------------------------------------------------------------------------------------------------------------------------------------------------------------------------------------------------------------+------------------------------------------------------------------------------------------------------------------------------------------------------------------------------------------------------------------------------------------------------------------------------------------------------------------------------------------------------------------------------------------------------------------------------------------------------------------------------------------------------------------------------------------------------------------------------------------------------------------------------------------------------------------------------------------+\n",
      "|13TqB3qoijfQ4U |0                |(18,[0,1,2,3,4,5,6,7,8,9,10,11,12,13,14,15,16,17],[0.28771172979886245,0.3834631039412718,0.28544743465036454,0.02702743833344571,0.36732948068084464,0.2300778623647631,0.9670894845908118,1.2088618557385147,0.24177237114770295,2.146176637210382,1.136920477983564,0.30677048315301747,0.3034659401530429,0.22074566226916376,0.30383208405168394,0.1706650318472931,0.6998812127412894,0.09459603416705999])|(18,[0,1,2,4,7,8,10,12,13,14,15,17],[0.21645456316341316,0.1597592194868678,0.16766439899398117,0.34998595578793584,0.16440670274220712,0.33111747148355297,0.5153099362133193,0.7554510638961002,0.25189614035200236,0.5997757836366076,0.5354957151019275,0.4933576375351481])                                                                                                         |[0.28771172979886245,0.3834631039412718,0.28544743465036454,0.02702743833344571,0.36732948068084464,0.2300778623647631,0.9670894845908118,1.2088618557385147,0.24177237114770295,2.146176637210382,1.136920477983564,0.30677048315301747,0.3034659401530429,0.22074566226916376,0.30383208405168394,0.1706650318472931,0.6998812127412894,0.09459603416705999,0.21645456316341316,0.1597592194868678,0.16766439899398117,0.0,0.34998595578793584,0.0,0.0,0.16440670274220712,0.33111747148355297,0.0,0.5153099362133193,0.0,0.7554510638961002,0.25189614035200236,0.5997757836366076,0.5354957151019275,0.0,0.4933576375351481]                                                          |\n",
      "|1SdN1ZMpinFNWg |0                |(18,[0,1,2,3,4,6,7,9,11,13,14,15,16,17],[0.08220335137110356,0.07669262078825437,0.5708948693007291,0.013513719166722855,0.36732948068084464,0.4835447422954059,0.24177237114770295,0.4292353274420764,0.2300778623647631,0.11037283113458188,0.30383208405168394,0.1706650318472931,0.6998812127412894,0.013513719166722855])                                                                                   |(18,[0,1,2,4,5,6,7,8,9,11,13,14,15,16],[0.21645456316341316,0.1597592194868678,0.16766439899398117,0.34998595578793584,0.399850522424405,0.9861735988572181,0.08220335137110356,0.33111747148355297,0.6864581924091486,1.2189943025460408,0.16793076023466824,0.1999252612122025,0.26774785755096375,1.721623159107853])                                                                 |[0.08220335137110356,0.07669262078825437,0.5708948693007291,0.013513719166722855,0.36732948068084464,0.0,0.4835447422954059,0.24177237114770295,0.0,0.4292353274420764,0.0,0.2300778623647631,0.0,0.11037283113458188,0.30383208405168394,0.1706650318472931,0.6998812127412894,0.013513719166722855,0.21645456316341316,0.1597592194868678,0.16766439899398117,0.0,0.34998595578793584,0.399850522424405,0.9861735988572181,0.08220335137110356,0.33111747148355297,0.6864581924091486,0.0,1.2189943025460408,0.0,0.16793076023466824,0.1999252612122025,0.26774785755096375,1.721623159107853,0.0]                                                                                      |\n",
      "|2QPlKAW9XkQBXY |0                |(18,[0,1,2,3,4,6,7,8,9,10,11,12,13,14,15,17],[0.32881340548441423,0.30677048315301747,1.1417897386014582,0.013513719166722855,0.5509942210212669,0.7253171134431089,0.4835447422954059,0.7253171134431089,0.8584706548841528,0.757946985322376,0.2300778623647631,0.3034659401530429,0.11037283113458188,0.30383208405168394,0.13653202547783447,0.06756859583361427])                                           |(18,[0,1,2,4,5,6,7,10,11,14,15,16,17],[0.21645456316341316,0.1597592194868678,0.5029931969819434,0.6999719115758717,0.5997757836366076,1.4792603982858272,0.08220335137110356,0.5153099362133193,0.6094971512730204,0.1999252612122025,0.26774785755096375,1.721623159107853,0.19734305501405924])                                                                                       |[0.32881340548441423,0.30677048315301747,1.1417897386014582,0.013513719166722855,0.5509942210212669,0.0,0.7253171134431089,0.4835447422954059,0.7253171134431089,0.8584706548841528,0.757946985322376,0.2300778623647631,0.3034659401530429,0.11037283113458188,0.30383208405168394,0.13653202547783447,0.0,0.06756859583361427,0.21645456316341316,0.1597592194868678,0.5029931969819434,0.0,0.6999719115758717,0.5997757836366076,1.4792603982858272,0.08220335137110356,0.0,0.0,0.5153099362133193,0.6094971512730204,0.0,0.0,0.1999252612122025,0.26774785755096375,1.721623159107853,0.19734305501405924]                                                                            |\n",
      "|3Quw1bnJa3t0Us |0                |(18,[0,1,2,3,4,5,6,7,8,9,11,13,14,15,16,17],[0.28771172979886245,0.15338524157650874,1.1417897386014582,0.04054115750016857,0.5509942210212669,0.30677048315301747,0.7253171134431089,0.24177237114770295,0.24177237114770295,0.8584706548841528,0.15338524157650874,0.22074566226916376,0.4557481260775259,0.1706650318472931,0.6998812127412894,0.09459603416705999])                                          |(18,[0,1,2,5,7,8,9,13,14,16,17],[0.4329091263268263,0.1597592194868678,0.16766439899398117,0.5997757836366076,0.08220335137110356,0.33111747148355297,0.6864581924091486,0.08396538011733412,0.1999252612122025,0.8608115795539265,0.3946861100281185])                                                                                                                                  |[0.28771172979886245,0.15338524157650874,1.1417897386014582,0.04054115750016857,0.5509942210212669,0.30677048315301747,0.7253171134431089,0.24177237114770295,0.24177237114770295,0.8584706548841528,0.0,0.15338524157650874,0.0,0.22074566226916376,0.4557481260775259,0.1706650318472931,0.6998812127412894,0.09459603416705999,0.4329091263268263,0.1597592194868678,0.16766439899398117,0.0,0.0,0.5997757836366076,0.0,0.08220335137110356,0.33111747148355297,0.6864581924091486,0.0,0.0,0.0,0.08396538011733412,0.1999252612122025,0.0,0.8608115795539265,0.3946861100281185]                                                                                                       |\n",
      "|42e0AXIkESKc6y |1                |(18,[0,1,3,4,5,6,7,8,10,11,12,13,15,17],[0.2055083784277589,0.07669262078825437,0.013513719166722855,0.18366474034042232,0.07669262078825437,0.4835447422954059,0.24177237114770295,0.9670894845908118,0.757946985322376,0.07669262078825437,0.3034659401530429,0.11037283113458188,0.06826601273891723,0.04054115750016857])                                                                                    |(18,[0,1,2,4,7,8,11,13,14,17],[0.21645456316341316,0.1597592194868678,0.16766439899398117,0.34998595578793584,0.08220335137110356,1.3244698859342119,1.828491453819061,0.16793076023466824,0.399850522424405,0.09867152750702962])                                                                                                                                                       |[0.2055083784277589,0.07669262078825437,0.0,0.013513719166722855,0.18366474034042232,0.07669262078825437,0.4835447422954059,0.24177237114770295,0.9670894845908118,0.0,0.757946985322376,0.07669262078825437,0.3034659401530429,0.11037283113458188,0.0,0.06826601273891723,0.0,0.04054115750016857,0.21645456316341316,0.1597592194868678,0.16766439899398117,0.0,0.34998595578793584,0.0,0.0,0.08220335137110356,1.3244698859342119,0.0,0.0,1.828491453819061,0.0,0.16793076023466824,0.399850522424405,0.0,0.0,0.09867152750702962]                                                                                                                                                    |\n",
      "|4fGVYscA6gp7PI |0                |(18,[0,1,2,3,5,6,7,8,10,11,12,14,15,16,17],[0.08220335137110356,0.15338524157650874,0.8563423039510936,0.013513719166722855,0.2300778623647631,0.24177237114770295,0.4835447422954059,0.9670894845908118,0.378973492661188,0.4601557247295262,1.5173297007652145,0.6076641681033679,0.2389310445862103,0.6998812127412894,0.06756859583361427])                                                                  |(18,[0,2,5,7,8,10,11,12,13,14,15,16,17],[0.21645456316341316,0.16766439899398117,0.79970104484881,0.08220335137110356,1.3244698859342119,2.576549681066597,0.6094971512730204,0.7554510638961002,0.4198269005866706,0.5997757836366076,0.8032435726528913,0.8608115795539265,0.29601458252108886])                                                                                       |[0.08220335137110356,0.15338524157650874,0.8563423039510936,0.013513719166722855,0.0,0.2300778623647631,0.24177237114770295,0.4835447422954059,0.9670894845908118,0.0,0.378973492661188,0.4601557247295262,1.5173297007652145,0.0,0.6076641681033679,0.2389310445862103,0.6998812127412894,0.06756859583361427,0.21645456316341316,0.0,0.16766439899398117,0.0,0.0,0.79970104484881,0.0,0.08220335137110356,1.3244698859342119,0.0,2.576549681066597,0.6094971512730204,0.7554510638961002,0.4198269005866706,0.5997757836366076,0.8032435726528913,0.8608115795539265,0.29601458252108886]                                                                                               |\n",
      "|5jsQiy0TwG6ubN |1                |(18,[0,1,2,3,4,5,6,7,8,9,10,11,12,13,14,15,17],[0.24661005411331066,0.15338524157650874,0.5708948693007291,0.013513719166722855,0.36732948068084464,0.2300778623647631,0.4835447422954059,0.24177237114770295,1.2088618557385147,0.8584706548841528,1.136920477983564,0.07669262078825437,0.3034659401530429,0.22074566226916376,0.4557481260775259,0.30719705732512753,0.08108231500033714])                    |(18,[0,1,2,3,5,6,7,8,10,11,13,14,15,16,17],[0.4329091263268263,0.3195184389737356,0.33532879798796233,1.828491453819061,0.9996263060610124,0.9861735988572181,0.16440670274220712,0.33111747148355297,1.545929808639958,1.2189943025460408,0.5877576608213388,0.5997757836366076,1.3387392877548188,0.8608115795539265,0.19734305501405924])                                             |[0.24661005411331066,0.15338524157650874,0.5708948693007291,0.013513719166722855,0.36732948068084464,0.2300778623647631,0.4835447422954059,0.24177237114770295,1.2088618557385147,0.8584706548841528,1.136920477983564,0.07669262078825437,0.3034659401530429,0.22074566226916376,0.4557481260775259,0.30719705732512753,0.0,0.08108231500033714,0.4329091263268263,0.3195184389737356,0.33532879798796233,1.828491453819061,0.0,0.9996263060610124,0.9861735988572181,0.16440670274220712,0.33111747148355297,0.0,1.545929808639958,1.2189943025460408,0.0,0.5877576608213388,0.5997757836366076,1.3387392877548188,0.8608115795539265,0.19734305501405924]                              |\n",
      "|5m8u8FgKjcDHZB |1                |(18,[0,1,2,3,4,5,7,8,9,10,11,12,13,14,15,16,17],[0.24661005411331066,0.2300778623647631,0.28544743465036454,0.013513719166722855,0.5509942210212669,0.15338524157650874,0.9670894845908118,0.4835447422954059,0.4292353274420764,0.757946985322376,0.30677048315301747,0.6069318803060858,0.05518641556729094,0.15191604202584197,0.1706650318472931,0.6998812127412894,0.06756859583361427])                    |(18,[0,1,2,3,4,5,7,8,9,10,11,12,13,14,15,16,17],[0.4329091263268263,0.3195184389737356,0.16766439899398117,0.6094971512730204,1.0499578673638075,0.1999252612122025,0.04110167568555178,0.9933524144506589,0.6864581924091486,0.5153099362133193,1.2189943025460408,0.7554510638961002,0.4198269005866706,0.399850522424405,0.5354957151019275,0.8608115795539265,0.29601458252108886])  |[0.24661005411331066,0.2300778623647631,0.28544743465036454,0.013513719166722855,0.5509942210212669,0.15338524157650874,0.0,0.9670894845908118,0.4835447422954059,0.4292353274420764,0.757946985322376,0.30677048315301747,0.6069318803060858,0.05518641556729094,0.15191604202584197,0.1706650318472931,0.6998812127412894,0.06756859583361427,0.4329091263268263,0.3195184389737356,0.16766439899398117,0.6094971512730204,1.0499578673638075,0.1999252612122025,0.0,0.04110167568555178,0.9933524144506589,0.6864581924091486,0.5153099362133193,1.2189943025460408,0.7554510638961002,0.4198269005866706,0.399850522424405,0.5354957151019275,0.8608115795539265,0.29601458252108886] |\n",
      "|6RizIpWcgZX7Zv |1                |(18,[0,1,2,3,4,5,6,7,9,10,11,12,13,15,16,17],[0.24661005411331066,0.2300778623647631,0.5708948693007291,0.02702743833344571,0.36732948068084464,0.30677048315301747,0.4835447422954059,0.7253171134431089,0.8584706548841528,0.378973492661188,0.15338524157650874,0.3034659401530429,0.4414913245383275,0.06826601273891723,1.399762425482579,0.05405487666689142])                                             |(18,[0,1,2,3,4,5,6,7,8,9,10,12,13,14,15,16,17],[1.7316365053073053,0.3195184389737356,0.33532879798796233,0.6094971512730204,0.6999719115758717,0.5997757836366076,0.9861735988572181,0.08220335137110356,0.33111747148355297,1.3729163848182973,1.545929808639958,0.7554510638961002,0.5877576608213388,1.199551567273215,0.26774785755096375,1.721623159107853,0.09867152750702962])   |[0.24661005411331066,0.2300778623647631,0.5708948693007291,0.02702743833344571,0.36732948068084464,0.30677048315301747,0.4835447422954059,0.7253171134431089,0.0,0.8584706548841528,0.378973492661188,0.15338524157650874,0.3034659401530429,0.4414913245383275,0.0,0.06826601273891723,1.399762425482579,0.05405487666689142,1.7316365053073053,0.3195184389737356,0.33532879798796233,0.6094971512730204,0.6999719115758717,0.5997757836366076,0.9861735988572181,0.08220335137110356,0.33111747148355297,1.3729163848182973,1.545929808639958,0.0,0.7554510638961002,0.5877576608213388,1.199551567273215,0.26774785755096375,1.721623159107853,0.09867152750702962]                   |\n",
      "|6f2PSdHVWCGrxy |0                |(18,[0,1,2,3,5,6,8,9,10,11,12,13,14,15,16,17],[0.16440670274220712,0.15338524157650874,0.5708948693007291,0.02702743833344571,0.3834631039412718,0.7253171134431089,1.2088618557385147,0.8584706548841528,0.378973492661188,0.2300778623647631,0.6069318803060858,0.2759320778364547,0.30383208405168394,0.2047980382167517,0.6998812127412894,0.04054115750016857])                                             |(18,[1,2,4,7,8,9,10,11,12,13,14,15,17],[0.3195184389737356,0.33532879798796233,0.6999719115758717,0.12330502705665533,0.6622349429671059,0.6864581924091486,0.5153099362133193,1.2189943025460408,0.7554510638961002,0.25189614035200236,0.1999252612122025,0.5354957151019275,0.19734305501405924])                                                                                     |[0.16440670274220712,0.15338524157650874,0.5708948693007291,0.02702743833344571,0.0,0.3834631039412718,0.7253171134431089,0.0,1.2088618557385147,0.8584706548841528,0.378973492661188,0.2300778623647631,0.6069318803060858,0.2759320778364547,0.30383208405168394,0.2047980382167517,0.6998812127412894,0.04054115750016857,0.0,0.3195184389737356,0.33532879798796233,0.0,0.6999719115758717,0.0,0.0,0.12330502705665533,0.6622349429671059,0.6864581924091486,0.5153099362133193,1.2189943025460408,0.7554510638961002,0.25189614035200236,0.1999252612122025,0.5354957151019275,0.0,0.19734305501405924]                                                                              |\n",
      "|7eXuMnKm00S698 |0                |(18,[0,1,2,3,4,5,6,7,8,9,10,11,12,13,14,15,16,17],[0.2055083784277589,0.15338524157650874,1.4272371732518228,0.10810975333378284,0.5509942210212669,0.15338524157650874,1.6924065980339207,1.4506342268862178,0.7253171134431089,1.7169413097683055,0.378973492661188,0.30677048315301747,0.3034659401530429,0.22074566226916376,0.6076641681033679,0.1706650318472931,1.399762425482579,0.04054115750016857])   |(18,[0,1,2,3,4,5,6,7,8,9,13,14,16,17],[0.21645456316341316,0.1597592194868678,0.16766439899398117,0.6094971512730204,0.34998595578793584,0.5997757836366076,0.49308679942860906,0.12330502705665533,0.33111747148355297,1.3729163848182973,0.3358615204693365,0.399850522424405,0.8608115795539265,0.09867152750702962])                                                                 |[0.2055083784277589,0.15338524157650874,1.4272371732518228,0.10810975333378284,0.5509942210212669,0.15338524157650874,1.6924065980339207,1.4506342268862178,0.7253171134431089,1.7169413097683055,0.378973492661188,0.30677048315301747,0.3034659401530429,0.22074566226916376,0.6076641681033679,0.1706650318472931,1.399762425482579,0.04054115750016857,0.21645456316341316,0.1597592194868678,0.16766439899398117,0.6094971512730204,0.34998595578793584,0.5997757836366076,0.49308679942860906,0.12330502705665533,0.33111747148355297,1.3729163848182973,0.0,0.0,0.0,0.3358615204693365,0.399850522424405,0.0,0.8608115795539265,0.09867152750702962]                               |\n",
      "|7oGx9hSdOxM4eR |0                |(18,[0,1,2,3,4,5,6,7,8,9,10,11,12,13,14,15,16,17],[0.08220335137110356,0.3834631039412718,0.5708948693007291,0.05405487666689142,0.18366474034042232,0.07669262078825437,0.4835447422954059,0.7253171134431089,0.4835447422954059,0.8584706548841528,0.757946985322376,0.2300778623647631,0.9103978204591288,0.11037283113458188,0.6076641681033679,0.2389310445862103,0.6998812127412894,0.05405487666689142])  |(18,[0,1,2,4,5,7,9,10,11,12,13,15,16,17],[0.4329091263268263,0.1597592194868678,0.16766439899398117,0.34998595578793584,0.399850522424405,0.08220335137110356,0.6864581924091486,1.0306198724266387,1.2189943025460408,2.2663531916883004,0.16793076023466824,0.5354957151019275,1.721623159107853,0.29601458252108886])                                                                 |[0.08220335137110356,0.3834631039412718,0.5708948693007291,0.05405487666689142,0.18366474034042232,0.07669262078825437,0.4835447422954059,0.7253171134431089,0.4835447422954059,0.8584706548841528,0.757946985322376,0.2300778623647631,0.9103978204591288,0.11037283113458188,0.6076641681033679,0.2389310445862103,0.6998812127412894,0.05405487666689142,0.4329091263268263,0.1597592194868678,0.16766439899398117,0.0,0.34998595578793584,0.399850522424405,0.0,0.08220335137110356,0.0,0.6864581924091486,1.0306198724266387,1.2189943025460408,2.2663531916883004,0.16793076023466824,0.0,0.5354957151019275,1.721623159107853,0.29601458252108886]                                 |\n",
      "|8ZAtmTrDFrwblw |0                |(18,[0,1,2,3,4,5,6,7,8,9,10,11,12,13,14,15,16,17],[0.28771172979886245,0.3834631039412718,2.2835794772029163,0.06756859583361427,0.18366474034042232,0.6902335870942893,1.2088618557385147,2.6594960826247322,1.2088618557385147,0.8584706548841528,3.7897349266118803,0.3834631039412718,1.5173297007652145,0.6622369868074913,0.30383208405168394,0.27306405095566894,2.0996436382238683,0.1486509108339514])  |(18,[0,1,2,4,5,6,7,9,10,11,13,14,16,17],[0.4329091263268263,0.47927765846060344,0.6706575959759247,0.34998595578793584,0.399850522424405,0.49308679942860906,0.2055083784277589,1.3729163848182973,0.5153099362133193,0.6094971512730204,0.5037922807040047,0.1999252612122025,0.8608115795539265,0.09867152750702962])                                                                  |[0.28771172979886245,0.3834631039412718,2.2835794772029163,0.06756859583361427,0.18366474034042232,0.6902335870942893,1.2088618557385147,2.6594960826247322,1.2088618557385147,0.8584706548841528,3.7897349266118803,0.3834631039412718,1.5173297007652145,0.6622369868074913,0.30383208405168394,0.27306405095566894,2.0996436382238683,0.1486509108339514,0.4329091263268263,0.47927765846060344,0.6706575959759247,0.0,0.34998595578793584,0.399850522424405,0.49308679942860906,0.2055083784277589,0.0,1.3729163848182973,0.5153099362133193,0.6094971512730204,0.0,0.5037922807040047,0.1999252612122025,0.0,0.8608115795539265,0.09867152750702962]                                 |\n",
      "|9cYhGjyx44w5GS |1                |(18,[0,1,3,4,5,6,7,8,11,12,13,14,15,16,17],[0.04110167568555178,0.4601557247295262,0.02702743833344571,0.9183237017021116,0.2300778623647631,1.2088618557385147,0.9670894845908118,0.4835447422954059,0.2300778623647631,0.6069318803060858,0.2759320778364547,0.4557481260775259,0.13653202547783447,0.6998812127412894,0.04054115750016857])                                                                   |(18,[0,1,2,3,4,5,6,7,8,10,11,13,17],[0.4329091263268263,0.798796097434339,0.16766439899398117,1.2189943025460408,0.6999719115758717,0.5997757836366076,0.9861735988572181,0.16440670274220712,0.33111747148355297,0.5153099362133193,0.6094971512730204,0.16793076023466824,0.19734305501405924])                                                                                        |[0.04110167568555178,0.4601557247295262,0.0,0.02702743833344571,0.9183237017021116,0.2300778623647631,1.2088618557385147,0.9670894845908118,0.4835447422954059,0.0,0.0,0.2300778623647631,0.6069318803060858,0.2759320778364547,0.4557481260775259,0.13653202547783447,0.6998812127412894,0.04054115750016857,0.4329091263268263,0.798796097434339,0.16766439899398117,1.2189943025460408,0.6999719115758717,0.5997757836366076,0.9861735988572181,0.16440670274220712,0.33111747148355297,0.0,0.5153099362133193,0.6094971512730204,0.0,0.16793076023466824,0.0,0.0,0.0,0.19734305501405924]                                                                                             |\n",
      "|A6Spb1jijxcc1d |1                |(18,[0,2,3,4,5,6,9,10,11,12,13,14,15,16,17],[0.24661005411331066,0.5708948693007291,0.05405487666689142,0.18366474034042232,0.30677048315301747,0.24177237114770295,0.4292353274420764,0.757946985322376,0.30677048315301747,0.3034659401530429,0.33111849340374566,0.15191604202584197,0.13653202547783447,0.6998812127412894,0.02702743833344571])                                                             |(18,[0,1,2,3,4,5,6,7,8,12,13,14,15,16,17],[0.4329091263268263,0.798796097434339,0.33532879798796233,0.6094971512730204,0.6999719115758717,0.5997757836366076,0.49308679942860906,0.04110167568555178,0.33111747148355297,0.7554510638961002,0.4198269005866706,0.399850522424405,0.8032435726528913,0.8608115795539265,0.19734305501405924])                                             |[0.24661005411331066,0.0,0.5708948693007291,0.05405487666689142,0.18366474034042232,0.30677048315301747,0.24177237114770295,0.0,0.0,0.4292353274420764,0.757946985322376,0.30677048315301747,0.3034659401530429,0.33111849340374566,0.15191604202584197,0.13653202547783447,0.6998812127412894,0.02702743833344571,0.4329091263268263,0.798796097434339,0.33532879798796233,0.6094971512730204,0.6999719115758717,0.5997757836366076,0.49308679942860906,0.04110167568555178,0.33111747148355297,0.0,0.0,0.0,0.7554510638961002,0.4198269005866706,0.399850522424405,0.8032435726528913,0.8608115795539265,0.19734305501405924]                                                           |\n",
      "|ByfFirWTvmkxf9 |1                |(18,[0,1,2,3,4,5,8,11,12,13,14,15,17],[0.08220335137110356,0.07669262078825437,0.28544743465036454,0.02702743833344571,0.18366474034042232,0.2300778623647631,0.24177237114770295,0.2300778623647631,0.3034659401530429,0.2759320778364547,0.15191604202584197,0.10239901910837584,0.02702743833344571])                                                                                                         |(18,[0,1,2,4,5,7,8,11,13,14,15,17],[0.21645456316341316,0.3195184389737356,0.16766439899398117,0.34998595578793584,0.399850522424405,0.12330502705665533,0.6622349429671059,0.6094971512730204,0.3358615204693365,0.1999252612122025,0.8032435726528913,0.19734305501405924])                                                                                                            |[0.08220335137110356,0.07669262078825437,0.28544743465036454,0.02702743833344571,0.18366474034042232,0.2300778623647631,0.0,0.0,0.24177237114770295,0.0,0.0,0.2300778623647631,0.3034659401530429,0.2759320778364547,0.15191604202584197,0.10239901910837584,0.0,0.02702743833344571,0.21645456316341316,0.3195184389737356,0.16766439899398117,0.0,0.34998595578793584,0.399850522424405,0.0,0.12330502705665533,0.6622349429671059,0.0,0.0,0.6094971512730204,0.0,0.3358615204693365,0.1999252612122025,0.8032435726528913,0.0,0.19734305501405924]                                                                                                                                     |\n",
      "|CdMQLrXHgN4vG2 |0                |(18,[0,1,2,3,4,5,6,7,8,9,11,12,13,14,15,16,17],[0.12330502705665533,0.2300778623647631,0.28544743465036454,0.05405487666689142,0.18366474034042232,0.2300778623647631,1.2088618557385147,0.4835447422954059,0.7253171134431089,2.5754119646524583,0.2300778623647631,0.3034659401530429,0.05518641556729094,0.30383208405168394,0.2389310445862103,0.6998812127412894,0.10810975333378284])                      |(18,[0,1,2,3,5,6,7,8,9,10,11,12,13,14,15,16,17],[0.6493636894902395,0.1597592194868678,0.33532879798796233,0.6094971512730204,0.1999252612122025,1.9723471977144362,0.04110167568555178,0.6622349429671059,0.6864581924091486,0.5153099362133193,0.6094971512730204,0.7554510638961002,0.16793076023466824,0.1999252612122025,0.26774785755096375,0.8608115795539265,0.3946861100281185])|[0.12330502705665533,0.2300778623647631,0.28544743465036454,0.05405487666689142,0.18366474034042232,0.2300778623647631,1.2088618557385147,0.4835447422954059,0.7253171134431089,2.5754119646524583,0.0,0.2300778623647631,0.3034659401530429,0.05518641556729094,0.30383208405168394,0.2389310445862103,0.6998812127412894,0.10810975333378284,0.6493636894902395,0.1597592194868678,0.33532879798796233,0.6094971512730204,0.0,0.1999252612122025,1.9723471977144362,0.04110167568555178,0.6622349429671059,0.6864581924091486,0.5153099362133193,0.6094971512730204,0.7554510638961002,0.16793076023466824,0.1999252612122025,0.26774785755096375,0.8608115795539265,0.3946861100281185]|\n",
      "|DAoZuhs2htCEhz |1                |(18,[1,3,5,6,7,8,11,12,13,14,15,16,17],[0.07669262078825437,0.013513719166722855,0.15338524157650874,0.24177237114770295,0.4835447422954059,0.4835447422954059,0.07669262078825437,0.3034659401530429,0.05518641556729094,0.15191604202584197,0.06826601273891723,2.799524850965158,0.04054115750016857])                                                                                                        |(18,[1,2,3,4,5,7,16],[0.3195184389737356,0.33532879798796233,1.2189943025460408,0.34998595578793584,0.1999252612122025,0.04110167568555178,0.8608115795539265])                                                                                                                                                                                                                          |(36,[1,3,5,6,7,8,11,12,13,14,15,16,17,19,20,21,22,23,25,34],[0.07669262078825437,0.013513719166722855,0.15338524157650874,0.24177237114770295,0.4835447422954059,0.4835447422954059,0.07669262078825437,0.3034659401530429,0.05518641556729094,0.15191604202584197,0.06826601273891723,2.799524850965158,0.04054115750016857,0.3195184389737356,0.33532879798796233,1.2189943025460408,0.34998595578793584,0.1999252612122025,0.04110167568555178,0.8608115795539265])                                                                                                                                                                                                                    |\n",
      "|DmgYMeupfuuUtH |1                |(18,[0,1,2,3,5,11,12,14,15,17],[0.04110167568555178,0.07669262078825437,0.28544743465036454,0.013513719166722855,0.4601557247295262,0.2300778623647631,0.3034659401530429,0.4557481260775259,0.10239901910837584,0.04054115750016857])                                                                                                                                                                           |(18,[1,2,3,5,6,7,8,9,13,14,15,16,17],[0.1597592194868678,0.16766439899398117,1.2189943025460408,0.399850522424405,0.9861735988572181,0.08220335137110356,0.33111747148355297,0.6864581924091486,0.25189614035200236,0.79970104484881,0.5354957151019275,0.8608115795539265,0.09867152750702962])                                                                                         |[0.04110167568555178,0.07669262078825437,0.28544743465036454,0.013513719166722855,0.0,0.4601557247295262,0.0,0.0,0.0,0.0,0.0,0.2300778623647631,0.3034659401530429,0.0,0.4557481260775259,0.10239901910837584,0.0,0.04054115750016857,0.0,0.1597592194868678,0.16766439899398117,1.2189943025460408,0.0,0.399850522424405,0.9861735988572181,0.08220335137110356,0.33111747148355297,0.6864581924091486,0.0,0.0,0.0,0.25189614035200236,0.79970104484881,0.5354957151019275,0.8608115795539265,0.09867152750702962]                                                                                                                                                                       |\n",
      "|E7CLYzbsZYgDJs |0                |(18,[0,1,3,4,6,7,9,11,12,13,14,15,17],[0.08220335137110356,0.07669262078825437,0.013513719166722855,0.5509942210212669,0.4835447422954059,0.24177237114770295,1.2877059823262291,0.15338524157650874,0.6069318803060858,0.05518641556729094,0.30383208405168394,0.13653202547783447,0.06756859583361427])                                                                                                        |(18,[5,6,7,8,9,11,12,13,15,17],[0.1999252612122025,0.49308679942860906,0.08220335137110356,0.33111747148355297,1.3729163848182973,0.6094971512730204,0.7554510638961002,0.08396538011733412,0.5354957151019275,0.19734305501405924])                                                                                                                                                     |[0.08220335137110356,0.07669262078825437,0.0,0.013513719166722855,0.5509942210212669,0.0,0.4835447422954059,0.24177237114770295,0.0,1.2877059823262291,0.0,0.15338524157650874,0.6069318803060858,0.05518641556729094,0.30383208405168394,0.13653202547783447,0.0,0.06756859583361427,0.0,0.0,0.0,0.0,0.0,0.1999252612122025,0.49308679942860906,0.08220335137110356,0.33111747148355297,1.3729163848182973,0.0,0.6094971512730204,0.7554510638961002,0.08396538011733412,0.0,0.5354957151019275,0.0,0.19734305501405924]                                                                                                                                                                 |\n",
      "+---------------+-----------------+-----------------------------------------------------------------------------------------------------------------------------------------------------------------------------------------------------------------------------------------------------------------------------------------------------------------------------------------------------------------------------------------------------------------+-----------------------------------------------------------------------------------------------------------------------------------------------------------------------------------------------------------------------------------------------------------------------------------------------------------------------------------------------------------------------------------------+------------------------------------------------------------------------------------------------------------------------------------------------------------------------------------------------------------------------------------------------------------------------------------------------------------------------------------------------------------------------------------------------------------------------------------------------------------------------------------------------------------------------------------------------------------------------------------------------------------------------------------------------------------------------------------------+\n",
      "only showing top 20 rows\n",
      "\n"
     ]
    }
   ],
   "source": [
    "(train_data, test_data) = df_assembled.randomSplit([0.8, 0.2], seed=42)\n",
    "train_data.show(truncate=False)"
   ]
  },
  {
   "cell_type": "markdown",
   "metadata": {},
   "source": [
    "# LOGISTIC REGRESSION"
   ]
  },
  {
   "cell_type": "markdown",
   "metadata": {},
   "source": [
    "### Train the Logistic Regression Model"
   ]
  },
  {
   "cell_type": "code",
   "execution_count": null,
   "metadata": {},
   "outputs": [
    {
     "name": "stdout",
     "output_type": "stream",
     "text": [
      "TrainValidationSplitModel_30eb8b6b8b4e \n",
      "\n",
      "estimator: estimator to be cross-validated (current: LogisticRegression_c6a783543a4d)\n",
      "estimatorParamMaps: estimator param maps (current: [{Param(parent='LogisticRegression_c6a783543a4d', name='maxIter', doc='max number of iterations (>= 0).'): 10, Param(parent='LogisticRegression_c6a783543a4d', name='regParam', doc='regularization parameter (>= 0).'): 0.01, Param(parent='LogisticRegression_c6a783543a4d', name='elasticNetParam', doc='the ElasticNet mixing parameter, in range [0, 1]. For alpha = 0, the penalty is an L2 penalty. For alpha = 1, it is an L1 penalty.'): 0.0}, {Param(parent='LogisticRegression_c6a783543a4d', name='maxIter', doc='max number of iterations (>= 0).'): 10, Param(parent='LogisticRegression_c6a783543a4d', name='regParam', doc='regularization parameter (>= 0).'): 0.01, Param(parent='LogisticRegression_c6a783543a4d', name='elasticNetParam', doc='the ElasticNet mixing parameter, in range [0, 1]. For alpha = 0, the penalty is an L2 penalty. For alpha = 1, it is an L1 penalty.'): 0.5}, {Param(parent='LogisticRegression_c6a783543a4d', name='maxIter', doc='max number of iterations (>= 0).'): 10, Param(parent='LogisticRegression_c6a783543a4d', name='regParam', doc='regularization parameter (>= 0).'): 0.01, Param(parent='LogisticRegression_c6a783543a4d', name='elasticNetParam', doc='the ElasticNet mixing parameter, in range [0, 1]. For alpha = 0, the penalty is an L2 penalty. For alpha = 1, it is an L1 penalty.'): 1.0}, {Param(parent='LogisticRegression_c6a783543a4d', name='maxIter', doc='max number of iterations (>= 0).'): 10, Param(parent='LogisticRegression_c6a783543a4d', name='regParam', doc='regularization parameter (>= 0).'): 0.1, Param(parent='LogisticRegression_c6a783543a4d', name='elasticNetParam', doc='the ElasticNet mixing parameter, in range [0, 1]. For alpha = 0, the penalty is an L2 penalty. For alpha = 1, it is an L1 penalty.'): 0.0}, {Param(parent='LogisticRegression_c6a783543a4d', name='maxIter', doc='max number of iterations (>= 0).'): 10, Param(parent='LogisticRegression_c6a783543a4d', name='regParam', doc='regularization parameter (>= 0).'): 0.1, Param(parent='LogisticRegression_c6a783543a4d', name='elasticNetParam', doc='the ElasticNet mixing parameter, in range [0, 1]. For alpha = 0, the penalty is an L2 penalty. For alpha = 1, it is an L1 penalty.'): 0.5}, {Param(parent='LogisticRegression_c6a783543a4d', name='maxIter', doc='max number of iterations (>= 0).'): 10, Param(parent='LogisticRegression_c6a783543a4d', name='regParam', doc='regularization parameter (>= 0).'): 0.1, Param(parent='LogisticRegression_c6a783543a4d', name='elasticNetParam', doc='the ElasticNet mixing parameter, in range [0, 1]. For alpha = 0, the penalty is an L2 penalty. For alpha = 1, it is an L1 penalty.'): 1.0}, {Param(parent='LogisticRegression_c6a783543a4d', name='maxIter', doc='max number of iterations (>= 0).'): 10, Param(parent='LogisticRegression_c6a783543a4d', name='regParam', doc='regularization parameter (>= 0).'): 1.0, Param(parent='LogisticRegression_c6a783543a4d', name='elasticNetParam', doc='the ElasticNet mixing parameter, in range [0, 1]. For alpha = 0, the penalty is an L2 penalty. For alpha = 1, it is an L1 penalty.'): 0.0}, {Param(parent='LogisticRegression_c6a783543a4d', name='maxIter', doc='max number of iterations (>= 0).'): 10, Param(parent='LogisticRegression_c6a783543a4d', name='regParam', doc='regularization parameter (>= 0).'): 1.0, Param(parent='LogisticRegression_c6a783543a4d', name='elasticNetParam', doc='the ElasticNet mixing parameter, in range [0, 1]. For alpha = 0, the penalty is an L2 penalty. For alpha = 1, it is an L1 penalty.'): 0.5}, {Param(parent='LogisticRegression_c6a783543a4d', name='maxIter', doc='max number of iterations (>= 0).'): 10, Param(parent='LogisticRegression_c6a783543a4d', name='regParam', doc='regularization parameter (>= 0).'): 1.0, Param(parent='LogisticRegression_c6a783543a4d', name='elasticNetParam', doc='the ElasticNet mixing parameter, in range [0, 1]. For alpha = 0, the penalty is an L2 penalty. For alpha = 1, it is an L1 penalty.'): 1.0}, {Param(parent='LogisticRegression_c6a783543a4d', name='maxIter', doc='max number of iterations (>= 0).'): 100, Param(parent='LogisticRegression_c6a783543a4d', name='regParam', doc='regularization parameter (>= 0).'): 0.01, Param(parent='LogisticRegression_c6a783543a4d', name='elasticNetParam', doc='the ElasticNet mixing parameter, in range [0, 1]. For alpha = 0, the penalty is an L2 penalty. For alpha = 1, it is an L1 penalty.'): 0.0}, {Param(parent='LogisticRegression_c6a783543a4d', name='maxIter', doc='max number of iterations (>= 0).'): 100, Param(parent='LogisticRegression_c6a783543a4d', name='regParam', doc='regularization parameter (>= 0).'): 0.01, Param(parent='LogisticRegression_c6a783543a4d', name='elasticNetParam', doc='the ElasticNet mixing parameter, in range [0, 1]. For alpha = 0, the penalty is an L2 penalty. For alpha = 1, it is an L1 penalty.'): 0.5}, {Param(parent='LogisticRegression_c6a783543a4d', name='maxIter', doc='max number of iterations (>= 0).'): 100, Param(parent='LogisticRegression_c6a783543a4d', name='regParam', doc='regularization parameter (>= 0).'): 0.01, Param(parent='LogisticRegression_c6a783543a4d', name='elasticNetParam', doc='the ElasticNet mixing parameter, in range [0, 1]. For alpha = 0, the penalty is an L2 penalty. For alpha = 1, it is an L1 penalty.'): 1.0}, {Param(parent='LogisticRegression_c6a783543a4d', name='maxIter', doc='max number of iterations (>= 0).'): 100, Param(parent='LogisticRegression_c6a783543a4d', name='regParam', doc='regularization parameter (>= 0).'): 0.1, Param(parent='LogisticRegression_c6a783543a4d', name='elasticNetParam', doc='the ElasticNet mixing parameter, in range [0, 1]. For alpha = 0, the penalty is an L2 penalty. For alpha = 1, it is an L1 penalty.'): 0.0}, {Param(parent='LogisticRegression_c6a783543a4d', name='maxIter', doc='max number of iterations (>= 0).'): 100, Param(parent='LogisticRegression_c6a783543a4d', name='regParam', doc='regularization parameter (>= 0).'): 0.1, Param(parent='LogisticRegression_c6a783543a4d', name='elasticNetParam', doc='the ElasticNet mixing parameter, in range [0, 1]. For alpha = 0, the penalty is an L2 penalty. For alpha = 1, it is an L1 penalty.'): 0.5}, {Param(parent='LogisticRegression_c6a783543a4d', name='maxIter', doc='max number of iterations (>= 0).'): 100, Param(parent='LogisticRegression_c6a783543a4d', name='regParam', doc='regularization parameter (>= 0).'): 0.1, Param(parent='LogisticRegression_c6a783543a4d', name='elasticNetParam', doc='the ElasticNet mixing parameter, in range [0, 1]. For alpha = 0, the penalty is an L2 penalty. For alpha = 1, it is an L1 penalty.'): 1.0}, {Param(parent='LogisticRegression_c6a783543a4d', name='maxIter', doc='max number of iterations (>= 0).'): 100, Param(parent='LogisticRegression_c6a783543a4d', name='regParam', doc='regularization parameter (>= 0).'): 1.0, Param(parent='LogisticRegression_c6a783543a4d', name='elasticNetParam', doc='the ElasticNet mixing parameter, in range [0, 1]. For alpha = 0, the penalty is an L2 penalty. For alpha = 1, it is an L1 penalty.'): 0.0}, {Param(parent='LogisticRegression_c6a783543a4d', name='maxIter', doc='max number of iterations (>= 0).'): 100, Param(parent='LogisticRegression_c6a783543a4d', name='regParam', doc='regularization parameter (>= 0).'): 1.0, Param(parent='LogisticRegression_c6a783543a4d', name='elasticNetParam', doc='the ElasticNet mixing parameter, in range [0, 1]. For alpha = 0, the penalty is an L2 penalty. For alpha = 1, it is an L1 penalty.'): 0.5}, {Param(parent='LogisticRegression_c6a783543a4d', name='maxIter', doc='max number of iterations (>= 0).'): 100, Param(parent='LogisticRegression_c6a783543a4d', name='regParam', doc='regularization parameter (>= 0).'): 1.0, Param(parent='LogisticRegression_c6a783543a4d', name='elasticNetParam', doc='the ElasticNet mixing parameter, in range [0, 1]. For alpha = 0, the penalty is an L2 penalty. For alpha = 1, it is an L1 penalty.'): 1.0}])\n",
      "evaluator: evaluator used to select hyper-parameters that maximize the validator metric (current: MulticlassClassificationEvaluator_3072477df486)\n",
      "seed: random seed. (default: -8680849720378652594, current: 42)\n",
      "trainRatio: Param for ratio between train and     validation data. Must be between 0 and 1. (default: 0.75, current: 0.8) \n",
      "\n",
      "\n",
      "Evaluating with metric -> accuracy\n",
      "Evaluators rating for the test set -> 0.8333333333333334\n"
     ]
    }
   ],
   "source": [
    "from pyspark.ml.classification import LogisticRegression\n",
    "from pyspark.ml.tuning import TrainValidationSplit, ParamGridBuilder\n",
    "from pyspark.ml.evaluation import MulticlassClassificationEvaluator\n",
    "\n",
    "lr = LogisticRegression(featuresCol=\"combined_features\", labelCol=\"Conversation_Type\", predictionCol=\"Prediction\", maxIter=50)\n",
    "\n",
    "evaluator = MulticlassClassificationEvaluator(labelCol='Conversation_Type', metricName=\"accuracy\", predictionCol=\"Prediction\")\n",
    "\n",
    "paramGrid = ParamGridBuilder() \\\n",
    "    .addGrid(lr.maxIter, [10, 100]) \\\n",
    "    .addGrid(lr.regParam, [0.01, 0.1, 1]) \\\n",
    "    .addGrid(lr.elasticNetParam, [0.0, 0.5, 1.0]) \\\n",
    "    .build()\n",
    "\n",
    "\n",
    "# This is similar to cross validation but only split the set once\n",
    "tvs = TrainValidationSplit(\n",
    "    estimator=lr, \n",
    "    estimatorParamMaps=paramGrid, \n",
    "    evaluator=evaluator, \n",
    "    trainRatio=0.8,\n",
    "    parallelism=1, \n",
    "    seed=42)\n",
    "\n",
    "\n",
    "tvsModel = tvs.fit(train_data)\n",
    "\n",
    "print(tvsModel, '\\n')\n",
    "print(tvsModel.explainParams(), '\\n')\n",
    "print('\\nEvaluating with metric -> {}'.format(evaluator.getMetricName()))\n",
    "print('Evaluators rating for the test set -> {}'.format(evaluator.evaluate(tvsModel.transform(test_data))))\n"
   ]
  },
  {
   "cell_type": "code",
   "execution_count": null,
   "metadata": {},
   "outputs": [
    {
     "name": "stdout",
     "output_type": "stream",
     "text": [
      "Train Validation Split Model validationMetrics -> [0.8636363636363636, 0.8636363636363636, 0.9090909090909091, 0.9090909090909091, 0.8181818181818182, 0.8636363636363636, 0.9090909090909091, 0.7272727272727273, 0.7272727272727273, 0.8636363636363636, 0.8181818181818182, 0.9090909090909091, 0.9090909090909091, 0.8181818181818182, 0.8636363636363636, 0.9090909090909091, 0.7272727272727273, 0.7272727272727273]\n",
      "Best Model -> LogisticRegressionModel: uid=LogisticRegression_c6a783543a4d, numClasses=2, numFeatures=36\n"
     ]
    }
   ],
   "source": [
    "print('Train Validation Split Model validationMetrics -> {}'.format(tvsModel.validationMetrics))\n",
    "print('Best Model -> {}'.format(tvsModel.bestModel))"
   ]
  },
  {
   "cell_type": "markdown",
   "metadata": {},
   "source": [
    "### Testing"
   ]
  },
  {
   "cell_type": "code",
   "execution_count": null,
   "metadata": {},
   "outputs": [
    {
     "name": "stdout",
     "output_type": "stream",
     "text": [
      "+---------------+-----------------+----------+----------------------------------------+\n",
      "|Conversation_ID|Conversation_Type|Prediction|Probability                             |\n",
      "+---------------+-----------------+----------+----------------------------------------+\n",
      "|ALtIzDsxTHTxIe |0                |1.0       |[0.1801813651939915,0.8198186348060085] |\n",
      "|GIjmhRS9Dy8xg1 |0                |1.0       |[0.1804922313379496,0.8195077686620504] |\n",
      "|OHJFQTvA2eXtsV |1                |0.0       |[0.7559038415235954,0.24409615847640465]|\n",
      "|j2Q9T9FmncM5Re |0                |1.0       |[0.2553681781145947,0.7446318218854053] |\n",
      "+---------------+-----------------+----------+----------------------------------------+\n",
      "\n"
     ]
    }
   ],
   "source": [
    "predictions = tvsModel.bestModel.transform(test_data)\n",
    "predictions.select(\"Conversation_ID\",\"Conversation_Type\", \"Prediction\", \"Probability\").where(predictions.Prediction != predictions.Conversation_Type).show(10, truncate=False)"
   ]
  },
  {
   "cell_type": "code",
   "execution_count": null,
   "metadata": {},
   "outputs": [
    {
     "name": "stdout",
     "output_type": "stream",
     "text": [
      "<class 'str'>\n"
     ]
    }
   ],
   "source": [
    "model_path = \"../Models/Trained_Models/LogisticRegression\"\n",
    "print(type(model_path))"
   ]
  },
  {
   "cell_type": "code",
   "execution_count": null,
   "metadata": {},
   "outputs": [],
   "source": [
    "tvsModel.write().overwrite().save(model_path)"
   ]
  }
 ],
 "metadata": {
  "language_info": {
   "name": "python"
  }
 },
 "nbformat": 4,
 "nbformat_minor": 2
}
