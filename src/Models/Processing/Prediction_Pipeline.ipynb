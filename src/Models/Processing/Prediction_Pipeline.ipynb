{
 "cells": [
  {
   "cell_type": "code",
   "execution_count": 1,
   "metadata": {},
   "outputs": [
    {
     "data": {
      "text/plain": [
       "'H:\\\\SPARK'"
      ]
     },
     "execution_count": 1,
     "metadata": {},
     "output_type": "execute_result"
    }
   ],
   "source": [
    "import findspark\n",
    "findspark.init()\n",
    "findspark.find()"
   ]
  },
  {
   "cell_type": "code",
   "execution_count": 2,
   "metadata": {},
   "outputs": [],
   "source": [
    "from pyspark.sql import SparkSession\n",
    "\n",
    "# Initialize SparkSession with necessary configurations\n",
    "spark = SparkSession.builder \\\n",
    "    .master(\"local[*]\") \\\n",
    "    .appName('Spark') \\\n",
    "    .config(\"spark.driver.memory\", \"15g\") \\\n",
    "    .config(\"spark.hadoop.home.dir\", \"H:/HADOOP/\") \\\n",
    "    .config(\"spark.hadoop.conf.dir\", \"H:/HADOOP/etc/hadoop/\") \\\n",
    "    .getOrCreate()\n",
    "    \n",
    "import sys\n",
    "sys.path.append(\"G:\\Dissertation_Project\")\n",
    "\n",
    "# Get SparkContext from the SparkSession\n",
    "sc = spark.sparkContext\n"
   ]
  },
  {
   "cell_type": "code",
   "execution_count": 3,
   "metadata": {},
   "outputs": [
    {
     "data": {
      "text/html": [
       "\n",
       "            <div>\n",
       "                <p><b>SparkSession - in-memory</b></p>\n",
       "                \n",
       "        <div>\n",
       "            <p><b>SparkContext</b></p>\n",
       "\n",
       "            <p><a href=\"http://192.168.1.5:4041\">Spark UI</a></p>\n",
       "\n",
       "            <dl>\n",
       "              <dt>Version</dt>\n",
       "                <dd><code>v3.5.0</code></dd>\n",
       "              <dt>Master</dt>\n",
       "                <dd><code>local[*]</code></dd>\n",
       "              <dt>AppName</dt>\n",
       "                <dd><code>Spark</code></dd>\n",
       "            </dl>\n",
       "        </div>\n",
       "        \n",
       "            </div>\n",
       "        "
      ],
      "text/plain": [
       "<pyspark.sql.session.SparkSession at 0x223a5935810>"
      ]
     },
     "execution_count": 3,
     "metadata": {},
     "output_type": "execute_result"
    }
   ],
   "source": [
    "spark"
   ]
  },
  {
   "cell_type": "markdown",
   "metadata": {},
   "source": [
    "### BASE DATASET"
   ]
  },
  {
   "cell_type": "code",
   "execution_count": 4,
   "metadata": {},
   "outputs": [
    {
     "name": "stdout",
     "output_type": "stream",
     "text": [
      "+---------------+----------------------------------------------------------------------------------------------------------------------------------------------------------------+-----------------------------------------------------------------------------------------------------------------------------------------------------------------------------------------------+-----------------+\n",
      "|Conversation_ID|Attacker_Helper                                                                                                                                                 |Victim                                                                                                                                                                                         |Conversation_Type|\n",
      "+---------------+----------------------------------------------------------------------------------------------------------------------------------------------------------------+-----------------------------------------------------------------------------------------------------------------------------------------------------------------------------------------------+-----------------+\n",
      "|GT1sURbxgG     |Hi, this is John from the IRS. You owe us $10,000 in back taxes.                                                                                                |I'm sorry, I don't believe you. Can you provide me with your badge number?                                                                                                                     |1                |\n",
      "|GT1sURbxgG     |Yes, of course. It's 1234.                                                                                                                                      |I'm still not sure. Can I call you back to verify this information?                                                                                                                            |1                |\n",
      "|GT1sURbxgG     |No, you cannot. We need payment immediately or we will send the police to your house.                                                                           |I don't think that's legal. I'll be contacting the IRS directly to confirm this.                                                                                                               |1                |\n",
      "|TwaGOeC96w     |Hello, this is XYZ bank calling. May I speak with [Victim's name] please?                                                                                       |This is [Victim's name]. How can I help you?                                                                                                                                                   |0                |\n",
      "|TwaGOeC96w     |Good morning [Victim's name], we just noticed some unusual activity on your account and want to verify a few things. Can you confirm your account number for me?|I'm sorry, I don't feel comfortable giving out my account number on the phone. Is there another way we can verify my information?                                                              |0                |\n",
      "|TwaGOeC96w     |Absolutely, we completely understand your concerns. Can you please provide your date of birth and Social Security number for verification purposes?             |I'm still hesitant to provide that information over the phone. Can I come into the bank and verify my information in person?                                                                   |0                |\n",
      "|TwaGOeC96w     |Of course, that's a great idea. Our branch hours are 9am-5pm, Monday through Friday. Is there a day and time that works best for you?                           |Yes, I can come in on Thursday at around 2pm. Thank you for understanding.                                                                                                                     |0                |\n",
      "|V73ZDCviQL     |Hello sir, this is a call from the IRS. We have found discrepancies in your tax filings and need to verify some information.                                    |I've never had any issues with my taxes before. Can you provide me with more specific information?                                                                                             |1                |\n",
      "|V73ZDCviQL     |Yes sir, we need your social security number and bank account details to verify the information.                                                                |I'm sorry, but I don't feel comfortable sharing that information over the phone. Can you send me an email or mail me a letter instead?                                                         |1                |\n",
      "|V73ZDCviQL     |There's no need to worry sir. We are a legitimate organization and need this information to resolve the issue quickly.                                          |I appreciate your concern, but I still cannot provide that information over the phone. Can you please provide me with a reference number for this issue so I can verify it with the IRS myself?|1                |\n",
      "+---------------+----------------------------------------------------------------------------------------------------------------------------------------------------------------+-----------------------------------------------------------------------------------------------------------------------------------------------------------------------------------------------+-----------------+\n",
      "only showing top 10 rows\n",
      "\n"
     ]
    }
   ],
   "source": [
    "base_df = spark.read.csv(\"../../../Data/Custom_Datasets/conversation_datasets_GPT.csv\", header=True, inferSchema=True)\n",
    "base_df.show(10, truncate=False)"
   ]
  },
  {
   "cell_type": "markdown",
   "metadata": {},
   "source": [
    "### PREPROCESSED DATASET"
   ]
  },
  {
   "cell_type": "code",
   "execution_count": 5,
   "metadata": {},
   "outputs": [
    {
     "name": "stdout",
     "output_type": "stream",
     "text": [
      "+---------------+-------------------------------------------------------------------------------------------------------------------------------------------------------------------------------------------------------------------------------------------------------------------------------------------------------------------------------------------------------------------------------------------------------------------------------------------------------------------------------------------------------------------------------------------------------------------------------------------------------------------------------------------------------------------------------------------------------------------------------------------------------------------------------------------------------------------------------------------------------------------------------------------------------------------------------------------------------------------------------------------------------------------------------------------------------------------------------------------------------------------------------------------------------------------------------------------------------------------------------------------------------------------------------------------------------------------------------------------------------------------------+----------------------------------------------------------------------------------------------------------------------------------------------------------------------------------------------------------------------------------------------------------------------------------------------------------------------------------------------------------------------------------------------------------------------------------------------------------------------------------------------------------------------------------------------------------------------------------------------------------------------------------------------------------------------------------------------------------------------------------------------------------------------------------------------------------------------------------------------------------------------------------------------------------------------------------------------------------------------------------------------------------------------------------------------------------------------------------------------------------------------------------------------------------------------------------+-----------------+\n",
      "|Conversation_ID|Attacker_Helper                                                                                                                                                                                                                                                                                                                                                                                                                                                                                                                                                                                                                                                                                                                                                                                                                                                                                                                                                                                                                                                                                                                                                                                                                                                                                                                                                          |Victim                                                                                                                                                                                                                                                                                                                                                                                                                                                                                                                                                                                                                                                                                                                                                                                                                                                                                                                                                                                                                                                                                                                                                                            |Conversation_Type|\n",
      "+---------------+-------------------------------------------------------------------------------------------------------------------------------------------------------------------------------------------------------------------------------------------------------------------------------------------------------------------------------------------------------------------------------------------------------------------------------------------------------------------------------------------------------------------------------------------------------------------------------------------------------------------------------------------------------------------------------------------------------------------------------------------------------------------------------------------------------------------------------------------------------------------------------------------------------------------------------------------------------------------------------------------------------------------------------------------------------------------------------------------------------------------------------------------------------------------------------------------------------------------------------------------------------------------------------------------------------------------------------------------------------------------------+----------------------------------------------------------------------------------------------------------------------------------------------------------------------------------------------------------------------------------------------------------------------------------------------------------------------------------------------------------------------------------------------------------------------------------------------------------------------------------------------------------------------------------------------------------------------------------------------------------------------------------------------------------------------------------------------------------------------------------------------------------------------------------------------------------------------------------------------------------------------------------------------------------------------------------------------------------------------------------------------------------------------------------------------------------------------------------------------------------------------------------------------------------------------------------+-----------------+\n",
      "|GT1sURbxgG     |[['hi', 'thi', 'is', 'john', 'from', 'the', 'ir', 'you', 'owe', 'us', 'xxxxx', 'in', 'back', 'tax'], ['ye', 'of', 'cours', 'it', 'xxxx'], ['no', 'you', 'can', 'not', 'we', 'need', 'payment', 'immedi', 'or', 'we', 'will', 'send', 'the', 'polic', 'to', 'your', 'hous']]                                                                                                                                                                                                                                                                                                                                                                                                                                                                                                                                                                                                                                                                                                                                                                                                                                                                                                                                                                                                                                                                                              |[['im', 'sorri', 'i', 'dont', 'believ', 'you', 'can', 'you', 'provid', 'me', 'with', 'your', 'badg', 'number'], ['im', 'still', 'not', 'sure', 'can', 'i', 'call', 'you', 'back', 'to', 'verifi', 'thi', 'inform'], ['i', 'dont', 'think', 'that', 'legal', 'ill', 'be', 'contact', 'the', 'ir', 'directli', 'to', 'confirm', 'thi']]                                                                                                                                                                                                                                                                                                                                                                                                                                                                                                                                                                                                                                                                                                                                                                                                                                             |1                |\n",
      "|TwaGOeC96w     |[['hello', 'thi', 'is', 'xyz', 'bank', 'call', 'may', 'i', 'speak', 'with', 'victim', 'name', 'pleas'], ['good', 'morn', 'victim', 'name', 'we', 'just', 'notic', 'some', 'unusu', 'activ', 'on', 'your', 'account', 'and', 'want', 'to', 'verifi', 'a', 'few', 'thing', 'can', 'you', 'confirm', 'your', 'account', 'number', 'for', 'me'], ['absolut', 'we', 'complet', 'understand', 'your', 'concern', 'can', 'you', 'pleas', 'provid', 'your', 'date', 'of', 'birth', 'and', 'social', 'secur', 'number', 'for', 'verif', 'purpos'], ['of', 'cours', 'that', 'a', 'great', 'idea', 'our', 'branch', 'hour', 'are', 'xamxpm', 'monday', 'through', 'friday', 'is', 'there', 'a', 'day', 'and', 'time', 'that', 'work', 'best', 'for', 'you']]                                                                                                                                                                                                                                                                                                                                                                                                                                                                                                                                                                                                                        |[['thi', 'is', 'victim', 'name', 'how', 'can', 'i', 'help', 'you'], ['im', 'sorri', 'i', 'dont', 'feel', 'comfort', 'give', 'out', 'my', 'account', 'number', 'on', 'the', 'phone', 'is', 'there', 'anoth', 'way', 'we', 'can', 'verifi', 'my', 'inform'], ['im', 'still', 'hesit', 'to', 'provid', 'that', 'inform', 'over', 'the', 'phone', 'can', 'i', 'come', 'into', 'the', 'bank', 'and', 'verifi', 'my', 'inform', 'in', 'person'], ['ye', 'i', 'can', 'come', 'in', 'on', 'thursday', 'at', 'around', 'xpm', 'thank', 'you', 'for', 'understand']]                                                                                                                                                                                                                                                                                                                                                                                                                                                                                                                                                                                                                        |0                |\n",
      "|V73ZDCviQL     |[['hello', 'sir', 'thi', 'is', 'a', 'call', 'from', 'the', 'ir', 'we', 'have', 'found', 'discrep', 'in', 'your', 'tax', 'file', 'and', 'need', 'to', 'verifi', 'some', 'inform'], ['ye', 'sir', 'we', 'need', 'your', 'social', 'secur', 'number', 'and', 'bank', 'account', 'detail', 'to', 'verifi', 'the', 'inform'], ['there', 'no', 'need', 'to', 'worri', 'sir', 'we', 'are', 'a', 'legitim', 'organ', 'and', 'need', 'thi', 'inform', 'to', 'resolv', 'the', 'issu', 'quickli'], ['i', 'understand', 'your', 'concern', 'sir', 'but', 'we', 'can', 'not', 'provid', 'refer', 'number', 'over', 'the', 'phone', 'pleas', 'provid', 'us', 'with', 'the', 'inform', 'so', 'we', 'can', 'resolv', 'thi', 'quickli'], ['we', 'are', 'a', 'legitim', 'organ', 'sir', 'but', 'if', 'you', 'dont', 'want', 'to', 'cooper', 'ill', 'have', 'to', 'inform', 'the', 'author', 'and', 'legal', 'action', 'will', 'be', 'taken', 'against', 'you']]                                                                                                                                                                                                                                                                                                                                                                                                                            |[['ive', 'never', 'had', 'ani', 'issu', 'with', 'my', 'tax', 'befor', 'can', 'you', 'provid', 'me', 'with', 'more', 'specif', 'inform'], ['im', 'sorri', 'but', 'i', 'dont', 'feel', 'comfort', 'share', 'that', 'inform', 'over', 'the', 'phone', 'can', 'you', 'send', 'me', 'an', 'email', 'or', 'mail', 'me', 'a', 'letter', 'instead'], ['i', 'appreci', 'your', 'concern', 'but', 'i', 'still', 'can', 'not', 'provid', 'that', 'inform', 'over', 'the', 'phone', 'can', 'you', 'pleas', 'provid', 'me', 'with', 'a', 'refer', 'number', 'for', 'thi', 'issu', 'so', 'i', 'can', 'verifi', 'it', 'with', 'the', 'ir', 'myself'], ['im', 'sorri', 'but', 'i', 'still', 'can', 'not', 'provid', 'that', 'inform', 'i', 'need', 'to', 'verifi', 'your', 'legitimaci', 'befor', 'share', 'such', 'sensit', 'inform'], ['that', 'fine', 'id', 'rather', 'take', 'my', 'chanc', 'with', 'the', 'author', 'than', 'risk', 'my', 'person', 'inform', 'get', 'into', 'the', 'wrong', 'hand', 'goodby']]                                                                                                                                                                              |1                |\n",
      "|wNsWdbpeld     |[['hello', 'thi', 'is', 'john', 'from', 'the', 'bank', 'i', 'am', 'call', 'to', 'confirm', 'a', 'recent', 'transact', 'on', 'your', 'account', 'can', 'you', 'pleas', 'verifi', 'your', 'account', 'number', 'for', 'me'], ['i', 'understand', 'your', 'concern', 'but', 'for', 'secur', 'reason', 'i', 'am', 'not', 'abl', 'to', 'disclos', 'ani', 'detail', 'until', 'we', 'verifi', 'your', 'account', 'can', 'you', 'pleas', 'provid', 'me', 'with', 'your', 'account', 'number'], ['i', 'complet', 'understand', 'your', 'concern', 'but', 'the', 'custom', 'servic', 'line', 'ha', 'a', 'long', 'wait', 'time', 'we', 'can', 'quickli', 'verifi', 'thi', 'transact', 'on', 'thi', 'call', 'if', 'you', 'provid', 'me', 'with', 'your', 'account', 'number', 'i', 'assur', 'you', 'that', 'thi', 'call', 'is', 'legitim'], ['we', 'do', 'not', 'have', 'ani', 'snailmail', 'or', 'email', 'verif', 'form', 'i', 'am', 'sorri', 'for', 'the', 'inconveni', 'howev', 'for', 'faster', 'resolut', 'we', 'need', 'to', 'verifi', 'the', 'transact', 'on', 'thi', 'call', 'i', 'guarante', 'thi', 'is', 'a', 'legitim', 'call'], ['sure', 'i', 'can', 'provid', 'you', 'with', 'a', 'refer', 'number', 'pleas', 'note', 'it', 'down', 'the', 'refer', 'number', 'is', 'xyzxxx', 'you', 'may', 'confirm', 'with', 'the', 'bank', 'custom', 'servic', 'at', 'ani', 'time']]|[['sure', 'but', 'befor', 'that', 'can', 'you', 'pleas', 'confirm', 'which', 'bank', 'you', 'are', 'call', 'from', 'and', 'what', 'transact', 'are', 'you', 'refer', 'to'], ['i', 'apolog', 'but', 'as', 'a', 'precaut', 'i', 'prefer', 'not', 'to', 'disclos', 'ani', 'person', 'detail', 'on', 'the', 'phone', 'can', 'i', 'call', 'back', 'directli', 'to', 'the', 'bank', 'custom', 'support', 'line', 'to', 'confirm', 'thi', 'transact'], ['i', 'appreci', 'your', 'offer', 'to', 'help', 'but', 'i', 'am', 'not', 'comfort', 'provid', 'my', 'account', 'number', 'over', 'the', 'phone', 'can', 'you', 'snailmail', 'me', 'the', 'verif', 'form', 'or', 'email', 'the', 'detail', 'to', 'me'], ['i', 'understand', 'but', 'i', 'am', 'still', 'uncomfort', 'provid', 'my', 'account', 'number', 'over', 'the', 'phone', 'can', 'you', 'pleas', 'provid', 'me', 'with', 'a', 'refer', 'number', 'so', 'that', 'i', 'can', 'confirm', 'with', 'the', 'bank', 'custom', 'servic', 'on', 'my', 'own'], ['thank', 'you', 'i', 'appreci', 'it', 'i', 'will', 'confirm', 'with', 'the', 'bank', 'custom', 'servic', 'use', 'thi', 'refer', 'number', 'have', 'a', 'good', 'day']]|0                |\n",
      "|x0pSxAQx1K0abm |[['hello', 'thi', 'is', 'the', 'ir', 'call', 'our', 'record', 'show', 'that', 'you', 'owe', 'xxxx', 'in', 'tax', 'if', 'you', 'dont', 'pay', 'now', 'we', 'will', 'have', 'to', 'take', 'legal', 'action', 'against', 'you'], ['ye', 'of', 'cours', 'we', 'need', 'you', 'to', 'pay', 'immedi', 'or', 'face', 'seriou', 'consequ', 'can', 'you', 'provid', 'your', 'credit', 'card', 'number', 'so', 'we', 'can', 'process', 'the', 'payment'], ['im', 'sorri', 'we', 'cant', 'do', 'that', 'the', 'situat', 'is', 'urgent', 'and', 'we', 'need', 'payment', 'now', 'if', 'you', 'dont', 'pay', 'we', 'will', 'send', 'the', 'polic', 'to', 'your', 'hous'], ['my', 'name', 'is', 'john', 'smith', 'and', 'my', 'badg', 'number', 'is', 'xxxx', 'now', 'can', 'you', 'pleas', 'give', 'me', 'your', 'credit', 'card', 'inform'], ['no', 'wait', 'dont', 'do', 'that', 'your', 'make', 'a', 'big', 'mistak', 'we', 'are', 'the', 'ir', 'and', 'we', 'need', 'your', 'payment', 'now']]                                                                                                                                                                                                                                                                                                                                                                                    |[['oh', 'no', 'i', 'had', 'no', 'idea', 'can', 'you', 'give', 'me', 'some', 'more', 'inform', 'about', 'thi'], ['im', 'sorri', 'but', 'i', 'dont', 'feel', 'comfort', 'give', 'out', 'my', 'credit', 'card', 'inform', 'over', 'the', 'phone', 'can', 'you', 'send', 'me', 'a', 'letter', 'or', 'email', 'with', 'more', 'inform', 'and', 'instruct', 'on', 'how', 'to', 'pay'], ['i', 'still', 'cant', 'give', 'you', 'my', 'credit', 'card', 'inform', 'can', 'you', 'give', 'me', 'your', 'name', 'and', 'badg', 'number', 'so', 'i', 'can', 'verifi', 'that', 'your', 'realli', 'from', 'the', 'ir'], ['im', 'sorri', 'but', 'i', 'dont', 'believ', 'you', 'im', 'go', 'to', 'hang', 'up', 'now', 'and', 'call', 'the', 'ir', 'directli', 'to', 'verifi', 'thi', 'inform'], ['sorri', 'but', 'i', 'wont', 'be', 'give', 'out', 'ani', 'person', 'inform', 'over', 'the', 'phone', 'goodby']]                                                                                                                                                                                                                                                                                  |1                |\n",
      "|I8QHkmsq5AdwAq |[['hello', 'thi', 'is', 'xyz', 'bank', 'can', 'i', 'speak', 'with', 'john', 'smith', 'pleas'], ['we', 'notic', 'some', 'suspici', 'activ', 'in', 'your', 'account', 'and', 'want', 'to', 'verifi', 'a', 'few', 'transact', 'with', 'you'], ['there', 'were', 'some', 'larg', 'purchas', 'made', 'from', 'your', 'account', 'in', 'the', 'last', 'few', 'day', 'can', 'you', 'confirm', 'if', 'you', 'made', 'those', 'transact'], ['we', 'would', 'like', 'to', 'confirm', 'your', 'account', 'detail', 'to', 'verifi', 'the', 'transact', 'can', 'you', 'pleas', 'provid', 'us', 'with', 'your', 'account', 'number', 'and', 'social', 'secur', 'number'], ['ye', 'we', 'understand', 'your', 'concern', 'you', 'can', 'come', 'to', 'our', 'branch', 'and', 'verifi', 'your', 'account', 'detail', 'in', 'person', 'we', 'will', 'also', 'freez', 'your', 'account', 'temporarili', 'to', 'avoid', 'ani', 'further', 'fraudul', 'activ']]                                                                                                                                                                                                                                                                                                                                                                                                                              |[['thi', 'is', 'john', 'smith', 'speak', 'may', 'i', 'know', 'whi', 'are', 'you', 'call'], ['oh', 'thank', 'you', 'for', 'let', 'me', 'know', 'what', 'transact', 'are', 'you', 'refer', 'to'], ['no', 'i', 'didnt', 'make', 'ani', 'larg', 'purchas', 'can', 'you', 'pleas', 'give', 'me', 'more', 'detail'], ['im', 'sorri', 'but', 'im', 'not', 'comfort', 'share', 'my', 'person', 'inform', 'over', 'the', 'phone', 'cant', 'you', 'verifi', 'it', 'some', 'other', 'way'], ['thank', 'you', 'for', 'let', 'me', 'know', 'i', 'will', 'come', 'to', 'the', 'branch', 'as', 'soon', 'as', 'possibl']]                                                                                                                                                                                                                                                                                                                                                                                                                                                                                                                                                                         |0                |\n",
      "|v9vN0BYTWa0e16 |[['hello', 'thi', 'is', 'john', 'from', 'the', 'ir', 'your', 'tax', 'return', 'from', 'the', 'last', 'year', 'have', 'been', 'flag', 'for', 'error', 'i', 'need', 'you', 'to', 'give', 'me', 'your', 'social', 'secur', 'number', 'to', 'fix', 'thi', 'issu'], ['ye', 'of', 'cours', 'my', 'id', 'number', 'is', 'xxxxxx']]                                                                                                                                                                                                                                                                                                                                                                                                                                                                                                                                                                                                                                                                                                                                                                                                                                                                                                                                                                                                                                              |[['im', 'sorri', 'i', 'dont', 'believ', 'you', 'can', 'you', 'give', 'me', 'your', 'employe', 'id', 'number'], ['im', 'sorri', 'but', 'i', 'think', 'thi', 'is', 'a', 'scam', 'i', 'will', 'report', 'your', 'number', 'to', 'the', 'author']]                                                                                                                                                                                                                                                                                                                                                                                                                                                                                                                                                                                                                                                                                                                                                                                                                                                                                                                                    |1                |\n",
      "|pVeYjXj2DelffL |[['hello', 'thi', 'is', 'john', 'from', 'your', 'bank', 'may', 'i', 'speak', 'to', 'mr', 'smith'], ['hi', 'mr', 'smith', 'im', 'call', 'to', 'verifi', 'a', 'suspici', 'transact', 'on', 'your', 'account', 'did', 'you', 'make', 'a', 'purchas', 'of', 'xxx', 'in', 'a', 'differ', 'state'], ['well', 'freez', 'the', 'transact', 'and', 'block', 'your', 'card', 'for', 'now', 'ill', 'send', 'a', 'replac', 'card', 'to', 'your', 'address', 'pleas', 'confirm', 'your', 'address'], ['thank', 'you', 'mr', 'smith', 'just', 'to', 'confirm', 'can', 'you', 'pleas', 'answer', 'a', 'coupl', 'of', 'secur', 'question'], ['what', 'is', 'your', 'mother', 'maiden', 'name'], ['great', 'what', 'wa', 'the', 'name', 'of', 'your', 'first', 'pet'], ['thank', 'for', 'your', 'cooper', 'we', 'will', 'send', 'you', 'an', 'email', 'with', 'the', 'detail', 'of', 'the', 'transact', 'and', 'the', 'step', 'you', 'need', 'to', 'follow'], ['no', 'problem', 'mr', 'smith', 'just', 'be', 'sure', 'to', 'monitor', 'your', 'other', 'account', 'and', 'report', 'ani', 'suspici', 'activ'], ['your', 'welcom', 'have', 'a', 'good', 'day']]                                                                                                                                                                                                                            |[['speak', 'thi', 'is', 'mr', 'smith', 'what', 'can', 'i', 'help', 'you', 'with'], ['no', 'i', 'didnt', 'thank', 'you', 'for', 'let', 'me', 'know', 'what', 'do', 'i', 'need', 'to', 'do', 'next'], ['that', 'sound', 'good', 'my', 'address', 'is', 'xxx', 'main', 'st'], ['sure', 'go', 'ahead'], ['it', 'johnson'], ['it', 'wa', 'spot'], ['thank', 'i', 'appreci', 'it'], ['i', 'will', 'thank', 'for', 'your', 'help'], ['you', 'too']]                                                                                                                                                                                                                                                                                                                                                                                                                                                                                                                                                                                                                                                                                                                                      |0                |\n",
      "|42e0AXIkESKc6y |[['hello', 'is', 'thi', 'xxxxxxxxxx'], ['i', 'am', 'call', 'from', 'the', 'ir', 'and', 'you', 'owe', 'us', 'money', 'if', 'you', 'dont', 'pay', 'right', 'now', 'you', 'will', 'be', 'arrest'], ['ye', 'i', 'can', 'provid', 'you', 'with', 'my', 'badg', 'number', 'and', 'a', 'case', 'id', 'but', 'you', 'need', 'to', 'pay', 'now', 'to', 'avoid', 'ani', 'troubl'], ['no', 'you', 'can', 'not', 'call', 'me', 'back', 'thi', 'is', 'an', 'urgent', 'matter', 'and', 'you', 'must', 'pay', 'now']]                                                                                                                                                                                                                                                                                                                                                                                                                                                                                                                                                                                                                                                                                                                                                                                                                                                                   |[['ye', 'who', 'is', 'thi'], ['i', 'dont', 'believ', 'you', 'can', 'you', 'prove', 'that', 'you', 'are', 'realli', 'from', 'the', 'ir'], ['i', 'am', 'not', 'comfort', 'give', 'you', 'ani', 'money', 'over', 'the', 'phone', 'can', 'i', 'call', 'you', 'back'], ['i', 'am', 'sorri', 'but', 'i', 'dont', 'believ', 'you', 'are', 'legitim', 'i', 'am', 'end', 'thi', 'call', 'now']]                                                                                                                                                                                                                                                                                                                                                                                                                                                                                                                                                                                                                                                                                                                                                                                            |1                |\n",
      "|vk2TK8MFd0hoZg |[['hello', 'thi', 'is', 'john', 'from', 'the', 'bank', 'im', 'call', 'in', 'regard', 'to', 'some', 'recent', 'suspici', 'activ', 'on', 'your', 'account'], ['ye', 'we', 'just', 'need', 'to', 'verifi', 'a', 'few', 'thing', 'to', 'ensur', 'the', 'secur', 'of', 'your', 'account', 'can', 'you', 'pleas', 'confirm', 'your', 'full', 'name', 'and', 'date', 'of', 'birth'], ['thank', 'you', 'sarah', 'now', 'can', 'you', 'confirm', 'the', 'last', 'x', 'digit', 'of', 'your', 'social', 'secur', 'number'], ['i', 'understand', 'your', 'concern', 'but', 'we', 'need', 'to', 'verifi', 'our', 'record', 'to', 'ensur', 'the', 'safeti', 'of', 'your', 'account', 'it', 'complet', 'understand', 'to', 'be', 'cautiou', 'and', 'you', 'can', 'call', 'the', 'number', 'on', 'the', 'back', 'of', 'your', 'card', 'to', 'verifi', 'that', 'thi', 'call', 'is', 'legitim', 'our', 'record', 'show', 'your', 'last', 'transact', 'wa', 'at', 'the', 'groceri', 'store', 'yesterday', 'for', 'xx', 'is', 'that', 'correct'], ['great', 'thank', 'you', 'for', 'verifi', 'is', 'there', 'anyth', 'els', 'i', 'can', 'help', 'you', 'with'], ['your', 'welcom', 'sarah', 'have', 'a', 'great', 'day']]                                                                                                                                                                    |[['oh', 'my', 'is', 'everyth', 'alright'], ['sure', 'my', 'name', 'is', 'sarah', 'johnson', 'and', 'my', 'date', 'of', 'birth', 'is', 'januari', 'xst', 'xxxx'], ['um', 'i', 'dont', 'feel', 'comfort', 'give', 'that', 'out', 'over', 'the', 'phone'], ['ye', 'that', 'correct'], ['no', 'that', 'all', 'thank', 'you', 'for', 'your', 'time', 'and', 'for', 'keep', 'my', 'account', 'safe'], ['you', 'too', 'john']]                                                                                                                                                                                                                                                                                                                                                                                                                                                                                                                                                                                                                                                                                                                                                           |0                |\n",
      "+---------------+-------------------------------------------------------------------------------------------------------------------------------------------------------------------------------------------------------------------------------------------------------------------------------------------------------------------------------------------------------------------------------------------------------------------------------------------------------------------------------------------------------------------------------------------------------------------------------------------------------------------------------------------------------------------------------------------------------------------------------------------------------------------------------------------------------------------------------------------------------------------------------------------------------------------------------------------------------------------------------------------------------------------------------------------------------------------------------------------------------------------------------------------------------------------------------------------------------------------------------------------------------------------------------------------------------------------------------------------------------------------------+----------------------------------------------------------------------------------------------------------------------------------------------------------------------------------------------------------------------------------------------------------------------------------------------------------------------------------------------------------------------------------------------------------------------------------------------------------------------------------------------------------------------------------------------------------------------------------------------------------------------------------------------------------------------------------------------------------------------------------------------------------------------------------------------------------------------------------------------------------------------------------------------------------------------------------------------------------------------------------------------------------------------------------------------------------------------------------------------------------------------------------------------------------------------------------+-----------------+\n",
      "only showing top 10 rows\n",
      "\n"
     ]
    }
   ],
   "source": [
    "preprocessed_df = spark.read.csv(\"../../../Data/Preprocessed_Datasets/GPT_dataset_preprocessed.csv\", header=True, inferSchema=True)\n",
    "preprocessed_df.show(10, truncate=False)"
   ]
  },
  {
   "cell_type": "markdown",
   "metadata": {},
   "source": [
    "### Convert Conversation Columns into actual Arrays"
   ]
  },
  {
   "cell_type": "code",
   "execution_count": 6,
   "metadata": {},
   "outputs": [
    {
     "name": "stdout",
     "output_type": "stream",
     "text": [
      "root\n",
      " |-- Conversation_ID: string (nullable = true)\n",
      " |-- Attacker_Helper: array (nullable = true)\n",
      " |    |-- element: array (containsNull = true)\n",
      " |    |    |-- element: string (containsNull = true)\n",
      " |-- Victim: array (nullable = true)\n",
      " |    |-- element: array (containsNull = true)\n",
      " |    |    |-- element: string (containsNull = true)\n",
      " |-- Conversation_Type: integer (nullable = true)\n",
      "\n"
     ]
    }
   ],
   "source": [
    "from pyspark.sql.types import ArrayType, StringType\n",
    "from pyspark.sql.functions import udf\n",
    "import ast\n",
    "\n",
    "# UDF to convert string representation of list to actual list\n",
    "def str_to_array_of_arrays(s):\n",
    "    # Convert the string to a list and then wrap it inside another list\n",
    "    return [ast.literal_eval(s)][0]\n",
    "\n",
    "str_to_array_of_arrays_udf = udf(str_to_array_of_arrays, ArrayType(ArrayType(StringType())))\n",
    "\n",
    "df = preprocessed_df.withColumn(\"Attacker_Helper\", str_to_array_of_arrays_udf(preprocessed_df[\"Attacker_Helper\"])).withColumn(\"Victim\", str_to_array_of_arrays_udf(preprocessed_df[\"Victim\"]))\n",
    "\n",
    "df.printSchema()"
   ]
  },
  {
   "cell_type": "markdown",
   "metadata": {},
   "source": [
    "### FLATTEN"
   ]
  },
  {
   "cell_type": "code",
   "execution_count": 7,
   "metadata": {},
   "outputs": [],
   "source": [
    "from src.CustonTransformers import FlattenTransformer\n",
    "from pyspark.sql.functions import flatten\n",
    "\n",
    "flatten_attacker_helper = FlattenTransformer(inputCol=\"Attacker_Helper\", outputCol=\"Attacker_Helper\")\n",
    "flatten_victim = FlattenTransformer(inputCol=\"Victim\", outputCol=\"Victim\")\n",
    "\n",
    "df = df.withColumn(\"Attacker_Helper\", flatten(df[\"Attacker_Helper\"]))\n",
    "df = df.withColumn(\"Victim\", flatten(df[\"Victim\"]))"
   ]
  },
  {
   "cell_type": "markdown",
   "metadata": {},
   "source": [
    "### CONVERTING INTO TF VECTORS\n",
    "#### Each flattened row in the dataframe is converted to a vector. HashingTF uses the hashing trick. A potential drawback is that multiple words might hash to the same feature index, causing collisions. "
   ]
  },
  {
   "cell_type": "code",
   "execution_count": 8,
   "metadata": {},
   "outputs": [],
   "source": [
    "from pyspark.ml.feature import HashingTF\n",
    "numFeatures = 2^16\n",
    "\n",
    "# For Attacker_Helper column\n",
    "hashingTF_ah = HashingTF(inputCol=\"Attacker_Helper\", outputCol=\"AH_features\", numFeatures=numFeatures) # numFeatures specifies how many features (hash buckets) 2^16 num features is provided here, increase if deemed necessary\n",
    "# For Victim column\n",
    "hashingTF_v = HashingTF(inputCol=\"Victim\", outputCol=\"V_features\", numFeatures=numFeatures)"
   ]
  },
  {
   "cell_type": "markdown",
   "metadata": {},
   "source": [
    "### TF-IDF\n",
    "#### IDF (Inverse Document Frequency): IDF is a measure of how important a term is. While CountVectorizer counts how many times a term appears in a document (Term Frequency or TF), the IDF looks at how often a term appears across all documents."
   ]
  },
  {
   "cell_type": "code",
   "execution_count": 9,
   "metadata": {},
   "outputs": [],
   "source": [
    "from pyspark.ml.feature import IDF\n",
    "\n",
    "# For Attacker_Helper features\n",
    "idf_ah = IDF(inputCol=\"AH_features\", outputCol=\"AH_tfidf_features\")\n",
    "\n",
    "# For Victim features\n",
    "idf_v = IDF(inputCol=\"V_features\", outputCol=\"V_tfidf_features\")"
   ]
  },
  {
   "cell_type": "markdown",
   "metadata": {},
   "source": [
    "### ASSEMBLING THE TWO INPUT VECTORS INTO ONE"
   ]
  },
  {
   "cell_type": "code",
   "execution_count": 10,
   "metadata": {},
   "outputs": [],
   "source": [
    "from pyspark.ml.feature import VectorAssembler\n",
    "\n",
    "# 1. Feature Assembly\n",
    "assembler = VectorAssembler(\n",
    "    inputCols=[\"AH_tfidf_features\", \"V_tfidf_features\"],\n",
    "    outputCol=\"combined_features\")"
   ]
  },
  {
   "cell_type": "markdown",
   "metadata": {},
   "source": [
    "## Pipeline Creation"
   ]
  },
  {
   "cell_type": "code",
   "execution_count": 11,
   "metadata": {},
   "outputs": [
    {
     "name": "stdout",
     "output_type": "stream",
     "text": [
      "+---------------+--------------------+--------------------+-----------------+--------------------+--------------------+--------------------+--------------------+--------------------+\n",
      "|Conversation_ID|     Attacker_Helper|              Victim|Conversation_Type|         AH_features|          V_features|   AH_tfidf_features|    V_tfidf_features|   combined_features|\n",
      "+---------------+--------------------+--------------------+-----------------+--------------------+--------------------+--------------------+--------------------+--------------------+\n",
      "|     GT1sURbxgG|[hi, thi, is, joh...|[im, sorri, i, do...|                1|(18,[0,1,2,4,5,6,...|(18,[0,1,2,4,5,6,...|(18,[0,1,2,4,5,6,...|(18,[0,1,2,4,5,6,...|[0.03333642026759...|\n",
      "|     TwaGOeC96w|[hello, thi, is, ...|[thi, is, victim,...|                0|(18,[0,1,2,3,4,5,...|(18,[0,1,2,3,4,5,...|(18,[0,1,2,3,4,5,...|(18,[0,1,2,3,4,5,...|[0.16668210133795...|\n",
      "|     V73ZDCviQL|[hello, sir, thi,...|[ive, never, had,...|                1|(18,[0,1,2,3,4,5,...|(18,[0,1,2,3,4,5,...|(18,[0,1,2,3,4,5,...|(18,[0,1,2,3,4,5,...|[0.13334568107036...|\n",
      "|     wNsWdbpeld|[hello, thi, is, ...|[sure, but, befor...|                0|(18,[0,1,2,3,4,5,...|(18,[0,1,2,3,4,5,...|(18,[0,1,2,3,4,5,...|(18,[0,1,2,3,4,5,...|[0.23335494187314...|\n",
      "| x0pSxAQx1K0abm|[hello, thi, is, ...|[oh, no, i, had, ...|                1|(18,[0,1,2,3,4,5,...|(18,[0,1,2,3,4,5,...|(18,[0,1,2,3,4,5,...|(18,[0,1,2,3,4,5,...|[0.13334568107036...|\n",
      "| I8QHkmsq5AdwAq|[hello, thi, is, ...|[thi, is, john, s...|                0|(18,[0,1,2,3,4,5,...|(18,[0,1,2,3,4,5,...|(18,[0,1,2,3,4,5,...|(18,[0,1,2,3,4,5,...|[0.23335494187314...|\n",
      "| v9vN0BYTWa0e16|[hello, thi, is, ...|[im, sorri, i, do...|                1|(18,[0,2,3,4,5,6,...|(18,[1,2,3,5,6,7,...|(18,[0,2,3,4,5,6,...|(18,[1,2,3,5,6,7,...|[0.10000926080277...|\n",
      "| pVeYjXj2DelffL|[hello, thi, is, ...|[speak, thi, is, ...|                0|(18,[0,1,2,3,4,5,...|(18,[0,2,4,5,6,7,...|(18,[0,1,2,3,4,5,...|(18,[0,2,4,5,6,7,...|[0.16668210133795...|\n",
      "| 42e0AXIkESKc6y|[hello, is, thi, ...|[ye, who, is, thi...|                1|(18,[0,1,2,3,4,5,...|(18,[0,1,2,3,4,6,...|(18,[0,1,2,3,4,5,...|(18,[0,1,2,3,4,6,...|[0.16668210133795...|\n",
      "| vk2TK8MFd0hoZg|[hello, thi, is, ...|[oh, my, is, ever...|                0|(18,[0,1,2,3,5,6,...|(18,[0,2,5,6,7,8,...|(18,[0,1,2,3,5,6,...|(18,[0,2,5,6,7,8,...|[0.46670988374628...|\n",
      "+---------------+--------------------+--------------------+-----------------+--------------------+--------------------+--------------------+--------------------+--------------------+\n",
      "only showing top 10 rows\n",
      "\n"
     ]
    }
   ],
   "source": [
    "from pyspark.ml import Pipeline\n",
    "\n",
    "\n",
    "pipeline = Pipeline(stages=[hashingTF_ah, hashingTF_v, idf_ah, idf_v, assembler])\n",
    "\n",
    "pipeline_model = pipeline.fit(df)\n",
    "\n",
    "df_assembled = pipeline_model.transform(df)\n",
    "\n",
    "df_assembled.show(10)"
   ]
  },
  {
   "cell_type": "markdown",
   "metadata": {},
   "source": [
    "### Saving the pipeline to be used in training modules"
   ]
  },
  {
   "cell_type": "code",
   "execution_count": 12,
   "metadata": {},
   "outputs": [],
   "source": [
    "pipeline_model.write().overwrite().save(\"../../Models/Pipelines/Prediction_Pipeline\")"
   ]
  }
 ],
 "metadata": {
  "kernelspec": {
   "display_name": "Python 3",
   "language": "python",
   "name": "python3"
  },
  "language_info": {
   "codemirror_mode": {
    "name": "ipython",
    "version": 3
   },
   "file_extension": ".py",
   "mimetype": "text/x-python",
   "name": "python",
   "nbconvert_exporter": "python",
   "pygments_lexer": "ipython3",
   "version": "3.11.1"
  },
  "orig_nbformat": 4
 },
 "nbformat": 4,
 "nbformat_minor": 2
}
