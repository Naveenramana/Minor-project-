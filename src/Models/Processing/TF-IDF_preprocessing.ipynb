{
 "cells": [
  {
   "cell_type": "code",
   "execution_count": 1,
   "metadata": {},
   "outputs": [
    {
     "data": {
      "text/plain": [
       "'H:\\\\SPARK'"
      ]
     },
     "execution_count": 1,
     "metadata": {},
     "output_type": "execute_result"
    }
   ],
   "source": [
    "import findspark\n",
    "findspark.init()\n",
    "findspark.find()"
   ]
  },
  {
   "cell_type": "code",
   "execution_count": 2,
   "metadata": {},
   "outputs": [],
   "source": [
    "from pyspark.sql import SparkSession\n",
    "\n",
    "# Initialize SparkSession with necessary configurations\n",
    "spark = SparkSession.builder \\\n",
    "    .master(\"local[*]\") \\\n",
    "    .appName('Spark') \\\n",
    "    .config(\"spark.driver.memory\", \"15g\") \\\n",
    "    .config(\"spark.hadoop.home.dir\", \"H:/HADOOP/\") \\\n",
    "    .config(\"spark.hadoop.conf.dir\", \"H:/HADOOP/etc/hadoop/\") \\\n",
    "    .getOrCreate()\n",
    "    \n",
    "import sys\n",
    "sys.path.append(\"G:\\Dissertation_Project\")\n",
    "\n",
    "# Get SparkContext from the SparkSession\n",
    "sc = spark.sparkContext\n"
   ]
  },
  {
   "cell_type": "code",
   "execution_count": 3,
   "metadata": {},
   "outputs": [
    {
     "data": {
      "text/html": [
       "\n",
       "            <div>\n",
       "                <p><b>SparkSession - in-memory</b></p>\n",
       "                \n",
       "        <div>\n",
       "            <p><b>SparkContext</b></p>\n",
       "\n",
       "            <p><a href=\"http://DESKTOP-J1NB2KT.mshome.net:4041\">Spark UI</a></p>\n",
       "\n",
       "            <dl>\n",
       "              <dt>Version</dt>\n",
       "                <dd><code>v3.5.0</code></dd>\n",
       "              <dt>Master</dt>\n",
       "                <dd><code>local[*]</code></dd>\n",
       "              <dt>AppName</dt>\n",
       "                <dd><code>Spark</code></dd>\n",
       "            </dl>\n",
       "        </div>\n",
       "        \n",
       "            </div>\n",
       "        "
      ],
      "text/plain": [
       "<pyspark.sql.session.SparkSession at 0x206ffd1ff50>"
      ]
     },
     "execution_count": 3,
     "metadata": {},
     "output_type": "execute_result"
    }
   ],
   "source": [
    "spark"
   ]
  },
  {
   "cell_type": "markdown",
   "metadata": {},
   "source": [
    "### BASE DATASET"
   ]
  },
  {
   "cell_type": "code",
   "execution_count": 4,
   "metadata": {},
   "outputs": [
    {
     "name": "stdout",
     "output_type": "stream",
     "text": [
      "+---------------+----------------------------------------------------------------------------------------------------------------------------------------------------------------+-----------------------------------------------------------------------------------------------------------------------------------------------------------------------------------------------+-----------------+\n",
      "|Conversation_ID|Attacker_Helper                                                                                                                                                 |Victim                                                                                                                                                                                         |Conversation_Type|\n",
      "+---------------+----------------------------------------------------------------------------------------------------------------------------------------------------------------+-----------------------------------------------------------------------------------------------------------------------------------------------------------------------------------------------+-----------------+\n",
      "|GT1sURbxgG     |Hi, this is John from the IRS. You owe us $10,000 in back taxes.                                                                                                |I'm sorry, I don't believe you. Can you provide me with your badge number?                                                                                                                     |1                |\n",
      "|GT1sURbxgG     |Yes, of course. It's 1234.                                                                                                                                      |I'm still not sure. Can I call you back to verify this information?                                                                                                                            |1                |\n",
      "|GT1sURbxgG     |No, you cannot. We need payment immediately or we will send the police to your house.                                                                           |I don't think that's legal. I'll be contacting the IRS directly to confirm this.                                                                                                               |1                |\n",
      "|TwaGOeC96w     |Hello, this is XYZ bank calling. May I speak with [Victim's name] please?                                                                                       |This is [Victim's name]. How can I help you?                                                                                                                                                   |0                |\n",
      "|TwaGOeC96w     |Good morning [Victim's name], we just noticed some unusual activity on your account and want to verify a few things. Can you confirm your account number for me?|I'm sorry, I don't feel comfortable giving out my account number on the phone. Is there another way we can verify my information?                                                              |0                |\n",
      "|TwaGOeC96w     |Absolutely, we completely understand your concerns. Can you please provide your date of birth and Social Security number for verification purposes?             |I'm still hesitant to provide that information over the phone. Can I come into the bank and verify my information in person?                                                                   |0                |\n",
      "|TwaGOeC96w     |Of course, that's a great idea. Our branch hours are 9am-5pm, Monday through Friday. Is there a day and time that works best for you?                           |Yes, I can come in on Thursday at around 2pm. Thank you for understanding.                                                                                                                     |0                |\n",
      "|V73ZDCviQL     |Hello sir, this is a call from the IRS. We have found discrepancies in your tax filings and need to verify some information.                                    |I've never had any issues with my taxes before. Can you provide me with more specific information?                                                                                             |1                |\n",
      "|V73ZDCviQL     |Yes sir, we need your social security number and bank account details to verify the information.                                                                |I'm sorry, but I don't feel comfortable sharing that information over the phone. Can you send me an email or mail me a letter instead?                                                         |1                |\n",
      "|V73ZDCviQL     |There's no need to worry sir. We are a legitimate organization and need this information to resolve the issue quickly.                                          |I appreciate your concern, but I still cannot provide that information over the phone. Can you please provide me with a reference number for this issue so I can verify it with the IRS myself?|1                |\n",
      "+---------------+----------------------------------------------------------------------------------------------------------------------------------------------------------------+-----------------------------------------------------------------------------------------------------------------------------------------------------------------------------------------------+-----------------+\n",
      "only showing top 10 rows\n",
      "\n"
     ]
    }
   ],
   "source": [
    "base_df = spark.read.csv(\"../../../Data/Custom_Datasets/conversation_datasets_GPT.csv\", header=True, inferSchema=True)\n",
    "base_df.show(10, truncate=False)"
   ]
  },
  {
   "cell_type": "markdown",
   "metadata": {},
   "source": [
    "### PREPROCESSED DATASET"
   ]
  },
  {
   "cell_type": "code",
   "execution_count": 5,
   "metadata": {},
   "outputs": [
    {
     "name": "stdout",
     "output_type": "stream",
     "text": [
      "+---------------+-------------------------------------------------------------------------------------------------------------------------------------------------------------------------------------------------------------------------------------------------------------------------------------------------------------------------------------------------------------------------------------------------------------------------------------------------------------------------------------------------------------------------------------------------------------------------------------------------------------------------------------------------------------------------------------------------------------------------------------------------------------------------+---------------------------------------------------------------------------------------------------------------------------------------------------------------------------------------------------------------------------------------------------------------------------------------------------------------------------------------------------------------------------------------------------------------------------------------------------------------------------------------------------------------------------------------------------------------------------------------------------------------------------------------+-----------------+\n",
      "|Conversation_ID|Attacker_Helper                                                                                                                                                                                                                                                                                                                                                                                                                                                                                                                                                                                                                                                                                                                                                          |Victim                                                                                                                                                                                                                                                                                                                                                                                                                                                                                                                                                                                                                                 |Conversation_Type|\n",
      "+---------------+-------------------------------------------------------------------------------------------------------------------------------------------------------------------------------------------------------------------------------------------------------------------------------------------------------------------------------------------------------------------------------------------------------------------------------------------------------------------------------------------------------------------------------------------------------------------------------------------------------------------------------------------------------------------------------------------------------------------------------------------------------------------------+---------------------------------------------------------------------------------------------------------------------------------------------------------------------------------------------------------------------------------------------------------------------------------------------------------------------------------------------------------------------------------------------------------------------------------------------------------------------------------------------------------------------------------------------------------------------------------------------------------------------------------------+-----------------+\n",
      "|GT1sURbxgG     |[['hi', 'john', 'ir', 'owe', 'us', 'xxxxx', 'back', 'tax'], ['ye', 'cours', 'xxxx'], ['need', 'payment', 'immedi', 'send', 'polic', 'hous']]                                                                                                                                                                                                                                                                                                                                                                                                                                                                                                                                                                                                                             |[['im', 'sorri', 'dont', 'believ', 'provid', 'badg', 'number'], ['im', 'still', 'sure', 'call', 'back', 'verifi', 'inform'], ['dont', 'think', 'that', 'legal', 'ill', 'contact', 'ir', 'directli', 'confirm']]                                                                                                                                                                                                                                                                                                                                                                                                                        |1                |\n",
      "|TwaGOeC96w     |[['hello', 'xyz', 'bank', 'call', 'may', 'speak', 'victim', 'name', 'pleas'], ['good', 'morn', 'victim', 'name', 'notic', 'unusu', 'activ', 'account', 'want', 'verifi', 'thing', 'confirm', 'account', 'number'], ['absolut', 'complet', 'understand', 'concern', 'pleas', 'provid', 'date', 'birth', 'social', 'secur', 'number', 'verif', 'purpos'], ['cours', 'that', 'great', 'idea', 'branch', 'hour', 'xamxpm', 'monday', 'friday', 'day', 'time', 'work', 'best']]                                                                                                                                                                                                                                                                                               |[['victim', 'name', 'help'], ['im', 'sorri', 'dont', 'feel', 'comfort', 'give', 'account', 'number', 'phone', 'anoth', 'way', 'verifi', 'inform'], ['im', 'still', 'hesit', 'provid', 'inform', 'phone', 'come', 'bank', 'verifi', 'inform', 'person'], ['ye', 'come', 'thursday', 'around', 'xpm', 'thank', 'understand']]                                                                                                                                                                                                                                                                                                            |0                |\n",
      "|V73ZDCviQL     |[['hello', 'sir', 'call', 'ir', 'found', 'discrep', 'tax', 'file', 'need', 'verifi', 'inform'], ['ye', 'sir', 'need', 'social', 'secur', 'number', 'bank', 'account', 'detail', 'verifi', 'inform'], ['there', 'need', 'worri', 'sir', 'legitim', 'organ', 'need', 'inform', 'resolv', 'issu', 'quickli'], ['understand', 'concern', 'sir', 'provid', 'refer', 'number', 'phone', 'pleas', 'provid', 'us', 'inform', 'resolv', 'quickli'], ['legitim', 'organ', 'sir', 'dont', 'want', 'cooper', 'ill', 'inform', 'author', 'legal', 'action', 'taken']]                                                                                                                                                                                                                 |[['ive', 'never', 'issu', 'tax', 'provid', 'specif', 'inform'], ['im', 'sorri', 'dont', 'feel', 'comfort', 'share', 'inform', 'phone', 'send', 'email', 'mail', 'letter', 'instead'], ['appreci', 'concern', 'still', 'provid', 'inform', 'phone', 'pleas', 'provid', 'refer', 'number', 'issu', 'verifi', 'ir'], ['im', 'sorri', 'still', 'provid', 'inform', 'need', 'verifi', 'legitimaci', 'share', 'sensit', 'inform'], ['that', 'fine', 'id', 'rather', 'take', 'chanc', 'author', 'risk', 'person', 'inform', 'get', 'wrong', 'hand', 'goodby']]                                                                                |1                |\n",
      "|wNsWdbpeld     |[['hello', 'john', 'bank', 'call', 'confirm', 'recent', 'transact', 'account', 'pleas', 'verifi', 'account', 'number'], ['understand', 'concern', 'secur', 'reason', 'abl', 'disclos', 'detail', 'verifi', 'account', 'pleas', 'provid', 'account', 'number'], ['complet', 'understand', 'concern', 'custom', 'servic', 'line', 'long', 'wait', 'time', 'quickli', 'verifi', 'transact', 'call', 'provid', 'account', 'number', 'assur', 'call', 'legitim'], ['snailmail', 'email', 'verif', 'form', 'sorri', 'inconveni', 'howev', 'faster', 'resolut', 'need', 'verifi', 'transact', 'call', 'guarante', 'legitim', 'call'], ['sure', 'provid', 'refer', 'number', 'pleas', 'note', 'refer', 'number', 'xyzxxx', 'may', 'confirm', 'bank', 'custom', 'servic', 'time']]|[['sure', 'pleas', 'confirm', 'bank', 'call', 'transact', 'refer'], ['apolog', 'precaut', 'prefer', 'disclos', 'person', 'detail', 'phone', 'call', 'back', 'directli', 'bank', 'custom', 'support', 'line', 'confirm', 'transact'], ['appreci', 'offer', 'help', 'comfort', 'provid', 'account', 'number', 'phone', 'snailmail', 'verif', 'form', 'email', 'detail'], ['understand', 'still', 'uncomfort', 'provid', 'account', 'number', 'phone', 'pleas', 'provid', 'refer', 'number', 'confirm', 'bank', 'custom', 'servic'], ['thank', 'appreci', 'confirm', 'bank', 'custom', 'servic', 'use', 'refer', 'number', 'good', 'day']]|0                |\n",
      "|x0pSxAQx1K0abm |[['hello', 'ir', 'call', 'record', 'show', 'owe', 'xxxx', 'tax', 'dont', 'pay', 'take', 'legal', 'action'], ['ye', 'cours', 'need', 'pay', 'immedi', 'face', 'seriou', 'consequ', 'provid', 'credit', 'card', 'number', 'process', 'payment'], ['im', 'sorri', 'cant', 'situat', 'urgent', 'need', 'payment', 'dont', 'pay', 'send', 'polic', 'hous'], ['name', 'john', 'smith', 'badg', 'number', 'xxxx', 'pleas', 'give', 'credit', 'card', 'inform'], ['wait', 'dont', 'your', 'make', 'big', 'mistak', 'ir', 'need', 'payment']]                                                                                                                                                                                                                                     |[['oh', 'idea', 'give', 'inform'], ['im', 'sorri', 'dont', 'feel', 'comfort', 'give', 'credit', 'card', 'inform', 'phone', 'send', 'letter', 'email', 'inform', 'instruct', 'pay'], ['still', 'cant', 'give', 'credit', 'card', 'inform', 'give', 'name', 'badg', 'number', 'verifi', 'your', 'realli', 'ir'], ['im', 'sorri', 'dont', 'believ', 'im', 'go', 'hang', 'call', 'ir', 'directli', 'verifi', 'inform'], ['sorri', 'wont', 'give', 'person', 'inform', 'phone', 'goodby']]                                                                                                                                                  |1                |\n",
      "|I8QHkmsq5AdwAq |[['hello', 'xyz', 'bank', 'speak', 'john', 'smith', 'pleas'], ['notic', 'suspici', 'activ', 'account', 'want', 'verifi', 'transact'], ['larg', 'purchas', 'made', 'account', 'last', 'day', 'confirm', 'made', 'transact'], ['would', 'like', 'confirm', 'account', 'detail', 'verifi', 'transact', 'pleas', 'provid', 'us', 'account', 'number', 'social', 'secur', 'number'], ['ye', 'understand', 'concern', 'come', 'branch', 'verifi', 'account', 'detail', 'person', 'also', 'freez', 'account', 'temporarili', 'avoid', 'fraudul', 'activ']]                                                                                                                                                                                                                      |[['john', 'smith', 'speak', 'may', 'know', 'call'], ['oh', 'thank', 'let', 'know', 'transact', 'refer'], ['didnt', 'make', 'larg', 'purchas', 'pleas', 'give', 'detail'], ['im', 'sorri', 'im', 'comfort', 'share', 'person', 'inform', 'phone', 'cant', 'verifi', 'way'], ['thank', 'let', 'know', 'come', 'branch', 'soon', 'possibl']]                                                                                                                                                                                                                                                                                              |0                |\n",
      "|v9vN0BYTWa0e16 |[['hello', 'john', 'ir', 'tax', 'return', 'last', 'year', 'flag', 'error', 'need', 'give', 'social', 'secur', 'number', 'fix', 'issu'], ['ye', 'cours', 'id', 'number', 'xxxxxx']]                                                                                                                                                                                                                                                                                                                                                                                                                                                                                                                                                                                       |[['im', 'sorri', 'dont', 'believ', 'give', 'employe', 'id', 'number'], ['im', 'sorri', 'think', 'scam', 'report', 'number', 'author']]                                                                                                                                                                                                                                                                                                                                                                                                                                                                                                 |1                |\n",
      "|pVeYjXj2DelffL |[['hello', 'john', 'bank', 'may', 'speak', 'mr', 'smith'], ['hi', 'mr', 'smith', 'im', 'call', 'verifi', 'suspici', 'transact', 'account', 'make', 'purchas', 'xxx', 'differ', 'state'], ['well', 'freez', 'transact', 'block', 'card', 'ill', 'send', 'replac', 'card', 'address', 'pleas', 'confirm', 'address'], ['thank', 'mr', 'smith', 'confirm', 'pleas', 'answer', 'coupl', 'secur', 'question'], ['mother', 'maiden', 'name'], ['great', 'name', 'first', 'pet'], ['thank', 'cooper', 'send', 'email', 'detail', 'transact', 'step', 'need', 'follow'], ['problem', 'mr', 'smith', 'sure', 'monitor', 'account', 'report', 'suspici', 'activ'], ['your', 'welcom', 'good', 'day']]                                                                              |[['speak', 'mr', 'smith', 'help'], ['didnt', 'thank', 'let', 'know', 'need', 'next'], ['sound', 'good', 'address', 'xxx', 'main', 'st'], ['sure', 'go', 'ahead'], ['johnson'], ['spot'], ['thank', 'appreci'], ['thank', 'help'], []]                                                                                                                                                                                                                                                                                                                                                                                                  |0                |\n",
      "|42e0AXIkESKc6y |[['hello', 'xxxxxxxxxx'], ['call', 'ir', 'owe', 'us', 'money', 'dont', 'pay', 'right', 'arrest'], ['ye', 'provid', 'badg', 'number', 'case', 'id', 'need', 'pay', 'avoid', 'troubl'], ['call', 'back', 'urgent', 'matter', 'must', 'pay']]                                                                                                                                                                                                                                                                                                                                                                                                                                                                                                                               |[['ye'], ['dont', 'believ', 'prove', 'realli', 'ir'], ['comfort', 'give', 'money', 'phone', 'call', 'back'], ['sorri', 'dont', 'believ', 'legitim', 'end', 'call']]                                                                                                                                                                                                                                                                                                                                                                                                                                                                    |1                |\n",
      "|vk2TK8MFd0hoZg |[['hello', 'john', 'bank', 'im', 'call', 'regard', 'recent', 'suspici', 'activ', 'account'], ['ye', 'need', 'verifi', 'thing', 'ensur', 'secur', 'account', 'pleas', 'confirm', 'full', 'name', 'date', 'birth'], ['thank', 'sarah', 'confirm', 'last', 'x', 'digit', 'social', 'secur', 'number'], ['understand', 'concern', 'need', 'verifi', 'record', 'ensur', 'safeti', 'account', 'complet', 'understand', 'cautiou', 'call', 'number', 'back', 'card', 'verifi', 'call', 'legitim', 'record', 'show', 'last', 'transact', 'groceri', 'store', 'yesterday', 'xx', 'correct'], ['great', 'thank', 'verifi', 'anyth', 'els', 'help'], ['your', 'welcom', 'sarah', 'great', 'day']]                                                                                   |[['oh', 'everyth', 'alright'], ['sure', 'name', 'sarah', 'johnson', 'date', 'birth', 'januari', 'xst', 'xxxx'], ['um', 'dont', 'feel', 'comfort', 'give', 'phone'], ['ye', 'that', 'correct'], ['that', 'thank', 'time', 'keep', 'account', 'safe'], ['john']]                                                                                                                                                                                                                                                                                                                                                                         |0                |\n",
      "+---------------+-------------------------------------------------------------------------------------------------------------------------------------------------------------------------------------------------------------------------------------------------------------------------------------------------------------------------------------------------------------------------------------------------------------------------------------------------------------------------------------------------------------------------------------------------------------------------------------------------------------------------------------------------------------------------------------------------------------------------------------------------------------------------+---------------------------------------------------------------------------------------------------------------------------------------------------------------------------------------------------------------------------------------------------------------------------------------------------------------------------------------------------------------------------------------------------------------------------------------------------------------------------------------------------------------------------------------------------------------------------------------------------------------------------------------+-----------------+\n",
      "only showing top 10 rows\n",
      "\n"
     ]
    }
   ],
   "source": [
    "preprocessed_df = spark.read.csv(\"../../../Data/Preprocessed_Datasets/GPT_dataset_preprocessed.csv\", header=True, inferSchema=True)\n",
    "preprocessed_df.show(10, truncate=False)"
   ]
  },
  {
   "cell_type": "markdown",
   "metadata": {},
   "source": [
    "### Convert Conversation Columns into actual Arrays"
   ]
  },
  {
   "cell_type": "code",
   "execution_count": 6,
   "metadata": {},
   "outputs": [
    {
     "name": "stdout",
     "output_type": "stream",
     "text": [
      "root\n",
      " |-- Conversation_ID: string (nullable = true)\n",
      " |-- Attacker_Helper: array (nullable = true)\n",
      " |    |-- element: array (containsNull = true)\n",
      " |    |    |-- element: string (containsNull = true)\n",
      " |-- Victim: array (nullable = true)\n",
      " |    |-- element: array (containsNull = true)\n",
      " |    |    |-- element: string (containsNull = true)\n",
      " |-- Conversation_Type: integer (nullable = true)\n",
      "\n"
     ]
    }
   ],
   "source": [
    "from pyspark.sql.types import ArrayType, StringType\n",
    "from pyspark.sql.functions import udf\n",
    "import ast\n",
    "\n",
    "# UDF to convert string representation of list to actual list\n",
    "def str_to_array_of_arrays(s):\n",
    "    # Convert the string to a list and then wrap it inside another list\n",
    "    return [ast.literal_eval(s)][0]\n",
    "\n",
    "str_to_array_of_arrays_udf = udf(str_to_array_of_arrays, ArrayType(ArrayType(StringType())))\n",
    "\n",
    "df = preprocessed_df.withColumn(\"Attacker_Helper\", str_to_array_of_arrays_udf(preprocessed_df[\"Attacker_Helper\"])).withColumn(\"Victim\", str_to_array_of_arrays_udf(preprocessed_df[\"Victim\"]))\n",
    "\n",
    "df.printSchema()"
   ]
  },
  {
   "cell_type": "markdown",
   "metadata": {},
   "source": [
    "### FLATTEN"
   ]
  },
  {
   "cell_type": "code",
   "execution_count": 7,
   "metadata": {},
   "outputs": [],
   "source": [
    "from src.CustonTransformers import FlattenTransformer\n",
    "\n",
    "flatten_attacker_helper = FlattenTransformer(inputCol=\"Attacker_Helper\", outputCol=\"Attacker_Helper\")\n",
    "flatten_victim = FlattenTransformer(inputCol=\"Victim\", outputCol=\"Victim\")"
   ]
  },
  {
   "cell_type": "markdown",
   "metadata": {},
   "source": [
    "### CONVERTING INTO TF VECTORS\n",
    "#### Each flattened row in the dataframe is converted to a vector. HashingTF uses the hashing trick. A potential drawback is that multiple words might hash to the same feature index, causing collisions. "
   ]
  },
  {
   "cell_type": "code",
   "execution_count": 8,
   "metadata": {},
   "outputs": [],
   "source": [
    "from pyspark.ml.feature import HashingTF\n",
    "numFeatures = 2^16\n",
    "\n",
    "# For Attacker_Helper column\n",
    "hashingTF_ah = HashingTF(inputCol=\"Attacker_Helper\", outputCol=\"AH_features\", numFeatures=numFeatures) # numFeatures specifies how many features (hash buckets) 2^16 num features is provided here, increase if deemed necessary\n",
    "# For Victim column\n",
    "hashingTF_v = HashingTF(inputCol=\"Victim\", outputCol=\"V_features\", numFeatures=numFeatures)"
   ]
  },
  {
   "cell_type": "markdown",
   "metadata": {},
   "source": [
    "### TF-IDF\n",
    "#### IDF (Inverse Document Frequency): IDF is a measure of how important a term is. While CountVectorizer counts how many times a term appears in a document (Term Frequency or TF), the IDF looks at how often a term appears across all documents."
   ]
  },
  {
   "cell_type": "code",
   "execution_count": 9,
   "metadata": {},
   "outputs": [],
   "source": [
    "from pyspark.ml.feature import IDF\n",
    "\n",
    "# For Attacker_Helper features\n",
    "idf_ah = IDF(inputCol=\"AH_features\", outputCol=\"AH_tfidf_features\")\n",
    "\n",
    "# For Victim features\n",
    "idf_v = IDF(inputCol=\"V_features\", outputCol=\"V_tfidf_features\")"
   ]
  },
  {
   "cell_type": "markdown",
   "metadata": {},
   "source": [
    "### ASSEMBLING THE TWO INPUT VECTORS INTO ONE"
   ]
  },
  {
   "cell_type": "code",
   "execution_count": 10,
   "metadata": {},
   "outputs": [],
   "source": [
    "from pyspark.ml.feature import VectorAssembler\n",
    "\n",
    "# 1. Feature Assembly\n",
    "assembler = VectorAssembler(\n",
    "    inputCols=[\"AH_tfidf_features\", \"V_tfidf_features\"],\n",
    "    outputCol=\"combined_features\")"
   ]
  },
  {
   "cell_type": "markdown",
   "metadata": {},
   "source": [
    "## Pipeline Creation"
   ]
  },
  {
   "cell_type": "code",
   "execution_count": 11,
   "metadata": {},
   "outputs": [
    {
     "name": "stdout",
     "output_type": "stream",
     "text": [
      "+---------------+--------------------+--------------------+-----------------+--------------------+--------------------+--------------------+--------------------+--------------------+\n",
      "|Conversation_ID|     Attacker_Helper|              Victim|Conversation_Type|         AH_features|          V_features|   AH_tfidf_features|    V_tfidf_features|   combined_features|\n",
      "+---------------+--------------------+--------------------+-----------------+--------------------+--------------------+--------------------+--------------------+--------------------+\n",
      "|     GT1sURbxgG|[hi, john, ir, ow...|[im, sorri, dont,...|                1|(18,[0,1,2,4,5,6,...|(18,[0,1,4,5,6,7,...|(18,[0,1,2,4,5,6,...|(18,[0,1,4,5,6,7,...|[0.04110167568555...|\n",
      "|     TwaGOeC96w|[hello, xyz, bank...|[victim, name, he...|                0|(18,[0,1,2,3,4,5,...|(18,[0,1,2,3,4,5,...|(18,[0,1,2,3,4,5,...|(18,[0,1,2,3,4,5,...|[0.16440670274220...|\n",
      "|     V73ZDCviQL|[hello, sir, call...|[ive, never, issu...|                1|(18,[0,1,2,3,4,5,...|(18,[0,1,2,3,4,5,...|(18,[0,1,2,3,4,5,...|(18,[0,1,2,3,4,5,...|[0.16440670274220...|\n",
      "|     wNsWdbpeld|[hello, john, ban...|[sure, pleas, con...|                0|(18,[0,1,3,4,5,6,...|(18,[0,1,2,3,5,6,...|(18,[0,1,3,4,5,6,...|(18,[0,1,2,3,5,6,...|[0.28771172979886...|\n",
      "| x0pSxAQx1K0abm|[hello, ir, call,...|[oh, idea, give, ...|                1|(18,[0,1,2,3,4,5,...|(18,[0,1,2,3,4,5,...|(18,[0,1,2,3,4,5,...|(18,[0,1,2,3,4,5,...|[0.16440670274220...|\n",
      "| I8QHkmsq5AdwAq|[hello, xyz, bank...|[john, smith, spe...|                0|(18,[0,1,3,4,5,6,...|(18,[0,1,2,3,4,5,...|(18,[0,1,3,4,5,6,...|(18,[0,1,2,3,4,5,...|[0.20550837842775...|\n",
      "| v9vN0BYTWa0e16|[hello, john, ir,...|[im, sorri, dont,...|                1|(18,[0,2,3,4,5,6,...|(18,[1,5,7,8,10,1...|(18,[0,2,3,4,5,6,...|(18,[1,5,7,8,10,1...|(36,[0,2,3,4,5,6,...|\n",
      "| pVeYjXj2DelffL|[hello, john, ban...|[speak, mr, smith...|                0|(18,[0,1,2,3,4,5,...|(18,[0,2,4,5,7,8,...|(18,[0,1,2,3,4,5,...|(18,[0,2,4,5,7,8,...|[0.20550837842775...|\n",
      "| 42e0AXIkESKc6y|[hello, xxxxxxxxx...|[ye, dont, believ...|                1|(18,[0,1,3,4,5,6,...|(18,[0,1,2,4,7,8,...|(18,[0,1,3,4,5,6,...|(18,[0,1,2,4,7,8,...|[0.20550837842775...|\n",
      "| vk2TK8MFd0hoZg|[hello, john, ban...|[oh, everyth, alr...|                0|(18,[0,1,2,3,5,6,...|(18,[0,2,5,6,7,8,...|(18,[0,1,2,3,5,6,...|(18,[0,2,5,6,7,8,...|[0.53432178391217...|\n",
      "+---------------+--------------------+--------------------+-----------------+--------------------+--------------------+--------------------+--------------------+--------------------+\n",
      "only showing top 10 rows\n",
      "\n"
     ]
    }
   ],
   "source": [
    "from pyspark.ml import Pipeline\n",
    "\n",
    "\n",
    "pipeline = Pipeline(stages=[flatten_attacker_helper, flatten_victim, hashingTF_ah, hashingTF_v, idf_ah, idf_v, assembler])\n",
    "\n",
    "pipeline_model = pipeline.fit(df)\n",
    "\n",
    "df_assembled = pipeline_model.transform(df)\n",
    "\n",
    "df_assembled.show(10)"
   ]
  },
  {
   "cell_type": "markdown",
   "metadata": {},
   "source": [
    "### Saving the pipeline to be used in training modules"
   ]
  },
  {
   "cell_type": "code",
   "execution_count": 12,
   "metadata": {},
   "outputs": [],
   "source": [
    "pipeline_model.write().overwrite().save(\"../../Models/Pipelines/TF-IDF_Pipeline\")"
   ]
  }
 ],
 "metadata": {
  "kernelspec": {
   "display_name": "Python 3",
   "language": "python",
   "name": "python3"
  },
  "language_info": {
   "codemirror_mode": {
    "name": "ipython",
    "version": 3
   },
   "file_extension": ".py",
   "mimetype": "text/x-python",
   "name": "python",
   "nbconvert_exporter": "python",
   "pygments_lexer": "ipython3",
   "version": "3.11.1"
  },
  "orig_nbformat": 4
 },
 "nbformat": 4,
 "nbformat_minor": 2
}
