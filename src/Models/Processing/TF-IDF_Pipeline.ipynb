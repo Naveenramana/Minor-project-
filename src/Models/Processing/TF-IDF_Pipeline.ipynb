{
 "cells": [
  {
   "cell_type": "code",
   "execution_count": 2,
   "metadata": {},
   "outputs": [
    {
     "data": {
      "text/plain": [
       "'H:\\\\SPARK'"
      ]
     },
     "execution_count": 2,
     "metadata": {},
     "output_type": "execute_result"
    }
   ],
   "source": [
    "import findspark\n",
    "findspark.init()\n",
    "findspark.find()"
   ]
  },
  {
   "cell_type": "code",
   "execution_count": 3,
   "metadata": {},
   "outputs": [],
   "source": [
    "from pyspark.sql import SparkSession\n",
    "\n",
    "# Initialize SparkSession with necessary configurations\n",
    "spark = SparkSession.builder \\\n",
    "    .master(\"local[*]\") \\\n",
    "    .appName('Spark') \\\n",
    "    .config(\"spark.driver.memory\", \"15g\") \\\n",
    "    .config(\"spark.hadoop.home.dir\", \"H:/HADOOP/\") \\\n",
    "    .config(\"spark.hadoop.conf.dir\", \"H:/HADOOP/etc/hadoop/\") \\\n",
    "    .getOrCreate()\n",
    "    \n",
    "import sys\n",
    "sys.path.append(\"G:\\Dissertation_Project\")\n",
    "\n",
    "# Get SparkContext from the SparkSession\n",
    "sc = spark.sparkContext\n"
   ]
  },
  {
   "cell_type": "code",
   "execution_count": 4,
   "metadata": {},
   "outputs": [
    {
     "data": {
      "text/html": [
       "\n",
       "            <div>\n",
       "                <p><b>SparkSession - in-memory</b></p>\n",
       "                \n",
       "        <div>\n",
       "            <p><b>SparkContext</b></p>\n",
       "\n",
       "            <p><a href=\"http://192.168.1.6:4040\">Spark UI</a></p>\n",
       "\n",
       "            <dl>\n",
       "              <dt>Version</dt>\n",
       "                <dd><code>v3.5.0</code></dd>\n",
       "              <dt>Master</dt>\n",
       "                <dd><code>local[*]</code></dd>\n",
       "              <dt>AppName</dt>\n",
       "                <dd><code>Spark</code></dd>\n",
       "            </dl>\n",
       "        </div>\n",
       "        \n",
       "            </div>\n",
       "        "
      ],
      "text/plain": [
       "<pyspark.sql.session.SparkSession at 0x2a6df513610>"
      ]
     },
     "execution_count": 4,
     "metadata": {},
     "output_type": "execute_result"
    }
   ],
   "source": [
    "spark"
   ]
  },
  {
   "cell_type": "markdown",
   "metadata": {},
   "source": [
    "### BASE DATASET"
   ]
  },
  {
   "cell_type": "code",
   "execution_count": 8,
   "metadata": {},
   "outputs": [
    {
     "name": "stdout",
     "output_type": "stream",
     "text": [
      "+---------------+----------------------------------------------------------------------------------------------------------------------------------------------------------------+-----------------------------------------------------------------------------------------------------------------------------------------------------------------------------------------------+-----------------+\n",
      "|Conversation_ID|Attacker_Helper                                                                                                                                                 |Victim                                                                                                                                                                                         |Conversation_Type|\n",
      "+---------------+----------------------------------------------------------------------------------------------------------------------------------------------------------------+-----------------------------------------------------------------------------------------------------------------------------------------------------------------------------------------------+-----------------+\n",
      "|GT1sURbxgG     |Hi, this is John from the IRS. You owe us $10,000 in back taxes.                                                                                                |I'm sorry, I don't believe you. Can you provide me with your badge number?                                                                                                                     |1                |\n",
      "|GT1sURbxgG     |Yes, of course. It's 1234.                                                                                                                                      |I'm still not sure. Can I call you back to verify this information?                                                                                                                            |1                |\n",
      "|GT1sURbxgG     |No, you cannot. We need payment immediately or we will send the police to your house.                                                                           |I don't think that's legal. I'll be contacting the IRS directly to confirm this.                                                                                                               |1                |\n",
      "|TwaGOeC96w     |Hello, this is XYZ bank calling. May I speak with [Victim's name] please?                                                                                       |This is [Victim's name]. How can I help you?                                                                                                                                                   |0                |\n",
      "|TwaGOeC96w     |Good morning [Victim's name], we just noticed some unusual activity on your account and want to verify a few things. Can you confirm your account number for me?|I'm sorry, I don't feel comfortable giving out my account number on the phone. Is there another way we can verify my information?                                                              |0                |\n",
      "|TwaGOeC96w     |Absolutely, we completely understand your concerns. Can you please provide your date of birth and Social Security number for verification purposes?             |I'm still hesitant to provide that information over the phone. Can I come into the bank and verify my information in person?                                                                   |0                |\n",
      "|TwaGOeC96w     |Of course, that's a great idea. Our branch hours are 9am-5pm, Monday through Friday. Is there a day and time that works best for you?                           |Yes, I can come in on Thursday at around 2pm. Thank you for understanding.                                                                                                                     |0                |\n",
      "|V73ZDCviQL     |Hello sir, this is a call from the IRS. We have found discrepancies in your tax filings and need to verify some information.                                    |I've never had any issues with my taxes before. Can you provide me with more specific information?                                                                                             |1                |\n",
      "|V73ZDCviQL     |Yes sir, we need your social security number and bank account details to verify the information.                                                                |I'm sorry, but I don't feel comfortable sharing that information over the phone. Can you send me an email or mail me a letter instead?                                                         |1                |\n",
      "|V73ZDCviQL     |There's no need to worry sir. We are a legitimate organization and need this information to resolve the issue quickly.                                          |I appreciate your concern, but I still cannot provide that information over the phone. Can you please provide me with a reference number for this issue so I can verify it with the IRS myself?|1                |\n",
      "+---------------+----------------------------------------------------------------------------------------------------------------------------------------------------------------+-----------------------------------------------------------------------------------------------------------------------------------------------------------------------------------------------+-----------------+\n",
      "only showing top 10 rows\n",
      "\n"
     ]
    }
   ],
   "source": [
    "base_df = spark.read.csv(\"../../../Data/Custom_Datasets/conversation_datasets_GPT.csv\", header=True, inferSchema=True)\n",
    "base_df.show(10, truncate=False)"
   ]
  },
  {
   "cell_type": "markdown",
   "metadata": {},
   "source": [
    "### PREPROCESSED DATASET"
   ]
  },
  {
   "cell_type": "code",
   "execution_count": 9,
   "metadata": {},
   "outputs": [
    {
     "name": "stdout",
     "output_type": "stream",
     "text": [
      "+---------------+-------------------------------------------------------------------------------------------------------------------------------------------------------------------------------------------------------------------------------------------------------------------------------------------------------------------------------------------------------------------------------------------------------------------------------------------------------------------------------------------------------------------------------------------------------------------------------------------------------------------------------------------------------------------------------------------------------------------------------------------+----------------------------------------------------------------------------------------------------------------------------------------------------------------------------------------------------------------------------------------------------------------------------------------------------------------------------------------------------------------------------------------------------------------------------------------------------------------------------------------------------------------------------------------------------------------------------------------------------------------------------------+-----------------+\n",
      "|Conversation_ID|Attacker_Helper                                                                                                                                                                                                                                                                                                                                                                                                                                                                                                                                                                                                                                                                                                                            |Victim                                                                                                                                                                                                                                                                                                                                                                                                                                                                                                                                                                                                                            |Conversation_Type|\n",
      "+---------------+-------------------------------------------------------------------------------------------------------------------------------------------------------------------------------------------------------------------------------------------------------------------------------------------------------------------------------------------------------------------------------------------------------------------------------------------------------------------------------------------------------------------------------------------------------------------------------------------------------------------------------------------------------------------------------------------------------------------------------------------+----------------------------------------------------------------------------------------------------------------------------------------------------------------------------------------------------------------------------------------------------------------------------------------------------------------------------------------------------------------------------------------------------------------------------------------------------------------------------------------------------------------------------------------------------------------------------------------------------------------------------------+-----------------+\n",
      "|GT1sURbxgG_0   |[['hi', 'thi', 'is', 'john', 'from', 'the', 'ir', 'you', 'owe', 'us', 'xxxxx', 'in', 'back', 'tax']]                                                                                                                                                                                                                                                                                                                                                                                                                                                                                                                                                                                                                                       |[['im', 'sorri', 'i', 'dont', 'believ', 'you', 'can', 'you', 'provid', 'me', 'with', 'your', 'badg', 'number']]                                                                                                                                                                                                                                                                                                                                                                                                                                                                                                                   |1                |\n",
      "|GT1sURbxgG_1   |[['hi', 'thi', 'is', 'john', 'from', 'the', 'ir', 'you', 'owe', 'us', 'xxxxx', 'in', 'back', 'tax', 'ye', 'of', 'cours', 'it', 'xxxx']]                                                                                                                                                                                                                                                                                                                                                                                                                                                                                                                                                                                                    |[['im', 'sorri', 'i', 'dont', 'believ', 'you', 'can', 'you', 'provid', 'me', 'with', 'your', 'badg', 'number', 'im', 'still', 'not', 'sure', 'can', 'i', 'call', 'you', 'back', 'to', 'verifi', 'thi', 'inform']]                                                                                                                                                                                                                                                                                                                                                                                                                 |1                |\n",
      "|GT1sURbxgG_2   |[['hi', 'thi', 'is', 'john', 'from', 'the', 'ir', 'you', 'owe', 'us', 'xxxxx', 'in', 'back', 'tax', 'ye', 'of', 'cours', 'it', 'xxxx', 'no', 'you', 'can', 'not', 'we', 'need', 'payment', 'immedi', 'or', 'we', 'will', 'send', 'the', 'polic', 'to', 'your', 'hous']]                                                                                                                                                                                                                                                                                                                                                                                                                                                                    |[['im', 'sorri', 'i', 'dont', 'believ', 'you', 'can', 'you', 'provid', 'me', 'with', 'your', 'badg', 'number', 'im', 'still', 'not', 'sure', 'can', 'i', 'call', 'you', 'back', 'to', 'verifi', 'thi', 'inform', 'i', 'dont', 'think', 'that', 'legal', 'ill', 'be', 'contact', 'the', 'ir', 'directli', 'to', 'confirm', 'thi']]                                                                                                                                                                                                                                                                                                 |1                |\n",
      "|TwaGOeC96w_0   |[['hello', 'thi', 'is', 'xyz', 'bank', 'call', 'may', 'i', 'speak', 'with', 'victim', 'name', 'pleas']]                                                                                                                                                                                                                                                                                                                                                                                                                                                                                                                                                                                                                                    |[['thi', 'is', 'victim', 'name', 'how', 'can', 'i', 'help', 'you']]                                                                                                                                                                                                                                                                                                                                                                                                                                                                                                                                                               |0                |\n",
      "|TwaGOeC96w_1   |[['hello', 'thi', 'is', 'xyz', 'bank', 'call', 'may', 'i', 'speak', 'with', 'victim', 'name', 'pleas', 'good', 'morn', 'victim', 'name', 'we', 'just', 'notic', 'some', 'unusu', 'activ', 'on', 'your', 'account', 'and', 'want', 'to', 'verifi', 'a', 'few', 'thing', 'can', 'you', 'confirm', 'your', 'account', 'number', 'for', 'me']]                                                                                                                                                                                                                                                                                                                                                                                                 |[['thi', 'is', 'victim', 'name', 'how', 'can', 'i', 'help', 'you', 'im', 'sorri', 'i', 'dont', 'feel', 'comfort', 'give', 'out', 'my', 'account', 'number', 'on', 'the', 'phone', 'is', 'there', 'anoth', 'way', 'we', 'can', 'verifi', 'my', 'inform']]                                                                                                                                                                                                                                                                                                                                                                          |0                |\n",
      "|TwaGOeC96w_2   |[['hello', 'thi', 'is', 'xyz', 'bank', 'call', 'may', 'i', 'speak', 'with', 'victim', 'name', 'pleas', 'good', 'morn', 'victim', 'name', 'we', 'just', 'notic', 'some', 'unusu', 'activ', 'on', 'your', 'account', 'and', 'want', 'to', 'verifi', 'a', 'few', 'thing', 'can', 'you', 'confirm', 'your', 'account', 'number', 'for', 'me', 'absolut', 'we', 'complet', 'understand', 'your', 'concern', 'can', 'you', 'pleas', 'provid', 'your', 'date', 'of', 'birth', 'and', 'social', 'secur', 'number', 'for', 'verif', 'purpos']]                                                                                                                                                                                                      |[['thi', 'is', 'victim', 'name', 'how', 'can', 'i', 'help', 'you', 'im', 'sorri', 'i', 'dont', 'feel', 'comfort', 'give', 'out', 'my', 'account', 'number', 'on', 'the', 'phone', 'is', 'there', 'anoth', 'way', 'we', 'can', 'verifi', 'my', 'inform', 'im', 'still', 'hesit', 'to', 'provid', 'that', 'inform', 'over', 'the', 'phone', 'can', 'i', 'come', 'into', 'the', 'bank', 'and', 'verifi', 'my', 'inform', 'in', 'person']]                                                                                                                                                                                            |0                |\n",
      "|TwaGOeC96w_3   |[['hello', 'thi', 'is', 'xyz', 'bank', 'call', 'may', 'i', 'speak', 'with', 'victim', 'name', 'pleas', 'good', 'morn', 'victim', 'name', 'we', 'just', 'notic', 'some', 'unusu', 'activ', 'on', 'your', 'account', 'and', 'want', 'to', 'verifi', 'a', 'few', 'thing', 'can', 'you', 'confirm', 'your', 'account', 'number', 'for', 'me', 'absolut', 'we', 'complet', 'understand', 'your', 'concern', 'can', 'you', 'pleas', 'provid', 'your', 'date', 'of', 'birth', 'and', 'social', 'secur', 'number', 'for', 'verif', 'purpos', 'of', 'cours', 'that', 'a', 'great', 'idea', 'our', 'branch', 'hour', 'are', 'xamxpm', 'monday', 'through', 'friday', 'is', 'there', 'a', 'day', 'and', 'time', 'that', 'work', 'best', 'for', 'you']]|[['thi', 'is', 'victim', 'name', 'how', 'can', 'i', 'help', 'you', 'im', 'sorri', 'i', 'dont', 'feel', 'comfort', 'give', 'out', 'my', 'account', 'number', 'on', 'the', 'phone', 'is', 'there', 'anoth', 'way', 'we', 'can', 'verifi', 'my', 'inform', 'im', 'still', 'hesit', 'to', 'provid', 'that', 'inform', 'over', 'the', 'phone', 'can', 'i', 'come', 'into', 'the', 'bank', 'and', 'verifi', 'my', 'inform', 'in', 'person', 'ye', 'i', 'can', 'come', 'in', 'on', 'thursday', 'at', 'around', 'xpm', 'thank', 'you', 'for', 'understand']]                                                                              |0                |\n",
      "|V73ZDCviQL_0   |[['hello', 'sir', 'thi', 'is', 'a', 'call', 'from', 'the', 'ir', 'we', 'have', 'found', 'discrep', 'in', 'your', 'tax', 'file', 'and', 'need', 'to', 'verifi', 'some', 'inform']]                                                                                                                                                                                                                                                                                                                                                                                                                                                                                                                                                          |[['ive', 'never', 'had', 'ani', 'issu', 'with', 'my', 'tax', 'befor', 'can', 'you', 'provid', 'me', 'with', 'more', 'specif', 'inform']]                                                                                                                                                                                                                                                                                                                                                                                                                                                                                          |1                |\n",
      "|V73ZDCviQL_1   |[['hello', 'sir', 'thi', 'is', 'a', 'call', 'from', 'the', 'ir', 'we', 'have', 'found', 'discrep', 'in', 'your', 'tax', 'file', 'and', 'need', 'to', 'verifi', 'some', 'inform', 'ye', 'sir', 'we', 'need', 'your', 'social', 'secur', 'number', 'and', 'bank', 'account', 'detail', 'to', 'verifi', 'the', 'inform']]                                                                                                                                                                                                                                                                                                                                                                                                                     |[['ive', 'never', 'had', 'ani', 'issu', 'with', 'my', 'tax', 'befor', 'can', 'you', 'provid', 'me', 'with', 'more', 'specif', 'inform', 'im', 'sorri', 'but', 'i', 'dont', 'feel', 'comfort', 'share', 'that', 'inform', 'over', 'the', 'phone', 'can', 'you', 'send', 'me', 'an', 'email', 'or', 'mail', 'me', 'a', 'letter', 'instead']]                                                                                                                                                                                                                                                                                        |1                |\n",
      "|V73ZDCviQL_2   |[['hello', 'sir', 'thi', 'is', 'a', 'call', 'from', 'the', 'ir', 'we', 'have', 'found', 'discrep', 'in', 'your', 'tax', 'file', 'and', 'need', 'to', 'verifi', 'some', 'inform', 'ye', 'sir', 'we', 'need', 'your', 'social', 'secur', 'number', 'and', 'bank', 'account', 'detail', 'to', 'verifi', 'the', 'inform', 'there', 'no', 'need', 'to', 'worri', 'sir', 'we', 'are', 'a', 'legitim', 'organ', 'and', 'need', 'thi', 'inform', 'to', 'resolv', 'the', 'issu', 'quickli']]                                                                                                                                                                                                                                                        |[['ive', 'never', 'had', 'ani', 'issu', 'with', 'my', 'tax', 'befor', 'can', 'you', 'provid', 'me', 'with', 'more', 'specif', 'inform', 'im', 'sorri', 'but', 'i', 'dont', 'feel', 'comfort', 'share', 'that', 'inform', 'over', 'the', 'phone', 'can', 'you', 'send', 'me', 'an', 'email', 'or', 'mail', 'me', 'a', 'letter', 'instead', 'i', 'appreci', 'your', 'concern', 'but', 'i', 'still', 'can', 'not', 'provid', 'that', 'inform', 'over', 'the', 'phone', 'can', 'you', 'pleas', 'provid', 'me', 'with', 'a', 'refer', 'number', 'for', 'thi', 'issu', 'so', 'i', 'can', 'verifi', 'it', 'with', 'the', 'ir', 'myself']]|1                |\n",
      "+---------------+-------------------------------------------------------------------------------------------------------------------------------------------------------------------------------------------------------------------------------------------------------------------------------------------------------------------------------------------------------------------------------------------------------------------------------------------------------------------------------------------------------------------------------------------------------------------------------------------------------------------------------------------------------------------------------------------------------------------------------------------+----------------------------------------------------------------------------------------------------------------------------------------------------------------------------------------------------------------------------------------------------------------------------------------------------------------------------------------------------------------------------------------------------------------------------------------------------------------------------------------------------------------------------------------------------------------------------------------------------------------------------------+-----------------+\n",
      "only showing top 10 rows\n",
      "\n"
     ]
    }
   ],
   "source": [
    "preprocessed_df = spark.read.csv(\"../../../Data/Preprocessed_Datasets/GPT_dataset_preprocessed_Fixed.csv\", header=True, inferSchema=True)\n",
    "preprocessed_df.show(10, truncate=False)"
   ]
  },
  {
   "cell_type": "markdown",
   "metadata": {},
   "source": [
    "### Convert Conversation Columns into actual Arrays"
   ]
  },
  {
   "cell_type": "code",
   "execution_count": 10,
   "metadata": {},
   "outputs": [
    {
     "name": "stdout",
     "output_type": "stream",
     "text": [
      "root\n",
      " |-- Conversation_ID: string (nullable = true)\n",
      " |-- Attacker_Helper: array (nullable = true)\n",
      " |    |-- element: array (containsNull = true)\n",
      " |    |    |-- element: string (containsNull = true)\n",
      " |-- Victim: array (nullable = true)\n",
      " |    |-- element: array (containsNull = true)\n",
      " |    |    |-- element: string (containsNull = true)\n",
      " |-- Conversation_Type: integer (nullable = true)\n",
      "\n"
     ]
    }
   ],
   "source": [
    "from pyspark.sql.types import ArrayType, StringType\n",
    "from pyspark.sql.functions import udf\n",
    "import ast\n",
    "\n",
    "# UDF to convert string representation of list to actual list\n",
    "def str_to_array_of_arrays(s):\n",
    "    # Convert the string to a list and then wrap it inside another list\n",
    "    return [ast.literal_eval(s)][0]\n",
    "\n",
    "str_to_array_of_arrays_udf = udf(str_to_array_of_arrays, ArrayType(ArrayType(StringType())))\n",
    "\n",
    "df = preprocessed_df.withColumn(\"Attacker_Helper\", str_to_array_of_arrays_udf(preprocessed_df[\"Attacker_Helper\"])).withColumn(\"Victim\", str_to_array_of_arrays_udf(preprocessed_df[\"Victim\"]))\n",
    "\n",
    "df.printSchema()"
   ]
  },
  {
   "cell_type": "markdown",
   "metadata": {},
   "source": [
    "### FLATTEN"
   ]
  },
  {
   "cell_type": "code",
   "execution_count": 11,
   "metadata": {},
   "outputs": [],
   "source": [
    "from src.CustonTransformers import FlattenTransformer\n",
    "\n",
    "flatten_attacker_helper = FlattenTransformer(inputCol=\"Attacker_Helper\", outputCol=\"Attacker_Helper\")\n",
    "flatten_victim = FlattenTransformer(inputCol=\"Victim\", outputCol=\"Victim\")"
   ]
  },
  {
   "cell_type": "markdown",
   "metadata": {},
   "source": [
    "### CONVERTING INTO TF VECTORS\n",
    "#### Each flattened row in the dataframe is converted to a vector. HashingTF uses the hashing trick. A potential drawback is that multiple words might hash to the same feature index, causing collisions. "
   ]
  },
  {
   "cell_type": "code",
   "execution_count": 12,
   "metadata": {},
   "outputs": [],
   "source": [
    "from pyspark.ml.feature import HashingTF\n",
    "numFeatures = 200\n",
    "\n",
    "# For Attacker_Helper column\n",
    "hashingTF_ah = HashingTF(inputCol=\"Attacker_Helper\", outputCol=\"AH_features\", numFeatures=numFeatures) # numFeatures specifies how many features (hash buckets) 200 num features is provided here, increase if deemed necessary\n",
    "# For Victim column\n",
    "hashingTF_v = HashingTF(inputCol=\"Victim\", outputCol=\"V_features\", numFeatures=numFeatures)"
   ]
  },
  {
   "cell_type": "markdown",
   "metadata": {},
   "source": [
    "### TF-IDF\n",
    "#### IDF (Inverse Document Frequency): IDF is a measure of how important a term is. While CountVectorizer counts how many times a term appears in a document (Term Frequency or TF), the IDF looks at how often a term appears across all documents."
   ]
  },
  {
   "cell_type": "code",
   "execution_count": 13,
   "metadata": {},
   "outputs": [],
   "source": [
    "from pyspark.ml.feature import IDF\n",
    "\n",
    "# For Attacker_Helper features\n",
    "idf_ah = IDF(inputCol=\"AH_features\", outputCol=\"AH_tfidf_features\")\n",
    "\n",
    "# For Victim features\n",
    "idf_v = IDF(inputCol=\"V_features\", outputCol=\"V_tfidf_features\")"
   ]
  },
  {
   "cell_type": "markdown",
   "metadata": {},
   "source": [
    "### ASSEMBLING THE TWO INPUT VECTORS INTO ONE"
   ]
  },
  {
   "cell_type": "code",
   "execution_count": 14,
   "metadata": {},
   "outputs": [],
   "source": [
    "from pyspark.ml.feature import VectorAssembler\n",
    "\n",
    "# 1. Feature Assembly\n",
    "assembler = VectorAssembler(\n",
    "    inputCols=[\"AH_tfidf_features\", \"V_tfidf_features\"],\n",
    "    outputCol=\"combined_features\")"
   ]
  },
  {
   "cell_type": "markdown",
   "metadata": {},
   "source": [
    "## Pipeline Creation"
   ]
  },
  {
   "cell_type": "code",
   "execution_count": 15,
   "metadata": {},
   "outputs": [
    {
     "name": "stdout",
     "output_type": "stream",
     "text": [
      "+---------------+--------------------+--------------------+-----------------+--------------------+--------------------+--------------------+--------------------+--------------------+\n",
      "|Conversation_ID|     Attacker_Helper|              Victim|Conversation_Type|         AH_features|          V_features|   AH_tfidf_features|    V_tfidf_features|   combined_features|\n",
      "+---------------+--------------------+--------------------+-----------------+--------------------+--------------------+--------------------+--------------------+--------------------+\n",
      "|   GT1sURbxgG_0|[hi, thi, is, joh...|[im, sorri, i, do...|                1|(200,[9,17,30,37,...|(200,[13,23,50,63...|(200,[9,17,30,37,...|(200,[13,23,50,63...|(400,[9,17,30,37,...|\n",
      "|   GT1sURbxgG_1|[hi, thi, is, joh...|[im, sorri, i, do...|                1|(200,[9,17,30,37,...|(200,[5,13,21,23,...|(200,[9,17,30,37,...|(200,[5,13,21,23,...|(400,[9,17,30,37,...|\n",
      "|   GT1sURbxgG_2|[hi, thi, is, joh...|[im, sorri, i, do...|                1|(200,[5,7,9,17,20...|(200,[5,13,17,21,...|(200,[5,7,9,17,20...|(200,[5,13,17,21,...|(400,[5,7,9,17,20...|\n",
      "|   TwaGOeC96w_0|[hello, thi, is, ...|[thi, is, victim,...|                0|(200,[9,15,38,45,...|(200,[9,15,38,43,...|(200,[9,15,38,45,...|(200,[9,15,38,43,...|(400,[9,15,38,45,...|\n",
      "|   TwaGOeC96w_1|[hello, thi, is, ...|[thi, is, victim,...|                0|(200,[0,9,15,37,3...|(200,[9,15,17,23,...|(200,[0,9,15,37,3...|(200,[9,15,17,23,...|(400,[0,9,15,37,3...|\n",
      "|   TwaGOeC96w_2|[hello, thi, is, ...|[thi, is, victim,...|                0|(200,[0,9,15,18,2...|(200,[1,9,15,17,2...|(200,[0,9,15,18,2...|(200,[1,9,15,17,2...|(400,[0,9,15,18,2...|\n",
      "|   TwaGOeC96w_3|[hello, thi, is, ...|[thi, is, victim,...|                0|(200,[0,9,15,18,2...|(200,[1,9,15,17,2...|(200,[0,9,15,18,2...|(200,[1,9,15,17,2...|(400,[0,9,15,18,2...|\n",
      "|   V73ZDCviQL_0|[hello, sir, thi,...|[ive, never, had,...|                1|(200,[0,9,17,25,4...|(200,[29,32,49,50...|(200,[0,9,17,25,4...|(200,[29,32,49,50...|(400,[0,9,17,25,4...|\n",
      "|   V73ZDCviQL_1|[hello, sir, thi,...|[ive, never, had,...|                1|(200,[0,9,17,18,2...|(200,[2,5,17,23,2...|(200,[0,9,17,18,2...|(200,[2,5,17,23,2...|(400,[0,9,17,18,2...|\n",
      "|   V73ZDCviQL_2|[hello, sir, thi,...|[ive, never, had,...|                1|(200,[0,5,9,17,18...|(200,[1,2,3,5,17,...|(200,[0,5,9,17,18...|(200,[1,2,3,5,17,...|(400,[0,5,9,17,18...|\n",
      "+---------------+--------------------+--------------------+-----------------+--------------------+--------------------+--------------------+--------------------+--------------------+\n",
      "only showing top 10 rows\n",
      "\n"
     ]
    }
   ],
   "source": [
    "from pyspark.ml import Pipeline\n",
    "\n",
    "\n",
    "pipeline = Pipeline(stages=[flatten_attacker_helper, flatten_victim, hashingTF_ah, hashingTF_v, idf_ah, idf_v, assembler])\n",
    "\n",
    "pipeline_model = pipeline.fit(df)\n",
    "\n",
    "df_assembled = pipeline_model.transform(df)\n",
    "\n",
    "df_assembled.show(10)"
   ]
  },
  {
   "cell_type": "markdown",
   "metadata": {},
   "source": [
    "### Saving the pipeline to be used in training modules"
   ]
  },
  {
   "cell_type": "code",
   "execution_count": 24,
   "metadata": {},
   "outputs": [],
   "source": [
    "pipeline_model.write().overwrite().save(\"../../Models/Pipelines/TF-IDF_Pipeline\")"
   ]
  }
 ],
 "metadata": {
  "kernelspec": {
   "display_name": "Python 3",
   "language": "python",
   "name": "python3"
  },
  "language_info": {
   "codemirror_mode": {
    "name": "ipython",
    "version": 3
   },
   "file_extension": ".py",
   "mimetype": "text/x-python",
   "name": "python",
   "nbconvert_exporter": "python",
   "pygments_lexer": "ipython3",
   "version": "3.11.1"
  },
  "orig_nbformat": 4
 },
 "nbformat": 4,
 "nbformat_minor": 2
}
