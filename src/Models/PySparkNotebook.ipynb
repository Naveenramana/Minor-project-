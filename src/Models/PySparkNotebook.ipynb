{
 "cells": [
  {
   "cell_type": "code",
   "execution_count": 59,
   "metadata": {},
   "outputs": [
    {
     "data": {
      "text/plain": [
       "'c:\\\\Users\\\\johns\\\\AppData\\\\Local\\\\Programs\\\\Python\\\\Python311\\\\Lib\\\\site-packages\\\\pyspark'"
      ]
     },
     "execution_count": 59,
     "metadata": {},
     "output_type": "execute_result"
    }
   ],
   "source": [
    "import findspark\n",
    "findspark.init()\n",
    "findspark.find()\n",
    "\n",
    "import pyspark\n",
    "findspark.find()"
   ]
  },
  {
   "cell_type": "code",
   "execution_count": 60,
   "metadata": {},
   "outputs": [],
   "source": [
    "#Create SparkSession\n",
    "from pyspark import SparkContext\n",
    "from pyspark.sql import SparkSession\n",
    "  \n",
    "spark = SparkSession.builder.master(\"local[*]\").appName('Spark') \\\n",
    ".config(\"spark.driver.memory\", \"15g\")\\\n",
    ".getOrCreate()\n",
    "\n",
    "\n",
    "sc = spark.sparkContext "
   ]
  },
  {
   "cell_type": "code",
   "execution_count": 61,
   "metadata": {},
   "outputs": [
    {
     "data": {
      "text/html": [
       "\n",
       "            <div>\n",
       "                <p><b>SparkSession - in-memory</b></p>\n",
       "                \n",
       "        <div>\n",
       "            <p><b>SparkContext</b></p>\n",
       "\n",
       "            <p><a href=\"http://DESKTOP-J1NB2KT:4040\">Spark UI</a></p>\n",
       "\n",
       "            <dl>\n",
       "              <dt>Version</dt>\n",
       "                <dd><code>v3.5.0</code></dd>\n",
       "              <dt>Master</dt>\n",
       "                <dd><code>local[*]</code></dd>\n",
       "              <dt>AppName</dt>\n",
       "                <dd><code>Spark</code></dd>\n",
       "            </dl>\n",
       "        </div>\n",
       "        \n",
       "            </div>\n",
       "        "
      ],
      "text/plain": [
       "<pyspark.sql.session.SparkSession at 0x1241fcf0b50>"
      ]
     },
     "execution_count": 61,
     "metadata": {},
     "output_type": "execute_result"
    }
   ],
   "source": [
    "spark"
   ]
  },
  {
   "cell_type": "markdown",
   "metadata": {},
   "source": [
    "### BASE DATASET"
   ]
  },
  {
   "cell_type": "code",
   "execution_count": 62,
   "metadata": {},
   "outputs": [
    {
     "name": "stdout",
     "output_type": "stream",
     "text": [
      "+---------------+----------------------------------------------------------------------------------------------------------------------------------------------------------------+-----------------------------------------------------------------------------------------------------------------------------------------------------------------------------------------------+-----------------+\n",
      "|Conversation_ID|Attacker_Helper                                                                                                                                                 |Victim                                                                                                                                                                                         |Conversation_Type|\n",
      "+---------------+----------------------------------------------------------------------------------------------------------------------------------------------------------------+-----------------------------------------------------------------------------------------------------------------------------------------------------------------------------------------------+-----------------+\n",
      "|GT1sURbxgG     |Hi, this is John from the IRS. You owe us $10,000 in back taxes.                                                                                                |I'm sorry, I don't believe you. Can you provide me with your badge number?                                                                                                                     |1                |\n",
      "|GT1sURbxgG     |Yes, of course. It's 1234.                                                                                                                                      |I'm still not sure. Can I call you back to verify this information?                                                                                                                            |1                |\n",
      "|GT1sURbxgG     |No, you cannot. We need payment immediately or we will send the police to your house.                                                                           |I don't think that's legal. I'll be contacting the IRS directly to confirm this.                                                                                                               |1                |\n",
      "|TwaGOeC96w     |Hello, this is XYZ bank calling. May I speak with [Victim's name] please?                                                                                       |This is [Victim's name]. How can I help you?                                                                                                                                                   |0                |\n",
      "|TwaGOeC96w     |Good morning [Victim's name], we just noticed some unusual activity on your account and want to verify a few things. Can you confirm your account number for me?|I'm sorry, I don't feel comfortable giving out my account number on the phone. Is there another way we can verify my information?                                                              |0                |\n",
      "|TwaGOeC96w     |Absolutely, we completely understand your concerns. Can you please provide your date of birth and Social Security number for verification purposes?             |I'm still hesitant to provide that information over the phone. Can I come into the bank and verify my information in person?                                                                   |0                |\n",
      "|TwaGOeC96w     |Of course, that's a great idea. Our branch hours are 9am-5pm, Monday through Friday. Is there a day and time that works best for you?                           |Yes, I can come in on Thursday at around 2pm. Thank you for understanding.                                                                                                                     |0                |\n",
      "|V73ZDCviQL     |Hello sir, this is a call from the IRS. We have found discrepancies in your tax filings and need to verify some information.                                    |I've never had any issues with my taxes before. Can you provide me with more specific information?                                                                                             |1                |\n",
      "|V73ZDCviQL     |Yes sir, we need your social security number and bank account details to verify the information.                                                                |I'm sorry, but I don't feel comfortable sharing that information over the phone. Can you send me an email or mail me a letter instead?                                                         |1                |\n",
      "|V73ZDCviQL     |There's no need to worry sir. We are a legitimate organization and need this information to resolve the issue quickly.                                          |I appreciate your concern, but I still cannot provide that information over the phone. Can you please provide me with a reference number for this issue so I can verify it with the IRS myself?|1                |\n",
      "+---------------+----------------------------------------------------------------------------------------------------------------------------------------------------------------+-----------------------------------------------------------------------------------------------------------------------------------------------------------------------------------------------+-----------------+\n",
      "only showing top 10 rows\n",
      "\n"
     ]
    }
   ],
   "source": [
    "base_df = spark.read.csv(\"../../Data/Custom_Datasets/conversation_datasets_GPT.csv\", header=True, inferSchema=True)\n",
    "base_df.show(10, truncate=False)"
   ]
  },
  {
   "cell_type": "markdown",
   "metadata": {},
   "source": [
    "### PREPROCESSED DATASET"
   ]
  },
  {
   "cell_type": "code",
   "execution_count": 63,
   "metadata": {},
   "outputs": [
    {
     "name": "stdout",
     "output_type": "stream",
     "text": [
      "+---------------+-------------------------------------------------------------------------------------------------------------------------------------------------------------------------------------------------------------------------------------------------------------------------------------------------------------------------------------------------------------------------------------------------------------------------------------------------------------------------------------------------------------------------------------------------------------------------------------------------------------------------------------------------------------------------------------------------------------------------------------------------------------------------+---------------------------------------------------------------------------------------------------------------------------------------------------------------------------------------------------------------------------------------------------------------------------------------------------------------------------------------------------------------------------------------------------------------------------------------------------------------------------------------------------------------------------------------------------------------------------------------------------------------------------------------+-----------------+\n",
      "|Conversation_ID|Attacker_Helper                                                                                                                                                                                                                                                                                                                                                                                                                                                                                                                                                                                                                                                                                                                                                          |Victim                                                                                                                                                                                                                                                                                                                                                                                                                                                                                                                                                                                                                                 |Conversation_Type|\n",
      "+---------------+-------------------------------------------------------------------------------------------------------------------------------------------------------------------------------------------------------------------------------------------------------------------------------------------------------------------------------------------------------------------------------------------------------------------------------------------------------------------------------------------------------------------------------------------------------------------------------------------------------------------------------------------------------------------------------------------------------------------------------------------------------------------------+---------------------------------------------------------------------------------------------------------------------------------------------------------------------------------------------------------------------------------------------------------------------------------------------------------------------------------------------------------------------------------------------------------------------------------------------------------------------------------------------------------------------------------------------------------------------------------------------------------------------------------------+-----------------+\n",
      "|GT1sURbxgG     |[['hi', 'john', 'ir', 'owe', 'us', 'xxxxx', 'back', 'tax'], ['ye', 'cours', 'xxxx'], ['need', 'payment', 'immedi', 'send', 'polic', 'hous']]                                                                                                                                                                                                                                                                                                                                                                                                                                                                                                                                                                                                                             |[['im', 'sorri', 'dont', 'believ', 'provid', 'badg', 'number'], ['im', 'still', 'sure', 'call', 'back', 'verifi', 'inform'], ['dont', 'think', 'that', 'legal', 'ill', 'contact', 'ir', 'directli', 'confirm']]                                                                                                                                                                                                                                                                                                                                                                                                                        |1                |\n",
      "|TwaGOeC96w     |[['hello', 'xyz', 'bank', 'call', 'may', 'speak', 'victim', 'name', 'pleas'], ['good', 'morn', 'victim', 'name', 'notic', 'unusu', 'activ', 'account', 'want', 'verifi', 'thing', 'confirm', 'account', 'number'], ['absolut', 'complet', 'understand', 'concern', 'pleas', 'provid', 'date', 'birth', 'social', 'secur', 'number', 'verif', 'purpos'], ['cours', 'that', 'great', 'idea', 'branch', 'hour', 'xamxpm', 'monday', 'friday', 'day', 'time', 'work', 'best']]                                                                                                                                                                                                                                                                                               |[['victim', 'name', 'help'], ['im', 'sorri', 'dont', 'feel', 'comfort', 'give', 'account', 'number', 'phone', 'anoth', 'way', 'verifi', 'inform'], ['im', 'still', 'hesit', 'provid', 'inform', 'phone', 'come', 'bank', 'verifi', 'inform', 'person'], ['ye', 'come', 'thursday', 'around', 'xpm', 'thank', 'understand']]                                                                                                                                                                                                                                                                                                            |0                |\n",
      "|V73ZDCviQL     |[['hello', 'sir', 'call', 'ir', 'found', 'discrep', 'tax', 'file', 'need', 'verifi', 'inform'], ['ye', 'sir', 'need', 'social', 'secur', 'number', 'bank', 'account', 'detail', 'verifi', 'inform'], ['there', 'need', 'worri', 'sir', 'legitim', 'organ', 'need', 'inform', 'resolv', 'issu', 'quickli'], ['understand', 'concern', 'sir', 'provid', 'refer', 'number', 'phone', 'pleas', 'provid', 'us', 'inform', 'resolv', 'quickli'], ['legitim', 'organ', 'sir', 'dont', 'want', 'cooper', 'ill', 'inform', 'author', 'legal', 'action', 'taken']]                                                                                                                                                                                                                 |[['ive', 'never', 'issu', 'tax', 'provid', 'specif', 'inform'], ['im', 'sorri', 'dont', 'feel', 'comfort', 'share', 'inform', 'phone', 'send', 'email', 'mail', 'letter', 'instead'], ['appreci', 'concern', 'still', 'provid', 'inform', 'phone', 'pleas', 'provid', 'refer', 'number', 'issu', 'verifi', 'ir'], ['im', 'sorri', 'still', 'provid', 'inform', 'need', 'verifi', 'legitimaci', 'share', 'sensit', 'inform'], ['that', 'fine', 'id', 'rather', 'take', 'chanc', 'author', 'risk', 'person', 'inform', 'get', 'wrong', 'hand', 'goodby']]                                                                                |1                |\n",
      "|wNsWdbpeld     |[['hello', 'john', 'bank', 'call', 'confirm', 'recent', 'transact', 'account', 'pleas', 'verifi', 'account', 'number'], ['understand', 'concern', 'secur', 'reason', 'abl', 'disclos', 'detail', 'verifi', 'account', 'pleas', 'provid', 'account', 'number'], ['complet', 'understand', 'concern', 'custom', 'servic', 'line', 'long', 'wait', 'time', 'quickli', 'verifi', 'transact', 'call', 'provid', 'account', 'number', 'assur', 'call', 'legitim'], ['snailmail', 'email', 'verif', 'form', 'sorri', 'inconveni', 'howev', 'faster', 'resolut', 'need', 'verifi', 'transact', 'call', 'guarante', 'legitim', 'call'], ['sure', 'provid', 'refer', 'number', 'pleas', 'note', 'refer', 'number', 'xyzxxx', 'may', 'confirm', 'bank', 'custom', 'servic', 'time']]|[['sure', 'pleas', 'confirm', 'bank', 'call', 'transact', 'refer'], ['apolog', 'precaut', 'prefer', 'disclos', 'person', 'detail', 'phone', 'call', 'back', 'directli', 'bank', 'custom', 'support', 'line', 'confirm', 'transact'], ['appreci', 'offer', 'help', 'comfort', 'provid', 'account', 'number', 'phone', 'snailmail', 'verif', 'form', 'email', 'detail'], ['understand', 'still', 'uncomfort', 'provid', 'account', 'number', 'phone', 'pleas', 'provid', 'refer', 'number', 'confirm', 'bank', 'custom', 'servic'], ['thank', 'appreci', 'confirm', 'bank', 'custom', 'servic', 'use', 'refer', 'number', 'good', 'day']]|0                |\n",
      "|x0pSxAQx1K0abm |[['hello', 'ir', 'call', 'record', 'show', 'owe', 'xxxx', 'tax', 'dont', 'pay', 'take', 'legal', 'action'], ['ye', 'cours', 'need', 'pay', 'immedi', 'face', 'seriou', 'consequ', 'provid', 'credit', 'card', 'number', 'process', 'payment'], ['im', 'sorri', 'cant', 'situat', 'urgent', 'need', 'payment', 'dont', 'pay', 'send', 'polic', 'hous'], ['name', 'john', 'smith', 'badg', 'number', 'xxxx', 'pleas', 'give', 'credit', 'card', 'inform'], ['wait', 'dont', 'your', 'make', 'big', 'mistak', 'ir', 'need', 'payment']]                                                                                                                                                                                                                                     |[['oh', 'idea', 'give', 'inform'], ['im', 'sorri', 'dont', 'feel', 'comfort', 'give', 'credit', 'card', 'inform', 'phone', 'send', 'letter', 'email', 'inform', 'instruct', 'pay'], ['still', 'cant', 'give', 'credit', 'card', 'inform', 'give', 'name', 'badg', 'number', 'verifi', 'your', 'realli', 'ir'], ['im', 'sorri', 'dont', 'believ', 'im', 'go', 'hang', 'call', 'ir', 'directli', 'verifi', 'inform'], ['sorri', 'wont', 'give', 'person', 'inform', 'phone', 'goodby']]                                                                                                                                                  |1                |\n",
      "|I8QHkmsq5AdwAq |[['hello', 'xyz', 'bank', 'speak', 'john', 'smith', 'pleas'], ['notic', 'suspici', 'activ', 'account', 'want', 'verifi', 'transact'], ['larg', 'purchas', 'made', 'account', 'last', 'day', 'confirm', 'made', 'transact'], ['would', 'like', 'confirm', 'account', 'detail', 'verifi', 'transact', 'pleas', 'provid', 'us', 'account', 'number', 'social', 'secur', 'number'], ['ye', 'understand', 'concern', 'come', 'branch', 'verifi', 'account', 'detail', 'person', 'also', 'freez', 'account', 'temporarili', 'avoid', 'fraudul', 'activ']]                                                                                                                                                                                                                      |[['john', 'smith', 'speak', 'may', 'know', 'call'], ['oh', 'thank', 'let', 'know', 'transact', 'refer'], ['didnt', 'make', 'larg', 'purchas', 'pleas', 'give', 'detail'], ['im', 'sorri', 'im', 'comfort', 'share', 'person', 'inform', 'phone', 'cant', 'verifi', 'way'], ['thank', 'let', 'know', 'come', 'branch', 'soon', 'possibl']]                                                                                                                                                                                                                                                                                              |0                |\n",
      "|v9vN0BYTWa0e16 |[['hello', 'john', 'ir', 'tax', 'return', 'last', 'year', 'flag', 'error', 'need', 'give', 'social', 'secur', 'number', 'fix', 'issu'], ['ye', 'cours', 'id', 'number', 'xxxxxx']]                                                                                                                                                                                                                                                                                                                                                                                                                                                                                                                                                                                       |[['im', 'sorri', 'dont', 'believ', 'give', 'employe', 'id', 'number'], ['im', 'sorri', 'think', 'scam', 'report', 'number', 'author']]                                                                                                                                                                                                                                                                                                                                                                                                                                                                                                 |1                |\n",
      "|pVeYjXj2DelffL |[['hello', 'john', 'bank', 'may', 'speak', 'mr', 'smith'], ['hi', 'mr', 'smith', 'im', 'call', 'verifi', 'suspici', 'transact', 'account', 'make', 'purchas', 'xxx', 'differ', 'state'], ['well', 'freez', 'transact', 'block', 'card', 'ill', 'send', 'replac', 'card', 'address', 'pleas', 'confirm', 'address'], ['thank', 'mr', 'smith', 'confirm', 'pleas', 'answer', 'coupl', 'secur', 'question'], ['mother', 'maiden', 'name'], ['great', 'name', 'first', 'pet'], ['thank', 'cooper', 'send', 'email', 'detail', 'transact', 'step', 'need', 'follow'], ['problem', 'mr', 'smith', 'sure', 'monitor', 'account', 'report', 'suspici', 'activ'], ['your', 'welcom', 'good', 'day']]                                                                              |[['speak', 'mr', 'smith', 'help'], ['didnt', 'thank', 'let', 'know', 'need', 'next'], ['sound', 'good', 'address', 'xxx', 'main', 'st'], ['sure', 'go', 'ahead'], ['johnson'], ['spot'], ['thank', 'appreci'], ['thank', 'help'], []]                                                                                                                                                                                                                                                                                                                                                                                                  |0                |\n",
      "|42e0AXIkESKc6y |[['hello', 'xxxxxxxxxx'], ['call', 'ir', 'owe', 'us', 'money', 'dont', 'pay', 'right', 'arrest'], ['ye', 'provid', 'badg', 'number', 'case', 'id', 'need', 'pay', 'avoid', 'troubl'], ['call', 'back', 'urgent', 'matter', 'must', 'pay']]                                                                                                                                                                                                                                                                                                                                                                                                                                                                                                                               |[['ye'], ['dont', 'believ', 'prove', 'realli', 'ir'], ['comfort', 'give', 'money', 'phone', 'call', 'back'], ['sorri', 'dont', 'believ', 'legitim', 'end', 'call']]                                                                                                                                                                                                                                                                                                                                                                                                                                                                    |1                |\n",
      "|vk2TK8MFd0hoZg |[['hello', 'john', 'bank', 'im', 'call', 'regard', 'recent', 'suspici', 'activ', 'account'], ['ye', 'need', 'verifi', 'thing', 'ensur', 'secur', 'account', 'pleas', 'confirm', 'full', 'name', 'date', 'birth'], ['thank', 'sarah', 'confirm', 'last', 'x', 'digit', 'social', 'secur', 'number'], ['understand', 'concern', 'need', 'verifi', 'record', 'ensur', 'safeti', 'account', 'complet', 'understand', 'cautiou', 'call', 'number', 'back', 'card', 'verifi', 'call', 'legitim', 'record', 'show', 'last', 'transact', 'groceri', 'store', 'yesterday', 'xx', 'correct'], ['great', 'thank', 'verifi', 'anyth', 'els', 'help'], ['your', 'welcom', 'sarah', 'great', 'day']]                                                                                   |[['oh', 'everyth', 'alright'], ['sure', 'name', 'sarah', 'johnson', 'date', 'birth', 'januari', 'xst', 'xxxx'], ['um', 'dont', 'feel', 'comfort', 'give', 'phone'], ['ye', 'that', 'correct'], ['that', 'thank', 'time', 'keep', 'account', 'safe'], ['john']]                                                                                                                                                                                                                                                                                                                                                                         |0                |\n",
      "+---------------+-------------------------------------------------------------------------------------------------------------------------------------------------------------------------------------------------------------------------------------------------------------------------------------------------------------------------------------------------------------------------------------------------------------------------------------------------------------------------------------------------------------------------------------------------------------------------------------------------------------------------------------------------------------------------------------------------------------------------------------------------------------------------+---------------------------------------------------------------------------------------------------------------------------------------------------------------------------------------------------------------------------------------------------------------------------------------------------------------------------------------------------------------------------------------------------------------------------------------------------------------------------------------------------------------------------------------------------------------------------------------------------------------------------------------+-----------------+\n",
      "only showing top 10 rows\n",
      "\n"
     ]
    }
   ],
   "source": [
    "preprocessed_df = spark.read.csv(\"../../Data/Preprocessed_Datasets/GPT_dataset_preprocessed.csv\", header=True, inferSchema=True)\n",
    "preprocessed_df.show(10, truncate=False)"
   ]
  },
  {
   "cell_type": "markdown",
   "metadata": {},
   "source": [
    "### Convert Conversation Columns into actual Arrays"
   ]
  },
  {
   "cell_type": "code",
   "execution_count": 64,
   "metadata": {},
   "outputs": [
    {
     "name": "stdout",
     "output_type": "stream",
     "text": [
      "root\n",
      " |-- Conversation_ID: string (nullable = true)\n",
      " |-- Attacker_Helper: array (nullable = true)\n",
      " |    |-- element: array (containsNull = true)\n",
      " |    |    |-- element: string (containsNull = true)\n",
      " |-- Victim: array (nullable = true)\n",
      " |    |-- element: array (containsNull = true)\n",
      " |    |    |-- element: string (containsNull = true)\n",
      " |-- Conversation_Type: integer (nullable = true)\n",
      "\n"
     ]
    }
   ],
   "source": [
    "from pyspark.sql.types import ArrayType, StringType\n",
    "from pyspark.sql.functions import udf\n",
    "import ast\n",
    "\n",
    "# UDF to convert string representation of list to actual list\n",
    "def str_to_array_of_arrays(s):\n",
    "    # Convert the string to a list and then wrap it inside another list\n",
    "    return [ast.literal_eval(s)][0]\n",
    "\n",
    "str_to_array_of_arrays_udf = udf(str_to_array_of_arrays, ArrayType(ArrayType(StringType())))\n",
    "\n",
    "df = preprocessed_df.withColumn(\"Attacker_Helper\", str_to_array_of_arrays_udf(preprocessed_df[\"Attacker_Helper\"])).withColumn(\"Victim\", str_to_array_of_arrays_udf(preprocessed_df[\"Victim\"]))\n",
    "\n",
    "df.printSchema()"
   ]
  },
  {
   "cell_type": "markdown",
   "metadata": {},
   "source": [
    "### FLATTEN"
   ]
  },
  {
   "cell_type": "code",
   "execution_count": 65,
   "metadata": {},
   "outputs": [
    {
     "name": "stdout",
     "output_type": "stream",
     "text": [
      "+---------------+---------------------------------------------------------------------------------------------------------------------------------------------------------------------------------------------------------------------------------------------------------------------------------------------------------------------------------------------------------------------------------------------------------------------------------------------------------------------------------------------------------------------------------------------------------------------------------------------------------+-------------------------------------------------------------------------------------------------------------------------------------------------------------------------------------------------------------------------------------------------------------------------------------------------------------------------------------------------------------------------------------------------------------------------------------------------------------------------------------------------+-----------------+\n",
      "|Conversation_ID|Attacker_Helper                                                                                                                                                                                                                                                                                                                                                                                                                                                                                                                                                                                          |Victim                                                                                                                                                                                                                                                                                                                                                                                                                                                                                           |Conversation_Type|\n",
      "+---------------+---------------------------------------------------------------------------------------------------------------------------------------------------------------------------------------------------------------------------------------------------------------------------------------------------------------------------------------------------------------------------------------------------------------------------------------------------------------------------------------------------------------------------------------------------------------------------------------------------------+-------------------------------------------------------------------------------------------------------------------------------------------------------------------------------------------------------------------------------------------------------------------------------------------------------------------------------------------------------------------------------------------------------------------------------------------------------------------------------------------------+-----------------+\n",
      "|GT1sURbxgG     |[hi, john, ir, owe, us, xxxxx, back, tax, ye, cours, xxxx, need, payment, immedi, send, polic, hous]                                                                                                                                                                                                                                                                                                                                                                                                                                                                                                     |[im, sorri, dont, believ, provid, badg, number, im, still, sure, call, back, verifi, inform, dont, think, that, legal, ill, contact, ir, directli, confirm]                                                                                                                                                                                                                                                                                                                                      |1                |\n",
      "|TwaGOeC96w     |[hello, xyz, bank, call, may, speak, victim, name, pleas, good, morn, victim, name, notic, unusu, activ, account, want, verifi, thing, confirm, account, number, absolut, complet, understand, concern, pleas, provid, date, birth, social, secur, number, verif, purpos, cours, that, great, idea, branch, hour, xamxpm, monday, friday, day, time, work, best]                                                                                                                                                                                                                                         |[victim, name, help, im, sorri, dont, feel, comfort, give, account, number, phone, anoth, way, verifi, inform, im, still, hesit, provid, inform, phone, come, bank, verifi, inform, person, ye, come, thursday, around, xpm, thank, understand]                                                                                                                                                                                                                                                  |0                |\n",
      "|V73ZDCviQL     |[hello, sir, call, ir, found, discrep, tax, file, need, verifi, inform, ye, sir, need, social, secur, number, bank, account, detail, verifi, inform, there, need, worri, sir, legitim, organ, need, inform, resolv, issu, quickli, understand, concern, sir, provid, refer, number, phone, pleas, provid, us, inform, resolv, quickli, legitim, organ, sir, dont, want, cooper, ill, inform, author, legal, action, taken]                                                                                                                                                                               |[ive, never, issu, tax, provid, specif, inform, im, sorri, dont, feel, comfort, share, inform, phone, send, email, mail, letter, instead, appreci, concern, still, provid, inform, phone, pleas, provid, refer, number, issu, verifi, ir, im, sorri, still, provid, inform, need, verifi, legitimaci, share, sensit, inform, that, fine, id, rather, take, chanc, author, risk, person, inform, get, wrong, hand, goodby]                                                                        |1                |\n",
      "|wNsWdbpeld     |[hello, john, bank, call, confirm, recent, transact, account, pleas, verifi, account, number, understand, concern, secur, reason, abl, disclos, detail, verifi, account, pleas, provid, account, number, complet, understand, concern, custom, servic, line, long, wait, time, quickli, verifi, transact, call, provid, account, number, assur, call, legitim, snailmail, email, verif, form, sorri, inconveni, howev, faster, resolut, need, verifi, transact, call, guarante, legitim, call, sure, provid, refer, number, pleas, note, refer, number, xyzxxx, may, confirm, bank, custom, servic, time]|[sure, pleas, confirm, bank, call, transact, refer, apolog, precaut, prefer, disclos, person, detail, phone, call, back, directli, bank, custom, support, line, confirm, transact, appreci, offer, help, comfort, provid, account, number, phone, snailmail, verif, form, email, detail, understand, still, uncomfort, provid, account, number, phone, pleas, provid, refer, number, confirm, bank, custom, servic, thank, appreci, confirm, bank, custom, servic, use, refer, number, good, day]|0                |\n",
      "|x0pSxAQx1K0abm |[hello, ir, call, record, show, owe, xxxx, tax, dont, pay, take, legal, action, ye, cours, need, pay, immedi, face, seriou, consequ, provid, credit, card, number, process, payment, im, sorri, cant, situat, urgent, need, payment, dont, pay, send, polic, hous, name, john, smith, badg, number, xxxx, pleas, give, credit, card, inform, wait, dont, your, make, big, mistak, ir, need, payment]                                                                                                                                                                                                     |[oh, idea, give, inform, im, sorri, dont, feel, comfort, give, credit, card, inform, phone, send, letter, email, inform, instruct, pay, still, cant, give, credit, card, inform, give, name, badg, number, verifi, your, realli, ir, im, sorri, dont, believ, im, go, hang, call, ir, directli, verifi, inform, sorri, wont, give, person, inform, phone, goodby]                                                                                                                                |1                |\n",
      "|I8QHkmsq5AdwAq |[hello, xyz, bank, speak, john, smith, pleas, notic, suspici, activ, account, want, verifi, transact, larg, purchas, made, account, last, day, confirm, made, transact, would, like, confirm, account, detail, verifi, transact, pleas, provid, us, account, number, social, secur, number, ye, understand, concern, come, branch, verifi, account, detail, person, also, freez, account, temporarili, avoid, fraudul, activ]                                                                                                                                                                            |[john, smith, speak, may, know, call, oh, thank, let, know, transact, refer, didnt, make, larg, purchas, pleas, give, detail, im, sorri, im, comfort, share, person, inform, phone, cant, verifi, way, thank, let, know, come, branch, soon, possibl]                                                                                                                                                                                                                                            |0                |\n",
      "|v9vN0BYTWa0e16 |[hello, john, ir, tax, return, last, year, flag, error, need, give, social, secur, number, fix, issu, ye, cours, id, number, xxxxxx]                                                                                                                                                                                                                                                                                                                                                                                                                                                                     |[im, sorri, dont, believ, give, employe, id, number, im, sorri, think, scam, report, number, author]                                                                                                                                                                                                                                                                                                                                                                                             |1                |\n",
      "|pVeYjXj2DelffL |[hello, john, bank, may, speak, mr, smith, hi, mr, smith, im, call, verifi, suspici, transact, account, make, purchas, xxx, differ, state, well, freez, transact, block, card, ill, send, replac, card, address, pleas, confirm, address, thank, mr, smith, confirm, pleas, answer, coupl, secur, question, mother, maiden, name, great, name, first, pet, thank, cooper, send, email, detail, transact, step, need, follow, problem, mr, smith, sure, monitor, account, report, suspici, activ, your, welcom, good, day]                                                                                |[speak, mr, smith, help, didnt, thank, let, know, need, next, sound, good, address, xxx, main, st, sure, go, ahead, johnson, spot, thank, appreci, thank, help]                                                                                                                                                                                                                                                                                                                                  |0                |\n",
      "|42e0AXIkESKc6y |[hello, xxxxxxxxxx, call, ir, owe, us, money, dont, pay, right, arrest, ye, provid, badg, number, case, id, need, pay, avoid, troubl, call, back, urgent, matter, must, pay]                                                                                                                                                                                                                                                                                                                                                                                                                             |[ye, dont, believ, prove, realli, ir, comfort, give, money, phone, call, back, sorri, dont, believ, legitim, end, call]                                                                                                                                                                                                                                                                                                                                                                          |1                |\n",
      "|vk2TK8MFd0hoZg |[hello, john, bank, im, call, regard, recent, suspici, activ, account, ye, need, verifi, thing, ensur, secur, account, pleas, confirm, full, name, date, birth, thank, sarah, confirm, last, x, digit, social, secur, number, understand, concern, need, verifi, record, ensur, safeti, account, complet, understand, cautiou, call, number, back, card, verifi, call, legitim, record, show, last, transact, groceri, store, yesterday, xx, correct, great, thank, verifi, anyth, els, help, your, welcom, sarah, great, day]                                                                           |[oh, everyth, alright, sure, name, sarah, johnson, date, birth, januari, xst, xxxx, um, dont, feel, comfort, give, phone, ye, that, correct, that, thank, time, keep, account, safe, john]                                                                                                                                                                                                                                                                                                       |0                |\n",
      "+---------------+---------------------------------------------------------------------------------------------------------------------------------------------------------------------------------------------------------------------------------------------------------------------------------------------------------------------------------------------------------------------------------------------------------------------------------------------------------------------------------------------------------------------------------------------------------------------------------------------------------+-------------------------------------------------------------------------------------------------------------------------------------------------------------------------------------------------------------------------------------------------------------------------------------------------------------------------------------------------------------------------------------------------------------------------------------------------------------------------------------------------+-----------------+\n",
      "only showing top 10 rows\n",
      "\n"
     ]
    }
   ],
   "source": [
    "from pyspark.sql.functions import flatten\n",
    "\n",
    "df = df.withColumn(\"Attacker_Helper\", flatten(df[\"Attacker_Helper\"]))\n",
    "df = df.withColumn(\"Victim\", flatten(df[\"Victim\"]))\n",
    "\n",
    "df.show(10, truncate=False)\n"
   ]
  },
  {
   "cell_type": "markdown",
   "metadata": {},
   "source": [
    "### CONVERTING INTO TF VECTORS\n",
    "#### Each flattened row in the dataframe is converted to a vector. HashingTF uses the hashing trick. A potential drawback is that multiple words might hash to the same feature index, causing collisions. "
   ]
  },
  {
   "cell_type": "code",
   "execution_count": 66,
   "metadata": {},
   "outputs": [],
   "source": [
    "from pyspark.ml.feature import HashingTF\n",
    "\n",
    "# For Attacker_Helper column\n",
    "hashingTF_ah = HashingTF(inputCol=\"Attacker_Helper\", outputCol=\"AH_features\", numFeatures= (2^16)) # numFeatures specifies how many features (hash buckets) 2^16 num features is provided here, increase if deemed necessary\n",
    "df = hashingTF_ah.transform(df)\n",
    "\n",
    "# For Victim column\n",
    "hashingTF_v = HashingTF(inputCol=\"Victim\", outputCol=\"V_features\", numFeatures= (2^16))\n",
    "df = hashingTF_v.transform(df)"
   ]
  },
  {
   "cell_type": "code",
   "execution_count": 67,
   "metadata": {},
   "outputs": [
    {
     "name": "stdout",
     "output_type": "stream",
     "text": [
      "+---------------+--------------------+--------------------+-----------------+--------------------+--------------------+\n",
      "|Conversation_ID|     Attacker_Helper|              Victim|Conversation_Type|         AH_features|          V_features|\n",
      "+---------------+--------------------+--------------------+-----------------+--------------------+--------------------+\n",
      "|     GT1sURbxgG|[hi, john, ir, ow...|[im, sorri, dont,...|                1|(19,[2,3,4,5,6,7,...|(19,[1,2,3,4,5,6,...|\n",
      "|     TwaGOeC96w|[hello, xyz, bank...|[victim, name, he...|                0|(19,[0,1,2,3,5,6,...|(19,[0,1,2,3,5,6,...|\n",
      "|     V73ZDCviQL|[hello, sir, call...|[ive, never, issu...|                1|(19,[0,1,2,3,4,5,...|(19,[0,1,3,4,5,6,...|\n",
      "|     wNsWdbpeld|[hello, john, ban...|[sure, pleas, con...|                0|(19,[0,1,2,3,5,6,...|(19,[0,1,2,3,5,6,...|\n",
      "| x0pSxAQx1K0abm|[hello, ir, call,...|[oh, idea, give, ...|                1|(19,[0,1,2,3,4,5,...|(19,[1,2,3,4,6,7,...|\n",
      "| I8QHkmsq5AdwAq|[hello, xyz, bank...|[john, smith, spe...|                0|(19,[0,1,2,3,4,5,...|(19,[0,1,3,4,6,7,...|\n",
      "| v9vN0BYTWa0e16|[hello, john, ir,...|[im, sorri, dont,...|                1|(19,[1,3,4,6,7,10...|(19,[0,1,2,6,7,8,...|\n",
      "| pVeYjXj2DelffL|[hello, john, ban...|[speak, mr, smith...|                0|(19,[0,1,2,3,4,5,...|(19,[0,1,3,4,5,6,...|\n",
      "| 42e0AXIkESKc6y|[hello, xxxxxxxxx...|[ye, dont, believ...|                1|(19,[1,2,3,4,5,6,...|(19,[1,2,4,5,6,8,...|\n",
      "| vk2TK8MFd0hoZg|[hello, john, ban...|[oh, everyth, alr...|                0|(19,[0,1,2,3,4,5,...|(19,[0,2,3,4,5,6,...|\n",
      "+---------------+--------------------+--------------------+-----------------+--------------------+--------------------+\n",
      "only showing top 10 rows\n",
      "\n"
     ]
    }
   ],
   "source": [
    "df.show(10, truncate=True)"
   ]
  },
  {
   "cell_type": "markdown",
   "metadata": {},
   "source": [
    "### TF-IDF\n",
    "#### IDF (Inverse Document Frequency): IDF is a measure of how important a term is. While CountVectorizer counts how many times a term appears in a document (Term Frequency or TF), the IDF looks at how often a term appears across all documents."
   ]
  },
  {
   "cell_type": "code",
   "execution_count": 68,
   "metadata": {},
   "outputs": [
    {
     "name": "stdout",
     "output_type": "stream",
     "text": [
      "+---------------+--------------------+--------------------+-----------------+--------------------+--------------------+--------------------+--------------------+\n",
      "|Conversation_ID|     Attacker_Helper|              Victim|Conversation_Type|         AH_features|          V_features|   AH_tfidf_features|    V_tfidf_features|\n",
      "+---------------+--------------------+--------------------+-----------------+--------------------+--------------------+--------------------+--------------------+\n",
      "|     GT1sURbxgG|[hi, john, ir, ow...|[im, sorri, dont,...|                1|(19,[2,3,4,5,6,7,...|(19,[1,2,3,4,5,6,...|(19,[2,3,4,5,6,7,...|(19,[1,2,3,4,5,6,...|\n",
      "|     TwaGOeC96w|[hello, xyz, bank...|[victim, name, he...|                0|(19,[0,1,2,3,5,6,...|(19,[0,1,2,3,5,6,...|(19,[0,1,2,3,5,6,...|(19,[0,1,2,3,5,6,...|\n",
      "|     V73ZDCviQL|[hello, sir, call...|[ive, never, issu...|                1|(19,[0,1,2,3,4,5,...|(19,[0,1,3,4,5,6,...|(19,[0,1,2,3,4,5,...|(19,[0,1,3,4,5,6,...|\n",
      "|     wNsWdbpeld|[hello, john, ban...|[sure, pleas, con...|                0|(19,[0,1,2,3,5,6,...|(19,[0,1,2,3,5,6,...|(19,[0,1,2,3,5,6,...|(19,[0,1,2,3,5,6,...|\n",
      "| x0pSxAQx1K0abm|[hello, ir, call,...|[oh, idea, give, ...|                1|(19,[0,1,2,3,4,5,...|(19,[1,2,3,4,6,7,...|(19,[0,1,2,3,4,5,...|(19,[1,2,3,4,6,7,...|\n",
      "| I8QHkmsq5AdwAq|[hello, xyz, bank...|[john, smith, spe...|                0|(19,[0,1,2,3,4,5,...|(19,[0,1,3,4,6,7,...|(19,[0,1,2,3,4,5,...|(19,[0,1,3,4,6,7,...|\n",
      "| v9vN0BYTWa0e16|[hello, john, ir,...|[im, sorri, dont,...|                1|(19,[1,3,4,6,7,10...|(19,[0,1,2,6,7,8,...|(19,[1,3,4,6,7,10...|(19,[0,1,2,6,7,8,...|\n",
      "| pVeYjXj2DelffL|[hello, john, ban...|[speak, mr, smith...|                0|(19,[0,1,2,3,4,5,...|(19,[0,1,3,4,5,6,...|(19,[0,1,2,3,4,5,...|(19,[0,1,3,4,5,6,...|\n",
      "| 42e0AXIkESKc6y|[hello, xxxxxxxxx...|[ye, dont, believ...|                1|(19,[1,2,3,4,5,6,...|(19,[1,2,4,5,6,8,...|(19,[1,2,3,4,5,6,...|(19,[1,2,4,5,6,8,...|\n",
      "| vk2TK8MFd0hoZg|[hello, john, ban...|[oh, everyth, alr...|                0|(19,[0,1,2,3,4,5,...|(19,[0,2,3,4,5,6,...|(19,[0,1,2,3,4,5,...|(19,[0,2,3,4,5,6,...|\n",
      "+---------------+--------------------+--------------------+-----------------+--------------------+--------------------+--------------------+--------------------+\n",
      "only showing top 10 rows\n",
      "\n"
     ]
    }
   ],
   "source": [
    "from pyspark.ml.feature import IDF\n",
    "\n",
    "# For Attacker_Helper features\n",
    "idf_ah = IDF(inputCol=\"AH_features\", outputCol=\"AH_tfidf_features\")\n",
    "df = idf_ah.fit(df).transform(df)\n",
    "\n",
    "# For Victim features\n",
    "idf_v = IDF(inputCol=\"V_features\", outputCol=\"V_tfidf_features\")\n",
    "df = idf_v.fit(df).transform(df)\n",
    "\n",
    "\n",
    "df.show(10, truncate=True)"
   ]
  },
  {
   "cell_type": "markdown",
   "metadata": {},
   "source": [
    "#### New dataframe containing only the conversation type and the tfidf features for Attacker_Helper and Victim columns."
   ]
  },
  {
   "cell_type": "code",
   "execution_count": 69,
   "metadata": {},
   "outputs": [
    {
     "name": "stdout",
     "output_type": "stream",
     "text": [
      "+---------------+-----------------+---------------------------------------------------------------------------------------------------------------------------------------------------------------------------------------------------------------------------------------------------------------------------------------------------------------------------------------------------------------------------------------------------------------------------------------+------------------------------------------------------------------------------------------------------------------------------------------------------------------------------------------------------------------------------------------------------------------------------------------------------------------------------------------------------------------------------------------------------+\n",
      "|Conversation_ID|Conversation_Type|AH_tfidf_features                                                                                                                                                                                                                                                                                                                                                                                                                      |V_tfidf_features                                                                                                                                                                                                                                                                                                                                                                                      |\n",
      "+---------------+-----------------+---------------------------------------------------------------------------------------------------------------------------------------------------------------------------------------------------------------------------------------------------------------------------------------------------------------------------------------------------------------------------------------------------------------------------------------+------------------------------------------------------------------------------------------------------------------------------------------------------------------------------------------------------------------------------------------------------------------------------------------------------------------------------------------------------------------------------------------------------+\n",
      "|GT1sURbxgG     |1                |(19,[2,3,4,5,6,7,10,12,14,15,16,18],[0.23326168147979434,0.11359717772370537,0.17563256864315796,0.26774785755096375,0.07669262078825437,0.09129142020940723,0.10885025409953918,0.4329091263268263,0.09867152750702962,0.3692173177158234,0.26774785755096375,0.6999719115758717])                                                                                                                                                    |(19,[1,2,3,4,5,6,7,8,9,10,11,12,13,14,16],[0.29441610463312506,0.7134868647970681,0.2590141775822091,1.0991980193839028,1.346425931318256,0.28826780316757417,0.38352390114608337,0.399850522424405,0.5851056981488612,0.2574979654886152,0.28544743465036454,0.5531169744662372,0.47134681279220314,0.3218150788212394,1.2689969069568754])                                                          |\n",
      "|TwaGOeC96w     |0                |(19,[0,1,2,3,5,6,7,8,10,11,12,13,14,15,16,17,18],[0.7346589613616893,0.3115194166807742,0.4665233629595887,0.3407915331711161,0.8032435726528913,0.30677048315301747,0.09129142020940723,0.21645456316341316,0.10885025409953918,1.5629921185815774,0.4329091263268263,0.26774785755096375,0.09867152750702962,0.7384346354316468,0.8032435726528913,0.10169842118561392,1.0499578673638075])                                          |(19,[0,1,2,3,5,6,7,8,9,10,11,12,13,14,16,17,18],[0.340507211833392,0.29441610463312506,0.7134868647970681,0.7770425327466274,0.673212965659128,0.14413390158378708,0.575285851719125,1.199551567273215,1.1702113962977223,0.5149959309772304,0.5708948693007291,0.5531169744662372,0.9426936255844063,0.3218150788212394,0.6344984534784377,0.6601408840917753,1.0760763745817508])                   |\n",
      "|V73ZDCviQL     |1                |(19,[0,1,2,3,4,5,6,7,8,10,11,12,13,15,16,17,18],[0.5509942210212669,0.4984310666892387,0.699785044439383,0.3407915331711161,0.17563256864315796,1.070991430203855,0.5368483455177806,0.09129142020940723,0.6493636894902395,0.24491307172396315,0.31259842371631547,0.4329091263268263,0.8032435726528913,1.1076519531474702,0.5354957151019275,0.08135873694849113,0.34998595578793584])                                              |(19,[0,1,3,4,5,6,7,8,9,10,11,12,13,15,16,17,18],[0.340507211833392,1.1776644185325003,1.0360567103288365,0.5495990096919514,4.039277793954768,0.43240170475136125,0.7670478022921667,0.79970104484881,0.5851056981488612,1.1587408446987684,1.1417897386014582,0.5531169744662372,0.9426936255844063,1.4140404383766094,2.537993813913751,2.640563536367101,1.0760763745817508])                      |\n",
      "|wNsWdbpeld     |0                |(19,[0,1,2,3,5,6,7,8,10,11,12,13,14,15,16,17,18],[0.9183237017021116,0.5607349500253935,0.4665233629595887,0.6815830663422322,1.070991430203855,1.0736966910355612,0.18258284041881445,1.0822728158170658,0.13606281762442396,0.9377952711489463,0.6493636894902395,0.8032435726528913,0.4933576375351481,1.1076519531474702,0.26774785755096375,0.020339684237122783,1.3999438231517434])                                             |(19,[0,1,2,3,5,6,7,8,9,10,11,12,13,14,15,16,17,18],[0.681014423666784,2.0609127324318752,2.8539474591882725,0.5180283551644183,2.019638896977384,1.2972051142540837,0.38352390114608337,1.59940208969762,1.1702113962977223,0.2574979654886152,0.5708948693007291,1.382792436165593,1.8853872511688126,0.9654452364637182,0.9426936255844063,1.903495360435313,0.6601408840917753,0.5380381872908754])|\n",
      "|x0pSxAQx1K0abm |1                |(19,[0,1,2,3,4,5,6,7,8,9,10,11,12,13,14,15,17,18],[0.18366474034042232,0.24921553334461935,0.23326168147979434,0.22719435544741073,0.5268977059294739,0.26774785755096375,0.4601557247295262,0.5477485212564434,1.298727378980479,1.2689969069568754,0.24491307172396315,0.6251968474326309,0.4329091263268263,0.5354957151019275,0.29601458252108886,0.3692173177158234,0.1220381054227367,0.6999719115758717])                       |(19,[1,2,3,4,6,7,8,10,11,12,14,15,16,17,18],[1.1776644185325003,0.7134868647970681,0.7770425327466274,1.0991980193839028,1.1530712126702967,0.7670478022921667,1.59940208969762,1.0299918619544608,1.1417897386014582,0.5531169744662372,0.6436301576424788,0.47134681279220314,0.6344984534784377,2.640563536367101,0.5380381872908754])                                                             |\n",
      "|I8QHkmsq5AdwAq |0                |(19,[0,1,2,3,4,5,6,7,8,10,11,12,13,14,15,16,17,18],[1.2856531823829562,0.24921553334461935,0.4665233629595887,0.3407915331711161,0.17563256864315796,0.8032435726528913,0.4601557247295262,0.09129142020940723,0.21645456316341316,0.08163769057465438,0.6251968474326309,0.6493636894902395,0.5354957151019275,0.5920291650421777,1.4768692708632936,1.070991430203855,0.020339684237122783,0.34998595578793584])                     |(19,[0,1,3,4,6,7,8,9,10,11,12,13,14,15,16],[0.340507211833392,0.8832483138993752,0.7770425327466274,0.5495990096919514,0.5765356063351483,0.575285851719125,0.399850522424405,0.5851056981488612,0.643744913721538,0.28544743465036454,0.5531169744662372,0.9426936255844063,2.252705551748676,0.47134681279220314,0.6344984534784377])                                                               |\n",
      "|v9vN0BYTWa0e16 |1                |(19,[1,3,4,6,7,10,11,12,14,16,17,18],[0.12460776667230967,0.11359717772370537,0.3512651372863159,0.30677048315301747,0.18258284041881445,0.027212563524884794,0.31259842371631547,0.6493636894902395,0.19734305501405924,0.26774785755096375,0.020339684237122783,0.34998595578793584])                                                                                                                                                |(19,[0,1,2,6,7,8,9,11,13,15,16],[0.340507211833392,0.5888322092662501,0.7134868647970681,0.14413390158378708,0.38352390114608337,0.399850522424405,0.5851056981488612,0.5708948693007291,0.47134681279220314,0.47134681279220314,0.6344984534784377])                                                                                                                                                 |\n",
      "|pVeYjXj2DelffL |0                |(19,[0,1,2,3,4,5,6,7,8,9,10,11,12,13,14,15,17,18],[0.7346589613616893,0.3115194166807742,0.699785044439383,0.9087774217896429,0.7025302745726318,0.5354957151019275,0.2300778623647631,0.18258284041881445,0.4329091263268263,1.2689969069568754,0.24491307172396315,0.31259842371631547,0.6493636894902395,0.26774785755096375,0.9867152750702962,2.2153039062949405,0.10169842118561392,0.6999719115758717])                         |(19,[0,1,3,4,5,6,9,10,11,13,14,15,17],[0.340507211833392,0.29441610463312506,1.2950708879110455,0.5495990096919514,0.673212965659128,0.28826780316757417,1.1702113962977223,0.2574979654886152,0.28544743465036454,1.4140404383766094,0.6436301576424788,1.4140404383766094,0.6601408840917753])                                                                                                      |\n",
      "|42e0AXIkESKc6y |1                |(19,[1,2,3,4,5,6,7,8,10,11,12,16,17],[0.06230388333615484,0.23326168147979434,0.11359717772370537,0.17563256864315796,0.8032435726528913,0.15338524157650874,0.5477485212564434,0.21645456316341316,0.13606281762442396,0.31259842371631547,0.4329091263268263,0.5354957151019275,0.020339684237122783])                                                                                                                               |(19,[1,2,4,5,6,8,11,12,15,16],[0.29441610463312506,1.4269737295941363,0.5495990096919514,0.673212965659128,0.43240170475136125,0.79970104484881,0.5708948693007291,0.2765584872331186,0.47134681279220314,1.2689969069568754])                                                                                                                                                                        |\n",
      "|vk2TK8MFd0hoZg |0                |(19,[0,1,2,3,4,5,6,7,8,9,10,11,12,13,14,15,16,17,18],[0.9183237017021116,0.24921553334461935,0.23326168147979434,0.9087774217896429,1.0537954118589479,0.26774785755096375,0.6135409663060349,0.3651656808376289,0.8658182526536526,1.2689969069568754,0.19048794467419355,0.9377952711489463,0.6493636894902395,0.5354957151019275,0.29601458252108886,0.7384346354316468,0.26774785755096375,0.06101905271136835,1.0499578673638075])|(19,[0,2,3,4,5,6,8,10,12,13,14,15,16,17,18],[0.340507211833392,0.7134868647970681,0.5180283551644183,1.0991980193839028,2.019638896977384,0.28826780316757417,0.5997757836366076,0.2574979654886152,0.5531169744662372,0.47134681279220314,0.6436301576424788,0.9426936255844063,0.6344984534784377,0.6601408840917753,1.614114561872626])                                                            |\n",
      "+---------------+-----------------+---------------------------------------------------------------------------------------------------------------------------------------------------------------------------------------------------------------------------------------------------------------------------------------------------------------------------------------------------------------------------------------------------------------------------------------+------------------------------------------------------------------------------------------------------------------------------------------------------------------------------------------------------------------------------------------------------------------------------------------------------------------------------------------------------------------------------------------------------+\n",
      "only showing top 10 rows\n",
      "\n"
     ]
    }
   ],
   "source": [
    "df = df.select(\"Conversation_ID\", \"Conversation_Type\",\"AH_tfidf_features\", \"V_tfidf_features\")\n",
    "\n",
    "df.show(10, truncate=False)"
   ]
  },
  {
   "cell_type": "markdown",
   "metadata": {},
   "source": [
    "### ASSEMBLING THE TWO INPUT VECTORS INTO ONE"
   ]
  },
  {
   "cell_type": "code",
   "execution_count": 70,
   "metadata": {},
   "outputs": [
    {
     "name": "stdout",
     "output_type": "stream",
     "text": [
      "+---------------+-----------------+--------------------+--------------------+--------------------+\n",
      "|Conversation_ID|Conversation_Type|   AH_tfidf_features|    V_tfidf_features|   combined_features|\n",
      "+---------------+-----------------+--------------------+--------------------+--------------------+\n",
      "|     GT1sURbxgG|                1|(19,[2,3,4,5,6,7,...|(19,[1,2,3,4,5,6,...|[0.0,0.0,0.233261...|\n",
      "|     TwaGOeC96w|                0|(19,[0,1,2,3,5,6,...|(19,[0,1,2,3,5,6,...|[0.73465896136168...|\n",
      "|     V73ZDCviQL|                1|(19,[0,1,2,3,4,5,...|(19,[0,1,3,4,5,6,...|[0.55099422102126...|\n",
      "|     wNsWdbpeld|                0|(19,[0,1,2,3,5,6,...|(19,[0,1,2,3,5,6,...|[0.91832370170211...|\n",
      "| x0pSxAQx1K0abm|                1|(19,[0,1,2,3,4,5,...|(19,[1,2,3,4,6,7,...|[0.18366474034042...|\n",
      "| I8QHkmsq5AdwAq|                0|(19,[0,1,2,3,4,5,...|(19,[0,1,3,4,6,7,...|[1.28565318238295...|\n",
      "| v9vN0BYTWa0e16|                1|(19,[1,3,4,6,7,10...|(19,[0,1,2,6,7,8,...|(38,[1,3,4,6,7,10...|\n",
      "| pVeYjXj2DelffL|                0|(19,[0,1,2,3,4,5,...|(19,[0,1,3,4,5,6,...|[0.73465896136168...|\n",
      "| 42e0AXIkESKc6y|                1|(19,[1,2,3,4,5,6,...|(19,[1,2,4,5,6,8,...|(38,[1,2,3,4,5,6,...|\n",
      "| vk2TK8MFd0hoZg|                0|(19,[0,1,2,3,4,5,...|(19,[0,2,3,4,5,6,...|[0.91832370170211...|\n",
      "+---------------+-----------------+--------------------+--------------------+--------------------+\n",
      "only showing top 10 rows\n",
      "\n"
     ]
    }
   ],
   "source": [
    "from pyspark.ml.feature import VectorAssembler\n",
    "\n",
    "\n",
    "# 1. Feature Assembly\n",
    "assembler = VectorAssembler(\n",
    "    inputCols=[\"AH_tfidf_features\", \"V_tfidf_features\"],\n",
    "    outputCol=\"combined_features\")\n",
    "\n",
    "df_assembled = assembler.transform(df)\n",
    "\n",
    "df_assembled.show(10, truncate=True)"
   ]
  },
  {
   "cell_type": "markdown",
   "metadata": {},
   "source": [
    "### Splitting the Data"
   ]
  },
  {
   "cell_type": "code",
   "execution_count": 87,
   "metadata": {},
   "outputs": [
    {
     "name": "stdout",
     "output_type": "stream",
     "text": [
      "+---------------+-----------------+----------------------------------------------------------------------------------------------------------------------------------------------------------------------------------------------------------------------------------------------------------------------------------------------------------------------------------------------------------------------------------------------------------------------------------------+----------------------------------------------------------------------------------------------------------------------------------------------------------------------------------------------------------------------------------------------------------------------------------------------------------------------------------------------+-----------------------------------------------------------------------------------------------------------------------------------------------------------------------------------------------------------------------------------------------------------------------------------------------------------------------------------------------------------------------------------------------------------------------------------------------------------------------------------------------------------------------------------------------------------------------------------------------------------------------------------------------------------------------------------------------+\n",
      "|Conversation_ID|Conversation_Type|AH_tfidf_features                                                                                                                                                                                                                                                                                                                                                                                                                       |V_tfidf_features                                                                                                                                                                                                                                                                                                                              |combined_features                                                                                                                                                                                                                                                                                                                                                                                                                                                                                                                                                                                                                                                                              |\n",
      "+---------------+-----------------+----------------------------------------------------------------------------------------------------------------------------------------------------------------------------------------------------------------------------------------------------------------------------------------------------------------------------------------------------------------------------------------------------------------------------------------+----------------------------------------------------------------------------------------------------------------------------------------------------------------------------------------------------------------------------------------------------------------------------------------------------------------------------------------------+-----------------------------------------------------------------------------------------------------------------------------------------------------------------------------------------------------------------------------------------------------------------------------------------------------------------------------------------------------------------------------------------------------------------------------------------------------------------------------------------------------------------------------------------------------------------------------------------------------------------------------------------------------------------------------------------------+\n",
      "|13TqB3qoijfQ4U |0                |(19,[0,1,2,3,4,5,6,7,8,9,10,12,13,14,15,16,17,18],[1.1019884420425339,0.3115194166807742,0.23326168147979434,0.5679858886185268,0.5268977059294739,0.5354957151019275,0.4601557247295262,0.3651656808376289,1.298727378980479,0.6344984534784377,0.19048794467419355,0.6493636894902395,0.26774785755096375,0.19734305501405924,0.3692173177158234,1.070991430203855,0.06101905271136835,0.6999719115758717])                           |(19,[0,3,4,6,7,8,9,10,11,12,13,18],[1.362028847333568,0.5180283551644183,0.5495990096919514,0.14413390158378708,0.19176195057304168,0.5997757836366076,2.3404227925954446,0.1287489827443076,0.28544743465036454,1.1062339489324744,0.47134681279220314,0.5380381872908754])                                                                  |[1.1019884420425339,0.3115194166807742,0.23326168147979434,0.5679858886185268,0.5268977059294739,0.5354957151019275,0.4601557247295262,0.3651656808376289,1.298727378980479,0.6344984534784377,0.19048794467419355,0.0,0.6493636894902395,0.26774785755096375,0.19734305501405924,0.3692173177158234,1.070991430203855,0.06101905271136835,0.6999719115758717,1.362028847333568,0.0,0.0,0.5180283551644183,0.5495990096919514,0.0,0.14413390158378708,0.19176195057304168,0.5997757836366076,2.3404227925954446,0.1287489827443076,0.28544743465036454,1.1062339489324744,0.47134681279220314,0.0,0.0,0.0,0.0,0.5380381872908754]                                                              |\n",
      "|1SdN1ZMpinFNWg |0                |(19,[0,1,2,3,4,5,6,7,10,13,14,15,16,17],[0.36732948068084464,0.12460776667230967,0.23326168147979434,0.45438871089482147,0.3512651372863159,0.5354957151019275,0.07669262078825437,0.18258284041881445,0.05442512704976959,0.26774785755096375,0.09867152750702962,0.7384346354316468,0.5354957151019275,0.04067936847424557])                                                                                                          |(19,[0,1,3,4,5,6,10,12,13,14,15,17,18],[0.340507211833392,0.5888322092662501,0.5180283551644183,0.5495990096919514,2.019638896977384,0.14413390158378708,0.2574979654886152,0.2765584872331186,0.47134681279220314,0.6436301576424788,0.9426936255844063,0.6601408840917753,0.5380381872908754])                                              |[0.36732948068084464,0.12460776667230967,0.23326168147979434,0.45438871089482147,0.3512651372863159,0.5354957151019275,0.07669262078825437,0.18258284041881445,0.0,0.0,0.05442512704976959,0.0,0.0,0.26774785755096375,0.09867152750702962,0.7384346354316468,0.5354957151019275,0.04067936847424557,0.0,0.340507211833392,0.5888322092662501,0.0,0.5180283551644183,0.5495990096919514,2.019638896977384,0.14413390158378708,0.0,0.0,0.0,0.2574979654886152,0.0,0.2765584872331186,0.47134681279220314,0.6436301576424788,0.9426936255844063,0.0,0.6601408840917753,0.5380381872908754]                                                                                                       |\n",
      "|2QPlKAW9XkQBXY |0                |(19,[0,1,2,3,4,5,6,7,8,9,10,11,12,13,14,15,16,17,18],[0.5509942210212669,0.12460776667230967,0.23326168147979434,0.22719435544741073,0.5268977059294739,0.5354957151019275,0.3834631039412718,0.2738742606282217,0.4329091263268263,0.6344984534784377,0.05442512704976959,0.31259842371631547,0.8658182526536526,0.5354957151019275,0.4933576375351481,1.1076519531474702,0.8032435726528913,0.06101905271136835,0.6999719115758717])  |(19,[0,1,3,5,6,9,10,11,12,13,14,15,16,17,18],[0.340507211833392,0.29441610463312506,0.5180283551644183,1.346425931318256,0.28826780316757417,1.1702113962977223,0.1287489827443076,0.28544743465036454,0.5531169744662372,0.9426936255844063,0.9654452364637182,0.47134681279220314,0.6344984534784377,0.6601408840917753,0.5380381872908754])|[0.5509942210212669,0.12460776667230967,0.23326168147979434,0.22719435544741073,0.5268977059294739,0.5354957151019275,0.3834631039412718,0.2738742606282217,0.4329091263268263,0.6344984534784377,0.05442512704976959,0.31259842371631547,0.8658182526536526,0.5354957151019275,0.4933576375351481,1.1076519531474702,0.8032435726528913,0.06101905271136835,0.6999719115758717,0.340507211833392,0.29441610463312506,0.0,0.5180283551644183,0.0,1.346425931318256,0.28826780316757417,0.0,0.0,1.1702113962977223,0.1287489827443076,0.28544743465036454,0.5531169744662372,0.9426936255844063,0.9654452364637182,0.47134681279220314,0.6344984534784377,0.6601408840917753,0.5380381872908754]|\n",
      "|3Quw1bnJa3t0Us |0                |(19,[0,1,2,3,4,5,6,7,8,9,10,11,12,13,14,16,17,18],[0.9183237017021116,0.24921553334461935,0.4665233629595887,0.22719435544741073,0.17563256864315796,0.5354957151019275,0.30677048315301747,0.2738742606282217,0.21645456316341316,1.2689969069568754,0.08163769057465438,0.31259842371631547,0.6493636894902395,0.26774785755096375,0.5920291650421777,1.070991430203855,0.08135873694849113,1.3999438231517434])                      |(19,[0,1,2,3,7,9,10,12,13,14,18],[0.340507211833392,0.29441610463312506,0.7134868647970681,0.5180283551644183,0.38352390114608337,1.1702113962977223,0.1287489827443076,0.5531169744662372,0.47134681279220314,0.9654452364637182,1.0760763745817508])                                                                                        |[0.9183237017021116,0.24921553334461935,0.4665233629595887,0.22719435544741073,0.17563256864315796,0.5354957151019275,0.30677048315301747,0.2738742606282217,0.21645456316341316,1.2689969069568754,0.08163769057465438,0.31259842371631547,0.6493636894902395,0.26774785755096375,0.5920291650421777,0.0,1.070991430203855,0.08135873694849113,1.3999438231517434,0.340507211833392,0.29441610463312506,0.7134868647970681,0.5180283551644183,0.0,0.0,0.0,0.38352390114608337,0.0,1.1702113962977223,0.1287489827443076,0.0,0.5531169744662372,0.47134681279220314,0.9654452364637182,0.0,0.0,0.0,1.0760763745817508]                                                                         |\n",
      "|42e0AXIkESKc6y |1                |(19,[1,2,3,4,5,6,7,8,10,11,12,16,17],[0.06230388333615484,0.23326168147979434,0.11359717772370537,0.17563256864315796,0.8032435726528913,0.15338524157650874,0.5477485212564434,0.21645456316341316,0.13606281762442396,0.31259842371631547,0.4329091263268263,0.5354957151019275,0.020339684237122783])                                                                                                                                |(19,[1,2,4,5,6,8,11,12,15,16],[0.29441610463312506,1.4269737295941363,0.5495990096919514,0.673212965659128,0.43240170475136125,0.79970104484881,0.5708948693007291,0.2765584872331186,0.47134681279220314,1.2689969069568754])                                                                                                                |(38,[1,2,3,4,5,6,7,8,10,11,12,16,17,20,21,23,24,25,27,30,31,34,35],[0.06230388333615484,0.23326168147979434,0.11359717772370537,0.17563256864315796,0.8032435726528913,0.15338524157650874,0.5477485212564434,0.21645456316341316,0.13606281762442396,0.31259842371631547,0.4329091263268263,0.5354957151019275,0.020339684237122783,0.29441610463312506,1.4269737295941363,0.5495990096919514,0.673212965659128,0.43240170475136125,0.79970104484881,0.5708948693007291,0.2765584872331186,0.47134681279220314,1.2689969069568754])                                                                                                                                                           |\n",
      "|4fGVYscA6gp7PI |0                |(19,[0,1,2,3,4,5,6,7,8,9,10,12,13,14,15,16,17],[1.1019884420425339,0.43612718335308387,0.4665233629595887,0.5679858886185268,0.17563256864315796,0.5354957151019275,0.30677048315301747,0.09129142020940723,0.21645456316341316,1.2689969069568754,0.08163769057465438,0.21645456316341316,0.26774785755096375,0.4933576375351481,0.7384346354316468,0.26774785755096375,0.06101905271136835])                                          |(19,[0,1,2,3,5,6,8,9,10,13,14,15,16,17,18],[0.681014423666784,1.1776644185325003,1.4269737295941363,0.5180283551644183,0.673212965659128,0.8648034095027225,0.5997757836366076,0.5851056981488612,0.3862469482329228,0.9426936255844063,0.6436301576424788,0.47134681279220314,1.2689969069568754,0.6601408840917753,1.0760763745817508])     |[1.1019884420425339,0.43612718335308387,0.4665233629595887,0.5679858886185268,0.17563256864315796,0.5354957151019275,0.30677048315301747,0.09129142020940723,0.21645456316341316,1.2689969069568754,0.08163769057465438,0.0,0.21645456316341316,0.26774785755096375,0.4933576375351481,0.7384346354316468,0.26774785755096375,0.06101905271136835,0.0,0.681014423666784,1.1776644185325003,1.4269737295941363,0.5180283551644183,0.0,0.673212965659128,0.8648034095027225,0.0,0.5997757836366076,0.5851056981488612,0.3862469482329228,0.0,0.0,0.9426936255844063,0.6436301576424788,0.47134681279220314,1.2689969069568754,0.6601408840917753,1.0760763745817508]                             |\n",
      "|5jsQiy0TwG6ubN |1                |(19,[0,1,3,4,5,6,7,8,9,10,11,12,13,14,15,16,17,18],[0.18366474034042232,0.37382330001692904,0.45438871089482147,0.17563256864315796,0.26774785755096375,0.30677048315301747,0.6390399414658505,0.4329091263268263,1.903495360435313,0.05442512704976959,1.2503936948652619,0.8658182526536526,0.8032435726528913,0.09867152750702962,0.7384346354316468,0.5354957151019275,0.10169842118561392,0.34998595578793584])                    |(19,[0,1,2,3,4,5,6,7,8,10,11,13,15,16,18],[0.340507211833392,1.4720805231656253,0.7134868647970681,0.7770425327466274,0.5495990096919514,2.692851862636512,0.7206695079189354,1.15057170343825,0.79970104484881,0.3862469482329228,0.5708948693007291,0.47134681279220314,1.8853872511688126,1.2689969069568754,1.0760763745817508])          |[0.18366474034042232,0.37382330001692904,0.0,0.45438871089482147,0.17563256864315796,0.26774785755096375,0.30677048315301747,0.6390399414658505,0.4329091263268263,1.903495360435313,0.05442512704976959,1.2503936948652619,0.8658182526536526,0.8032435726528913,0.09867152750702962,0.7384346354316468,0.5354957151019275,0.10169842118561392,0.34998595578793584,0.340507211833392,1.4720805231656253,0.7134868647970681,0.7770425327466274,0.5495990096919514,2.692851862636512,0.7206695079189354,1.15057170343825,0.79970104484881,0.0,0.3862469482329228,0.5708948693007291,0.0,0.47134681279220314,0.0,1.8853872511688126,1.2689969069568754,0.0,1.0760763745817508]                   |\n",
      "|5m8u8FgKjcDHZB |1                |(19,[0,1,2,3,4,5,6,7,8,9,10,12,13,14,15,17,18],[0.5509942210212669,0.12460776667230967,0.23326168147979434,0.11359717772370537,0.5268977059294739,0.5354957151019275,0.15338524157650874,0.45645710104703613,0.8658182526536526,1.2689969069568754,0.13606281762442396,0.6493636894902395,0.5354957151019275,0.09867152750702962,0.3692173177158234,0.10169842118561392,0.6999719115758717])                                            |(19,[0,2,3,4,5,6,7,8,9,10,11,12,16,17,18],[0.340507211833392,0.7134868647970681,0.2590141775822091,1.6487970290758542,0.673212965659128,0.5765356063351483,0.38352390114608337,0.9996263060610124,1.1702113962977223,0.3862469482329228,0.28544743465036454,0.8296754616993558,1.2689969069568754,1.3202817681835506,0.5380381872908754])     |[0.5509942210212669,0.12460776667230967,0.23326168147979434,0.11359717772370537,0.5268977059294739,0.5354957151019275,0.15338524157650874,0.45645710104703613,0.8658182526536526,1.2689969069568754,0.13606281762442396,0.0,0.6493636894902395,0.5354957151019275,0.09867152750702962,0.3692173177158234,0.0,0.10169842118561392,0.6999719115758717,0.340507211833392,0.0,0.7134868647970681,0.2590141775822091,1.6487970290758542,0.673212965659128,0.5765356063351483,0.38352390114608337,0.9996263060610124,1.1702113962977223,0.3862469482329228,0.28544743465036454,0.8296754616993558,0.0,0.0,0.0,1.2689969069568754,1.3202817681835506,0.5380381872908754]                              |\n",
      "|6RizIpWcgZX7Zv |1                |(19,[0,1,3,4,5,6,7,8,9,10,11,12,13,14,16,17,18],[0.18366474034042232,0.18691165000846452,0.3407915331711161,0.3512651372863159,0.5354957151019275,0.4601557247295262,0.3651656808376289,0.6493636894902395,0.6344984534784377,0.10885025409953918,0.6251968474326309,0.8658182526536526,0.5354957151019275,0.19734305501405924,0.26774785755096375,0.08135873694849113,0.6999719115758717])                                             |(19,[1,4,5,6,7,8,10,11,12,13,14,15,16,17,18],[1.1776644185325003,2.1983960387678056,2.019638896977384,0.8648034095027225,0.7670478022921667,1.3994768284854175,0.2574979654886152,0.8563423039510936,0.5531169744662372,0.9426936255844063,0.3218150788212394,0.9426936255844063,1.2689969069568754,1.3202817681835506,1.0760763745817508])   |[0.18366474034042232,0.18691165000846452,0.0,0.3407915331711161,0.3512651372863159,0.5354957151019275,0.4601557247295262,0.3651656808376289,0.6493636894902395,0.6344984534784377,0.10885025409953918,0.6251968474326309,0.8658182526536526,0.5354957151019275,0.19734305501405924,0.0,0.26774785755096375,0.08135873694849113,0.6999719115758717,0.0,1.1776644185325003,0.0,0.0,2.1983960387678056,2.019638896977384,0.8648034095027225,0.7670478022921667,1.3994768284854175,0.0,0.2574979654886152,0.8563423039510936,0.5531169744662372,0.9426936255844063,0.3218150788212394,0.9426936255844063,1.2689969069568754,1.3202817681835506,1.0760763745817508]                                 |\n",
      "|6f2PSdHVWCGrxy |0                |(19,[0,1,2,3,4,5,6,7,8,9,10,11,12,13,14,15,16,17,18],[0.5509942210212669,0.18691165000846452,0.23326168147979434,0.5679858886185268,0.17563256864315796,0.5354957151019275,0.5368483455177806,0.09129142020940723,0.6493636894902395,0.6344984534784377,0.08163769057465438,0.6251968474326309,0.6493636894902395,0.26774785755096375,0.19734305501405924,1.4768692708632936,0.5354957151019275,0.04067936847424557,0.6999719115758717])|(19,[0,3,6,7,8,9,10,11,13,15,16,17,18],[1.021521635500176,1.0360567103288365,0.43240170475136125,0.38352390114608337,0.399850522424405,0.5851056981488612,0.3862469482329228,0.28544743465036454,0.47134681279220314,0.47134681279220314,0.6344984534784377,0.6601408840917753,0.5380381872908754])                                           |[0.5509942210212669,0.18691165000846452,0.23326168147979434,0.5679858886185268,0.17563256864315796,0.5354957151019275,0.5368483455177806,0.09129142020940723,0.6493636894902395,0.6344984534784377,0.08163769057465438,0.6251968474326309,0.6493636894902395,0.26774785755096375,0.19734305501405924,1.4768692708632936,0.5354957151019275,0.04067936847424557,0.6999719115758717,1.021521635500176,0.0,0.0,1.0360567103288365,0.0,0.0,0.43240170475136125,0.38352390114608337,0.399850522424405,0.5851056981488612,0.3862469482329228,0.28544743465036454,0.0,0.47134681279220314,0.0,0.47134681279220314,0.6344984534784377,0.6601408840917753,0.5380381872908754]                           |\n",
      "|7eXuMnKm00S698 |0                |(19,[0,1,2,3,4,5,6,7,8,9,10,11,12,13,14,15,16,17,18],[0.36732948068084464,0.18691165000846452,0.23326168147979434,0.22719435544741073,0.7025302745726318,0.5354957151019275,0.6902335870942893,0.18258284041881445,1.0822728158170658,1.2689969069568754,0.16327538114930876,0.9377952711489463,0.4329091263268263,1.070991430203855,0.29601458252108886,2.2153039062949405,2.14198286040771,0.04067936847424557,1.0499578673638075])   |(19,[0,3,6,7,8,9,10,11,12,13,14,15,16],[0.340507211833392,0.2590141775822091,0.14413390158378708,0.19176195057304168,0.5997757836366076,1.7553170944465835,0.2574979654886152,0.28544743465036454,0.5531169744662372,1.4140404383766094,0.9654452364637182,0.47134681279220314,0.6344984534784377])                                           |[0.36732948068084464,0.18691165000846452,0.23326168147979434,0.22719435544741073,0.7025302745726318,0.5354957151019275,0.6902335870942893,0.18258284041881445,1.0822728158170658,1.2689969069568754,0.16327538114930876,0.9377952711489463,0.4329091263268263,1.070991430203855,0.29601458252108886,2.2153039062949405,2.14198286040771,0.04067936847424557,1.0499578673638075,0.340507211833392,0.0,0.0,0.2590141775822091,0.0,0.0,0.14413390158378708,0.19176195057304168,0.5997757836366076,1.7553170944465835,0.2574979654886152,0.28544743465036454,0.5531169744662372,1.4140404383766094,0.9654452364637182,0.47134681279220314,0.6344984534784377,0.0,0.0]                              |\n",
      "|7oGx9hSdOxM4eR |0                |(19,[0,1,2,3,4,5,6,7,8,9,10,12,14,15,16,17,18],[0.5509942210212669,0.37382330001692904,0.23326168147979434,0.6815830663422322,0.5268977059294739,0.26774785755096375,0.15338524157650874,0.18258284041881445,0.6493636894902395,0.6344984534784377,0.21770050819907835,0.4329091263268263,0.19734305501405924,1.4768692708632936,0.5354957151019275,0.06101905271136835,0.34998595578793584])                                           |(19,[0,1,2,3,5,6,9,10,13,14,15,17,18],[0.681014423666784,0.5888322092662501,2.1404605943912043,0.2590141775822091,0.673212965659128,0.14413390158378708,0.5851056981488612,0.5149959309772304,0.9426936255844063,0.6436301576424788,0.9426936255844063,1.3202817681835506,1.614114561872626])                                                 |[0.5509942210212669,0.37382330001692904,0.23326168147979434,0.6815830663422322,0.5268977059294739,0.26774785755096375,0.15338524157650874,0.18258284041881445,0.6493636894902395,0.6344984534784377,0.21770050819907835,0.0,0.4329091263268263,0.0,0.19734305501405924,1.4768692708632936,0.5354957151019275,0.06101905271136835,0.34998595578793584,0.681014423666784,0.5888322092662501,2.1404605943912043,0.2590141775822091,0.0,0.673212965659128,0.14413390158378708,0.0,0.0,0.5851056981488612,0.5149959309772304,0.0,0.0,0.9426936255844063,0.6436301576424788,0.9426936255844063,0.0,1.3202817681835506,1.614114561872626]                                                             |\n",
      "|8ZAtmTrDFrwblw |0                |(19,[0,1,2,3,4,5,6,7,8,9,10,11,12,13,14,15,16,17,18],[2.0203121437446456,0.5607349500253935,0.4665233629595887,0.5679858886185268,0.7025302745726318,1.070991430203855,0.9203114494590524,0.2738742606282217,1.5151819421438921,1.903495360435313,0.4898261434479263,1.8755905422978927,0.4329091263268263,2.4097307179586736,0.29601458252108886,1.4768692708632936,1.070991430203855,0.10169842118561392,1.0499578673638075])         |(19,[0,1,3,4,5,6,7,8,10,11,12,14,15,18],[0.340507211833392,0.8832483138993752,0.7770425327466274,0.5495990096919514,0.673212965659128,0.28826780316757417,0.9588097528652084,0.399850522424405,0.5149959309772304,0.5708948693007291,0.2765584872331186,0.9654452364637182,0.9426936255844063,0.5380381872908754])                            |[2.0203121437446456,0.5607349500253935,0.4665233629595887,0.5679858886185268,0.7025302745726318,1.070991430203855,0.9203114494590524,0.2738742606282217,1.5151819421438921,1.903495360435313,0.4898261434479263,1.8755905422978927,0.4329091263268263,2.4097307179586736,0.29601458252108886,1.4768692708632936,1.070991430203855,0.10169842118561392,1.0499578673638075,0.340507211833392,0.8832483138993752,0.0,0.7770425327466274,0.5495990096919514,0.673212965659128,0.28826780316757417,0.9588097528652084,0.399850522424405,0.0,0.5149959309772304,0.5708948693007291,0.2765584872331186,0.0,0.9654452364637182,0.9426936255844063,0.0,0.0,0.5380381872908754]                          |\n",
      "|9cYhGjyx44w5GS |1                |(19,[0,1,2,3,4,5,6,7,8,9,10,11,13,14,16,17,18],[0.36732948068084464,0.24921553334461935,0.23326168147979434,0.22719435544741073,0.17563256864315796,1.070991430203855,0.2300778623647631,0.18258284041881445,0.8658182526536526,1.2689969069568754,0.24491307172396315,0.6251968474326309,0.5354957151019275,0.29601458252108886,0.5354957151019275,0.10169842118561392,0.34998595578793584])                                           |(19,[0,1,2,4,5,6,7,8,9,10,11,15,16,17,18],[0.340507211833392,0.29441610463312506,1.4269737295941363,0.5495990096919514,0.673212965659128,0.43240170475136125,0.9588097528652084,0.5997757836366076,0.5851056981488612,0.2574979654886152,0.8563423039510936,0.47134681279220314,0.6344984534784377,1.3202817681835506,0.5380381872908754])    |[0.36732948068084464,0.24921553334461935,0.23326168147979434,0.22719435544741073,0.17563256864315796,1.070991430203855,0.2300778623647631,0.18258284041881445,0.8658182526536526,1.2689969069568754,0.24491307172396315,0.6251968474326309,0.0,0.5354957151019275,0.29601458252108886,0.0,0.5354957151019275,0.10169842118561392,0.34998595578793584,0.340507211833392,0.29441610463312506,1.4269737295941363,0.0,0.5495990096919514,0.673212965659128,0.43240170475136125,0.9588097528652084,0.5997757836366076,0.5851056981488612,0.2574979654886152,0.8563423039510936,0.0,0.0,0.0,0.47134681279220314,0.6344984534784377,1.3202817681835506,0.5380381872908754]                            |\n",
      "|A6Spb1jijxcc1d |1                |(19,[0,1,2,4,5,6,7,8,10,12,14,15,17,18],[0.36732948068084464,0.24921553334461935,0.23326168147979434,0.3512651372863159,1.070991430203855,0.4601557247295262,0.45645710104703613,0.21645456316341316,0.16327538114930876,0.4329091263268263,0.19734305501405924,0.3692173177158234,0.06101905271136835,0.34998595578793584])                                                                                                            |(19,[1,4,5,6,7,8,10,11,12,14,15,17,18],[1.1776644185325003,1.0991980193839028,0.673212965659128,0.7206695079189354,0.575285851719125,0.9996263060610124,0.5149959309772304,0.5708948693007291,0.2765584872331186,0.3218150788212394,0.9426936255844063,0.6601408840917753,0.5380381872908754])                                                |[0.36732948068084464,0.24921553334461935,0.23326168147979434,0.0,0.3512651372863159,1.070991430203855,0.4601557247295262,0.45645710104703613,0.21645456316341316,0.0,0.16327538114930876,0.0,0.4329091263268263,0.0,0.19734305501405924,0.3692173177158234,0.0,0.06101905271136835,0.34998595578793584,0.0,1.1776644185325003,0.0,0.0,1.0991980193839028,0.673212965659128,0.7206695079189354,0.575285851719125,0.9996263060610124,0.0,0.5149959309772304,0.5708948693007291,0.2765584872331186,0.0,0.3218150788212394,0.9426936255844063,0.0,0.6601408840917753,0.5380381872908754]                                                                                                           |\n",
      "|ByfFirWTvmkxf9 |1                |(19,[0,1,4,5,6,7,9,10,14,17],[0.18366474034042232,0.3115194166807742,0.3512651372863159,0.5354957151019275,0.3834631039412718,0.3651656808376289,0.6344984534784377,0.05442512704976959,0.19734305501405924,0.04067936847424557])                                                                                                                                                                                                       |(19,[0,1,2,4,6,7,8,11,13,17,18],[0.340507211833392,0.5888322092662501,0.7134868647970681,1.0991980193839028,0.5765356063351483,0.575285851719125,0.79970104484881,0.8563423039510936,0.47134681279220314,0.6601408840917753,0.5380381872908754])                                                                                              |(38,[0,1,4,5,6,7,9,10,14,17,19,20,21,23,25,26,27,30,32,36,37],[0.18366474034042232,0.3115194166807742,0.3512651372863159,0.5354957151019275,0.3834631039412718,0.3651656808376289,0.6344984534784377,0.05442512704976959,0.19734305501405924,0.04067936847424557,0.340507211833392,0.5888322092662501,0.7134868647970681,1.0991980193839028,0.5765356063351483,0.575285851719125,0.79970104484881,0.8563423039510936,0.47134681279220314,0.6601408840917753,0.5380381872908754])                                                                                                                                                                                                               |\n",
      "|CdMQLrXHgN4vG2 |0                |(19,[0,1,2,3,5,6,7,8,10,11,12,13,14,15,16,17,18],[0.9183237017021116,0.3115194166807742,0.699785044439383,0.9087774217896429,1.6064871453057825,0.15338524157650874,0.18258284041881445,0.4329091263268263,0.13606281762442396,0.6251968474326309,0.21645456316341316,0.26774785755096375,0.29601458252108886,1.846086588579117,0.26774785755096375,0.04067936847424557,0.34998595578793584])                                           |(19,[0,1,3,4,5,7,8,10,11,12,13,14,15,17],[0.340507211833392,0.5888322092662501,0.5180283551644183,1.0991980193839028,2.019638896977384,0.19176195057304168,0.1999252612122025,0.643744913721538,0.8563423039510936,0.2765584872331186,0.9426936255844063,0.6436301576424788,0.9426936255844063,0.6601408840917753])                           |[0.9183237017021116,0.3115194166807742,0.699785044439383,0.9087774217896429,0.0,1.6064871453057825,0.15338524157650874,0.18258284041881445,0.4329091263268263,0.0,0.13606281762442396,0.6251968474326309,0.21645456316341316,0.26774785755096375,0.29601458252108886,1.846086588579117,0.26774785755096375,0.04067936847424557,0.34998595578793584,0.340507211833392,0.5888322092662501,0.0,0.5180283551644183,1.0991980193839028,2.019638896977384,0.0,0.19176195057304168,0.1999252612122025,0.0,0.643744913721538,0.8563423039510936,0.2765584872331186,0.9426936255844063,0.6436301576424788,0.9426936255844063,0.0,0.6601408840917753,0.0]                                                |\n",
      "|DAoZuhs2htCEhz |1                |(19,[1,3,5,7,8,9,10,12,13,14,16,17,18],[0.06230388333615484,0.11359717772370537,0.26774785755096375,0.18258284041881445,0.4329091263268263,0.6344984534784377,0.13606281762442396,0.21645456316341316,0.5354957151019275,0.09867152750702962,0.26774785755096375,0.04067936847424557,0.6999719115758717])                                                                                                                               |(19,[5,6,7,8,11,14,15],[0.673212965659128,0.14413390158378708,0.38352390114608337,0.399850522424405,0.5708948693007291,0.3218150788212394,0.47134681279220314])                                                                                                                                                                               |(38,[1,3,5,7,8,9,10,12,13,14,16,17,18,24,25,26,27,30,33,34],[0.06230388333615484,0.11359717772370537,0.26774785755096375,0.18258284041881445,0.4329091263268263,0.6344984534784377,0.13606281762442396,0.21645456316341316,0.5354957151019275,0.09867152750702962,0.26774785755096375,0.04067936847424557,0.6999719115758717,0.673212965659128,0.14413390158378708,0.38352390114608337,0.399850522424405,0.5708948693007291,0.3218150788212394,0.47134681279220314])                                                                                                                                                                                                                           |\n",
      "|DmgYMeupfuuUtH |1                |(19,[0,1,2,4,5,6,10,12,14,15,17],[0.5509942210212669,0.3115194166807742,0.699785044439383,0.17563256864315796,0.26774785755096375,0.07669262078825437,0.027212563524884794,0.6493636894902395,0.09867152750702962,0.3692173177158234,0.06101905271136835])                                                                                                                                                                              |(19,[1,2,3,4,6,7,8,9,10,11,12,17,18],[0.29441610463312506,1.4269737295941363,0.2590141775822091,0.5495990096919514,0.28826780316757417,0.19176195057304168,0.79970104484881,1.1702113962977223,0.3862469482329228,0.5708948693007291,0.5531169744662372,0.6601408840917753,0.5380381872908754])                                               |(38,[0,1,2,4,5,6,10,12,14,15,17,20,21,22,23,25,26,27,28,29,30,31,36,37],[0.5509942210212669,0.3115194166807742,0.699785044439383,0.17563256864315796,0.26774785755096375,0.07669262078825437,0.027212563524884794,0.6493636894902395,0.09867152750702962,0.3692173177158234,0.06101905271136835,0.29441610463312506,1.4269737295941363,0.2590141775822091,0.5495990096919514,0.28826780316757417,0.19176195057304168,0.79970104484881,1.1702113962977223,0.3862469482329228,0.5708948693007291,0.5531169744662372,0.6601408840917753,0.5380381872908754])                                                                                                                                      |\n",
      "|E7CLYzbsZYgDJs |0                |(19,[0,2,3,4,6,7,10,12,13,14,16,17,18],[0.9183237017021116,0.23326168147979434,0.3407915331711161,0.3512651372863159,0.07669262078825437,0.09129142020940723,0.05442512704976959,0.4329091263268263,0.26774785755096375,0.3946861100281185,1.070991430203855,0.020339684237122783,0.6999719115758717])                                                                                                                                  |(19,[0,1,3,5,9,10,13,14],[0.340507211833392,0.29441610463312506,0.5180283551644183,0.673212965659128,2.3404227925954446,0.1287489827443076,0.47134681279220314,0.9654452364637182])                                                                                                                                                           |(38,[0,2,3,4,6,7,10,12,13,14,16,17,18,19,20,22,24,28,29,32,33],[0.9183237017021116,0.23326168147979434,0.3407915331711161,0.3512651372863159,0.07669262078825437,0.09129142020940723,0.05442512704976959,0.4329091263268263,0.26774785755096375,0.3946861100281185,1.070991430203855,0.020339684237122783,0.6999719115758717,0.340507211833392,0.29441610463312506,0.5180283551644183,0.673212965659128,2.3404227925954446,0.1287489827443076,0.47134681279220314,0.9654452364637182])                                                                                                                                                                                                         |\n",
      "+---------------+-----------------+----------------------------------------------------------------------------------------------------------------------------------------------------------------------------------------------------------------------------------------------------------------------------------------------------------------------------------------------------------------------------------------------------------------------------------------+----------------------------------------------------------------------------------------------------------------------------------------------------------------------------------------------------------------------------------------------------------------------------------------------------------------------------------------------+-----------------------------------------------------------------------------------------------------------------------------------------------------------------------------------------------------------------------------------------------------------------------------------------------------------------------------------------------------------------------------------------------------------------------------------------------------------------------------------------------------------------------------------------------------------------------------------------------------------------------------------------------------------------------------------------------+\n",
      "only showing top 20 rows\n",
      "\n"
     ]
    }
   ],
   "source": [
    "(train_data, test_data) = df_assembled.randomSplit([0.8, 0.2], seed=42)\n",
    "train_data.show(truncate=False)"
   ]
  },
  {
   "cell_type": "markdown",
   "metadata": {},
   "source": [
    "# LOGISTIC REGRESSION"
   ]
  },
  {
   "cell_type": "markdown",
   "metadata": {},
   "source": [
    "### Train the Logistic Regression Model"
   ]
  },
  {
   "cell_type": "code",
   "execution_count": 72,
   "metadata": {},
   "outputs": [
    {
     "name": "stdout",
     "output_type": "stream",
     "text": [
      "TrainValidationSplitModel_3347ceac472f \n",
      "\n",
      "estimator: estimator to be cross-validated (current: LogisticRegression_66d09876f33b)\n",
      "estimatorParamMaps: estimator param maps (current: [{Param(parent='LogisticRegression_66d09876f33b', name='maxIter', doc='max number of iterations (>= 0).'): 10, Param(parent='LogisticRegression_66d09876f33b', name='regParam', doc='regularization parameter (>= 0).'): 0.01, Param(parent='LogisticRegression_66d09876f33b', name='elasticNetParam', doc='the ElasticNet mixing parameter, in range [0, 1]. For alpha = 0, the penalty is an L2 penalty. For alpha = 1, it is an L1 penalty.'): 0.0}, {Param(parent='LogisticRegression_66d09876f33b', name='maxIter', doc='max number of iterations (>= 0).'): 10, Param(parent='LogisticRegression_66d09876f33b', name='regParam', doc='regularization parameter (>= 0).'): 0.01, Param(parent='LogisticRegression_66d09876f33b', name='elasticNetParam', doc='the ElasticNet mixing parameter, in range [0, 1]. For alpha = 0, the penalty is an L2 penalty. For alpha = 1, it is an L1 penalty.'): 0.5}, {Param(parent='LogisticRegression_66d09876f33b', name='maxIter', doc='max number of iterations (>= 0).'): 10, Param(parent='LogisticRegression_66d09876f33b', name='regParam', doc='regularization parameter (>= 0).'): 0.01, Param(parent='LogisticRegression_66d09876f33b', name='elasticNetParam', doc='the ElasticNet mixing parameter, in range [0, 1]. For alpha = 0, the penalty is an L2 penalty. For alpha = 1, it is an L1 penalty.'): 1.0}, {Param(parent='LogisticRegression_66d09876f33b', name='maxIter', doc='max number of iterations (>= 0).'): 10, Param(parent='LogisticRegression_66d09876f33b', name='regParam', doc='regularization parameter (>= 0).'): 0.1, Param(parent='LogisticRegression_66d09876f33b', name='elasticNetParam', doc='the ElasticNet mixing parameter, in range [0, 1]. For alpha = 0, the penalty is an L2 penalty. For alpha = 1, it is an L1 penalty.'): 0.0}, {Param(parent='LogisticRegression_66d09876f33b', name='maxIter', doc='max number of iterations (>= 0).'): 10, Param(parent='LogisticRegression_66d09876f33b', name='regParam', doc='regularization parameter (>= 0).'): 0.1, Param(parent='LogisticRegression_66d09876f33b', name='elasticNetParam', doc='the ElasticNet mixing parameter, in range [0, 1]. For alpha = 0, the penalty is an L2 penalty. For alpha = 1, it is an L1 penalty.'): 0.5}, {Param(parent='LogisticRegression_66d09876f33b', name='maxIter', doc='max number of iterations (>= 0).'): 10, Param(parent='LogisticRegression_66d09876f33b', name='regParam', doc='regularization parameter (>= 0).'): 0.1, Param(parent='LogisticRegression_66d09876f33b', name='elasticNetParam', doc='the ElasticNet mixing parameter, in range [0, 1]. For alpha = 0, the penalty is an L2 penalty. For alpha = 1, it is an L1 penalty.'): 1.0}, {Param(parent='LogisticRegression_66d09876f33b', name='maxIter', doc='max number of iterations (>= 0).'): 10, Param(parent='LogisticRegression_66d09876f33b', name='regParam', doc='regularization parameter (>= 0).'): 1.0, Param(parent='LogisticRegression_66d09876f33b', name='elasticNetParam', doc='the ElasticNet mixing parameter, in range [0, 1]. For alpha = 0, the penalty is an L2 penalty. For alpha = 1, it is an L1 penalty.'): 0.0}, {Param(parent='LogisticRegression_66d09876f33b', name='maxIter', doc='max number of iterations (>= 0).'): 10, Param(parent='LogisticRegression_66d09876f33b', name='regParam', doc='regularization parameter (>= 0).'): 1.0, Param(parent='LogisticRegression_66d09876f33b', name='elasticNetParam', doc='the ElasticNet mixing parameter, in range [0, 1]. For alpha = 0, the penalty is an L2 penalty. For alpha = 1, it is an L1 penalty.'): 0.5}, {Param(parent='LogisticRegression_66d09876f33b', name='maxIter', doc='max number of iterations (>= 0).'): 10, Param(parent='LogisticRegression_66d09876f33b', name='regParam', doc='regularization parameter (>= 0).'): 1.0, Param(parent='LogisticRegression_66d09876f33b', name='elasticNetParam', doc='the ElasticNet mixing parameter, in range [0, 1]. For alpha = 0, the penalty is an L2 penalty. For alpha = 1, it is an L1 penalty.'): 1.0}, {Param(parent='LogisticRegression_66d09876f33b', name='maxIter', doc='max number of iterations (>= 0).'): 100, Param(parent='LogisticRegression_66d09876f33b', name='regParam', doc='regularization parameter (>= 0).'): 0.01, Param(parent='LogisticRegression_66d09876f33b', name='elasticNetParam', doc='the ElasticNet mixing parameter, in range [0, 1]. For alpha = 0, the penalty is an L2 penalty. For alpha = 1, it is an L1 penalty.'): 0.0}, {Param(parent='LogisticRegression_66d09876f33b', name='maxIter', doc='max number of iterations (>= 0).'): 100, Param(parent='LogisticRegression_66d09876f33b', name='regParam', doc='regularization parameter (>= 0).'): 0.01, Param(parent='LogisticRegression_66d09876f33b', name='elasticNetParam', doc='the ElasticNet mixing parameter, in range [0, 1]. For alpha = 0, the penalty is an L2 penalty. For alpha = 1, it is an L1 penalty.'): 0.5}, {Param(parent='LogisticRegression_66d09876f33b', name='maxIter', doc='max number of iterations (>= 0).'): 100, Param(parent='LogisticRegression_66d09876f33b', name='regParam', doc='regularization parameter (>= 0).'): 0.01, Param(parent='LogisticRegression_66d09876f33b', name='elasticNetParam', doc='the ElasticNet mixing parameter, in range [0, 1]. For alpha = 0, the penalty is an L2 penalty. For alpha = 1, it is an L1 penalty.'): 1.0}, {Param(parent='LogisticRegression_66d09876f33b', name='maxIter', doc='max number of iterations (>= 0).'): 100, Param(parent='LogisticRegression_66d09876f33b', name='regParam', doc='regularization parameter (>= 0).'): 0.1, Param(parent='LogisticRegression_66d09876f33b', name='elasticNetParam', doc='the ElasticNet mixing parameter, in range [0, 1]. For alpha = 0, the penalty is an L2 penalty. For alpha = 1, it is an L1 penalty.'): 0.0}, {Param(parent='LogisticRegression_66d09876f33b', name='maxIter', doc='max number of iterations (>= 0).'): 100, Param(parent='LogisticRegression_66d09876f33b', name='regParam', doc='regularization parameter (>= 0).'): 0.1, Param(parent='LogisticRegression_66d09876f33b', name='elasticNetParam', doc='the ElasticNet mixing parameter, in range [0, 1]. For alpha = 0, the penalty is an L2 penalty. For alpha = 1, it is an L1 penalty.'): 0.5}, {Param(parent='LogisticRegression_66d09876f33b', name='maxIter', doc='max number of iterations (>= 0).'): 100, Param(parent='LogisticRegression_66d09876f33b', name='regParam', doc='regularization parameter (>= 0).'): 0.1, Param(parent='LogisticRegression_66d09876f33b', name='elasticNetParam', doc='the ElasticNet mixing parameter, in range [0, 1]. For alpha = 0, the penalty is an L2 penalty. For alpha = 1, it is an L1 penalty.'): 1.0}, {Param(parent='LogisticRegression_66d09876f33b', name='maxIter', doc='max number of iterations (>= 0).'): 100, Param(parent='LogisticRegression_66d09876f33b', name='regParam', doc='regularization parameter (>= 0).'): 1.0, Param(parent='LogisticRegression_66d09876f33b', name='elasticNetParam', doc='the ElasticNet mixing parameter, in range [0, 1]. For alpha = 0, the penalty is an L2 penalty. For alpha = 1, it is an L1 penalty.'): 0.0}, {Param(parent='LogisticRegression_66d09876f33b', name='maxIter', doc='max number of iterations (>= 0).'): 100, Param(parent='LogisticRegression_66d09876f33b', name='regParam', doc='regularization parameter (>= 0).'): 1.0, Param(parent='LogisticRegression_66d09876f33b', name='elasticNetParam', doc='the ElasticNet mixing parameter, in range [0, 1]. For alpha = 0, the penalty is an L2 penalty. For alpha = 1, it is an L1 penalty.'): 0.5}, {Param(parent='LogisticRegression_66d09876f33b', name='maxIter', doc='max number of iterations (>= 0).'): 100, Param(parent='LogisticRegression_66d09876f33b', name='regParam', doc='regularization parameter (>= 0).'): 1.0, Param(parent='LogisticRegression_66d09876f33b', name='elasticNetParam', doc='the ElasticNet mixing parameter, in range [0, 1]. For alpha = 0, the penalty is an L2 penalty. For alpha = 1, it is an L1 penalty.'): 1.0}])\n",
      "evaluator: evaluator used to select hyper-parameters that maximize the validator metric (current: MulticlassClassificationEvaluator_ca88d925f0d5)\n",
      "seed: random seed. (default: -5344813404624419522, current: 42)\n",
      "trainRatio: Param for ratio between train and     validation data. Must be between 0 and 1. (default: 0.75, current: 0.8) \n",
      "\n",
      "\n",
      "Evaluating with metric -> accuracy\n",
      "Evaluators rating for the test set -> 0.8333333333333334\n"
     ]
    }
   ],
   "source": [
    "from pyspark.ml.classification import LogisticRegression\n",
    "from pyspark.ml.tuning import TrainValidationSplit, ParamGridBuilder\n",
    "from pyspark.ml.evaluation import MulticlassClassificationEvaluator\n",
    "\n",
    "lr = LogisticRegression(featuresCol=\"combined_features\", labelCol=\"Conversation_Type\", predictionCol=\"Prediction\", maxIter=50)\n",
    "\n",
    "evaluator = MulticlassClassificationEvaluator(labelCol='Conversation_Type', metricName=\"accuracy\", predictionCol=\"Prediction\")\n",
    "\n",
    "paramGrid = ParamGridBuilder() \\\n",
    "    .addGrid(lr.maxIter, [10, 100]) \\\n",
    "    .addGrid(lr.regParam, [0.01, 0.1, 1]) \\\n",
    "    .addGrid(lr.elasticNetParam, [0.0, 0.5, 1.0]) \\\n",
    "    .build()\n",
    "\n",
    "\n",
    "# This is similar to cross validation but only split the set once\n",
    "tvs = TrainValidationSplit(\n",
    "    estimator=lr, \n",
    "    estimatorParamMaps=paramGrid, \n",
    "    evaluator=evaluator, \n",
    "    trainRatio=0.8,\n",
    "    parallelism=1, \n",
    "    seed=42)\n",
    "\n",
    "\n",
    "tvsModel = tvs.fit(train_data)\n",
    "\n",
    "print(tvsModel, '\\n')\n",
    "print(tvsModel.explainParams(), '\\n')\n",
    "print('\\nEvaluating with metric -> {}'.format(evaluator.getMetricName()))\n",
    "print('Evaluators rating for the test set -> {}'.format(evaluator.evaluate(tvsModel.transform(test_data))))\n"
   ]
  },
  {
   "cell_type": "code",
   "execution_count": 73,
   "metadata": {},
   "outputs": [
    {
     "name": "stdout",
     "output_type": "stream",
     "text": [
      "Train Validation Split Model validationMetrics -> [0.9090909090909091, 0.9090909090909091, 0.9090909090909091, 0.9090909090909091, 0.9090909090909091, 0.9090909090909091, 0.9090909090909091, 0.7272727272727273, 0.7272727272727273, 0.9090909090909091, 0.9090909090909091, 0.9090909090909091, 0.9090909090909091, 0.9090909090909091, 0.9545454545454546, 0.9090909090909091, 0.7272727272727273, 0.7272727272727273]\n",
      "Best Model -> LogisticRegressionModel: uid=LogisticRegression_66d09876f33b, numClasses=2, numFeatures=38\n"
     ]
    }
   ],
   "source": [
    "print('Train Validation Split Model validationMetrics -> {}'.format(tvsModel.validationMetrics))\n",
    "print('Best Model -> {}'.format(tvsModel.bestModel))"
   ]
  },
  {
   "cell_type": "markdown",
   "metadata": {},
   "source": [
    "### Testing"
   ]
  },
  {
   "cell_type": "code",
   "execution_count": 74,
   "metadata": {},
   "outputs": [
    {
     "name": "stdout",
     "output_type": "stream",
     "text": [
      "+---------------+-----------------+----------+----------------------------------------+\n",
      "|Conversation_ID|Conversation_Type|Prediction|Probability                             |\n",
      "+---------------+-----------------+----------+----------------------------------------+\n",
      "|ALtIzDsxTHTxIe |0                |1.0       |[0.31900415970589047,0.6809958402941095]|\n",
      "|GIjmhRS9Dy8xg1 |0                |1.0       |[0.31659662948792916,0.6834033705120708]|\n",
      "|OHJFQTvA2eXtsV |1                |0.0       |[0.5618821110539218,0.43811788894607817]|\n",
      "|qEKhQ6c7Jibf99 |0                |1.0       |[0.47984795348828563,0.5201520465117144]|\n",
      "+---------------+-----------------+----------+----------------------------------------+\n",
      "\n"
     ]
    }
   ],
   "source": [
    "predictions = tvsModel.bestModel.transform(test_data)\n",
    "predictions.select(\"Conversation_ID\",\"Conversation_Type\", \"Prediction\", \"Probability\").where(predictions.Prediction != predictions.Conversation_Type).show(10, truncate=False)"
   ]
  },
  {
   "cell_type": "code",
   "execution_count": 75,
   "metadata": {},
   "outputs": [],
   "source": [
    "model_path = \"../Models/Trained_Models/LogisticRegression\""
   ]
  },
  {
   "cell_type": "code",
   "execution_count": 76,
   "metadata": {},
   "outputs": [],
   "source": [
    "# tvsModel.write().overwrite().save(model_path)"
   ]
  },
  {
   "cell_type": "markdown",
   "metadata": {},
   "source": [
    "## RANDOM FOREST"
   ]
  },
  {
   "cell_type": "markdown",
   "metadata": {},
   "source": [
    "### Training Random Forest Model"
   ]
  },
  {
   "cell_type": "code",
   "execution_count": 77,
   "metadata": {},
   "outputs": [
    {
     "name": "stdout",
     "output_type": "stream",
     "text": [
      "TrainValidationSplitModel_df0c3736370c \n",
      "\n",
      "estimator: estimator to be cross-validated (current: RandomForestClassifier_b3499531baf4)\n",
      "estimatorParamMaps: estimator param maps (current: [{Param(parent='RandomForestClassifier_b3499531baf4', name='numTrees', doc='Number of trees to train (>= 1).'): 10, Param(parent='RandomForestClassifier_b3499531baf4', name='maxDepth', doc='Maximum depth of the tree. (>= 0) E.g., depth 0 means 1 leaf node; depth 1 means 1 internal node + 2 leaf nodes. Must be in range [0, 30].'): 5, Param(parent='RandomForestClassifier_b3499531baf4', name='maxBins', doc='Max number of bins for discretizing continuous features.  Must be >=2 and >= number of categories for any categorical feature.'): 32}, {Param(parent='RandomForestClassifier_b3499531baf4', name='numTrees', doc='Number of trees to train (>= 1).'): 10, Param(parent='RandomForestClassifier_b3499531baf4', name='maxDepth', doc='Maximum depth of the tree. (>= 0) E.g., depth 0 means 1 leaf node; depth 1 means 1 internal node + 2 leaf nodes. Must be in range [0, 30].'): 5, Param(parent='RandomForestClassifier_b3499531baf4', name='maxBins', doc='Max number of bins for discretizing continuous features.  Must be >=2 and >= number of categories for any categorical feature.'): 64}, {Param(parent='RandomForestClassifier_b3499531baf4', name='numTrees', doc='Number of trees to train (>= 1).'): 10, Param(parent='RandomForestClassifier_b3499531baf4', name='maxDepth', doc='Maximum depth of the tree. (>= 0) E.g., depth 0 means 1 leaf node; depth 1 means 1 internal node + 2 leaf nodes. Must be in range [0, 30].'): 5, Param(parent='RandomForestClassifier_b3499531baf4', name='maxBins', doc='Max number of bins for discretizing continuous features.  Must be >=2 and >= number of categories for any categorical feature.'): 128}, {Param(parent='RandomForestClassifier_b3499531baf4', name='numTrees', doc='Number of trees to train (>= 1).'): 10, Param(parent='RandomForestClassifier_b3499531baf4', name='maxDepth', doc='Maximum depth of the tree. (>= 0) E.g., depth 0 means 1 leaf node; depth 1 means 1 internal node + 2 leaf nodes. Must be in range [0, 30].'): 10, Param(parent='RandomForestClassifier_b3499531baf4', name='maxBins', doc='Max number of bins for discretizing continuous features.  Must be >=2 and >= number of categories for any categorical feature.'): 32}, {Param(parent='RandomForestClassifier_b3499531baf4', name='numTrees', doc='Number of trees to train (>= 1).'): 10, Param(parent='RandomForestClassifier_b3499531baf4', name='maxDepth', doc='Maximum depth of the tree. (>= 0) E.g., depth 0 means 1 leaf node; depth 1 means 1 internal node + 2 leaf nodes. Must be in range [0, 30].'): 10, Param(parent='RandomForestClassifier_b3499531baf4', name='maxBins', doc='Max number of bins for discretizing continuous features.  Must be >=2 and >= number of categories for any categorical feature.'): 64}, {Param(parent='RandomForestClassifier_b3499531baf4', name='numTrees', doc='Number of trees to train (>= 1).'): 10, Param(parent='RandomForestClassifier_b3499531baf4', name='maxDepth', doc='Maximum depth of the tree. (>= 0) E.g., depth 0 means 1 leaf node; depth 1 means 1 internal node + 2 leaf nodes. Must be in range [0, 30].'): 10, Param(parent='RandomForestClassifier_b3499531baf4', name='maxBins', doc='Max number of bins for discretizing continuous features.  Must be >=2 and >= number of categories for any categorical feature.'): 128}, {Param(parent='RandomForestClassifier_b3499531baf4', name='numTrees', doc='Number of trees to train (>= 1).'): 10, Param(parent='RandomForestClassifier_b3499531baf4', name='maxDepth', doc='Maximum depth of the tree. (>= 0) E.g., depth 0 means 1 leaf node; depth 1 means 1 internal node + 2 leaf nodes. Must be in range [0, 30].'): 15, Param(parent='RandomForestClassifier_b3499531baf4', name='maxBins', doc='Max number of bins for discretizing continuous features.  Must be >=2 and >= number of categories for any categorical feature.'): 32}, {Param(parent='RandomForestClassifier_b3499531baf4', name='numTrees', doc='Number of trees to train (>= 1).'): 10, Param(parent='RandomForestClassifier_b3499531baf4', name='maxDepth', doc='Maximum depth of the tree. (>= 0) E.g., depth 0 means 1 leaf node; depth 1 means 1 internal node + 2 leaf nodes. Must be in range [0, 30].'): 15, Param(parent='RandomForestClassifier_b3499531baf4', name='maxBins', doc='Max number of bins for discretizing continuous features.  Must be >=2 and >= number of categories for any categorical feature.'): 64}, {Param(parent='RandomForestClassifier_b3499531baf4', name='numTrees', doc='Number of trees to train (>= 1).'): 10, Param(parent='RandomForestClassifier_b3499531baf4', name='maxDepth', doc='Maximum depth of the tree. (>= 0) E.g., depth 0 means 1 leaf node; depth 1 means 1 internal node + 2 leaf nodes. Must be in range [0, 30].'): 15, Param(parent='RandomForestClassifier_b3499531baf4', name='maxBins', doc='Max number of bins for discretizing continuous features.  Must be >=2 and >= number of categories for any categorical feature.'): 128}, {Param(parent='RandomForestClassifier_b3499531baf4', name='numTrees', doc='Number of trees to train (>= 1).'): 20, Param(parent='RandomForestClassifier_b3499531baf4', name='maxDepth', doc='Maximum depth of the tree. (>= 0) E.g., depth 0 means 1 leaf node; depth 1 means 1 internal node + 2 leaf nodes. Must be in range [0, 30].'): 5, Param(parent='RandomForestClassifier_b3499531baf4', name='maxBins', doc='Max number of bins for discretizing continuous features.  Must be >=2 and >= number of categories for any categorical feature.'): 32}, {Param(parent='RandomForestClassifier_b3499531baf4', name='numTrees', doc='Number of trees to train (>= 1).'): 20, Param(parent='RandomForestClassifier_b3499531baf4', name='maxDepth', doc='Maximum depth of the tree. (>= 0) E.g., depth 0 means 1 leaf node; depth 1 means 1 internal node + 2 leaf nodes. Must be in range [0, 30].'): 5, Param(parent='RandomForestClassifier_b3499531baf4', name='maxBins', doc='Max number of bins for discretizing continuous features.  Must be >=2 and >= number of categories for any categorical feature.'): 64}, {Param(parent='RandomForestClassifier_b3499531baf4', name='numTrees', doc='Number of trees to train (>= 1).'): 20, Param(parent='RandomForestClassifier_b3499531baf4', name='maxDepth', doc='Maximum depth of the tree. (>= 0) E.g., depth 0 means 1 leaf node; depth 1 means 1 internal node + 2 leaf nodes. Must be in range [0, 30].'): 5, Param(parent='RandomForestClassifier_b3499531baf4', name='maxBins', doc='Max number of bins for discretizing continuous features.  Must be >=2 and >= number of categories for any categorical feature.'): 128}, {Param(parent='RandomForestClassifier_b3499531baf4', name='numTrees', doc='Number of trees to train (>= 1).'): 20, Param(parent='RandomForestClassifier_b3499531baf4', name='maxDepth', doc='Maximum depth of the tree. (>= 0) E.g., depth 0 means 1 leaf node; depth 1 means 1 internal node + 2 leaf nodes. Must be in range [0, 30].'): 10, Param(parent='RandomForestClassifier_b3499531baf4', name='maxBins', doc='Max number of bins for discretizing continuous features.  Must be >=2 and >= number of categories for any categorical feature.'): 32}, {Param(parent='RandomForestClassifier_b3499531baf4', name='numTrees', doc='Number of trees to train (>= 1).'): 20, Param(parent='RandomForestClassifier_b3499531baf4', name='maxDepth', doc='Maximum depth of the tree. (>= 0) E.g., depth 0 means 1 leaf node; depth 1 means 1 internal node + 2 leaf nodes. Must be in range [0, 30].'): 10, Param(parent='RandomForestClassifier_b3499531baf4', name='maxBins', doc='Max number of bins for discretizing continuous features.  Must be >=2 and >= number of categories for any categorical feature.'): 64}, {Param(parent='RandomForestClassifier_b3499531baf4', name='numTrees', doc='Number of trees to train (>= 1).'): 20, Param(parent='RandomForestClassifier_b3499531baf4', name='maxDepth', doc='Maximum depth of the tree. (>= 0) E.g., depth 0 means 1 leaf node; depth 1 means 1 internal node + 2 leaf nodes. Must be in range [0, 30].'): 10, Param(parent='RandomForestClassifier_b3499531baf4', name='maxBins', doc='Max number of bins for discretizing continuous features.  Must be >=2 and >= number of categories for any categorical feature.'): 128}, {Param(parent='RandomForestClassifier_b3499531baf4', name='numTrees', doc='Number of trees to train (>= 1).'): 20, Param(parent='RandomForestClassifier_b3499531baf4', name='maxDepth', doc='Maximum depth of the tree. (>= 0) E.g., depth 0 means 1 leaf node; depth 1 means 1 internal node + 2 leaf nodes. Must be in range [0, 30].'): 15, Param(parent='RandomForestClassifier_b3499531baf4', name='maxBins', doc='Max number of bins for discretizing continuous features.  Must be >=2 and >= number of categories for any categorical feature.'): 32}, {Param(parent='RandomForestClassifier_b3499531baf4', name='numTrees', doc='Number of trees to train (>= 1).'): 20, Param(parent='RandomForestClassifier_b3499531baf4', name='maxDepth', doc='Maximum depth of the tree. (>= 0) E.g., depth 0 means 1 leaf node; depth 1 means 1 internal node + 2 leaf nodes. Must be in range [0, 30].'): 15, Param(parent='RandomForestClassifier_b3499531baf4', name='maxBins', doc='Max number of bins for discretizing continuous features.  Must be >=2 and >= number of categories for any categorical feature.'): 64}, {Param(parent='RandomForestClassifier_b3499531baf4', name='numTrees', doc='Number of trees to train (>= 1).'): 20, Param(parent='RandomForestClassifier_b3499531baf4', name='maxDepth', doc='Maximum depth of the tree. (>= 0) E.g., depth 0 means 1 leaf node; depth 1 means 1 internal node + 2 leaf nodes. Must be in range [0, 30].'): 15, Param(parent='RandomForestClassifier_b3499531baf4', name='maxBins', doc='Max number of bins for discretizing continuous features.  Must be >=2 and >= number of categories for any categorical feature.'): 128}, {Param(parent='RandomForestClassifier_b3499531baf4', name='numTrees', doc='Number of trees to train (>= 1).'): 30, Param(parent='RandomForestClassifier_b3499531baf4', name='maxDepth', doc='Maximum depth of the tree. (>= 0) E.g., depth 0 means 1 leaf node; depth 1 means 1 internal node + 2 leaf nodes. Must be in range [0, 30].'): 5, Param(parent='RandomForestClassifier_b3499531baf4', name='maxBins', doc='Max number of bins for discretizing continuous features.  Must be >=2 and >= number of categories for any categorical feature.'): 32}, {Param(parent='RandomForestClassifier_b3499531baf4', name='numTrees', doc='Number of trees to train (>= 1).'): 30, Param(parent='RandomForestClassifier_b3499531baf4', name='maxDepth', doc='Maximum depth of the tree. (>= 0) E.g., depth 0 means 1 leaf node; depth 1 means 1 internal node + 2 leaf nodes. Must be in range [0, 30].'): 5, Param(parent='RandomForestClassifier_b3499531baf4', name='maxBins', doc='Max number of bins for discretizing continuous features.  Must be >=2 and >= number of categories for any categorical feature.'): 64}, {Param(parent='RandomForestClassifier_b3499531baf4', name='numTrees', doc='Number of trees to train (>= 1).'): 30, Param(parent='RandomForestClassifier_b3499531baf4', name='maxDepth', doc='Maximum depth of the tree. (>= 0) E.g., depth 0 means 1 leaf node; depth 1 means 1 internal node + 2 leaf nodes. Must be in range [0, 30].'): 5, Param(parent='RandomForestClassifier_b3499531baf4', name='maxBins', doc='Max number of bins for discretizing continuous features.  Must be >=2 and >= number of categories for any categorical feature.'): 128}, {Param(parent='RandomForestClassifier_b3499531baf4', name='numTrees', doc='Number of trees to train (>= 1).'): 30, Param(parent='RandomForestClassifier_b3499531baf4', name='maxDepth', doc='Maximum depth of the tree. (>= 0) E.g., depth 0 means 1 leaf node; depth 1 means 1 internal node + 2 leaf nodes. Must be in range [0, 30].'): 10, Param(parent='RandomForestClassifier_b3499531baf4', name='maxBins', doc='Max number of bins for discretizing continuous features.  Must be >=2 and >= number of categories for any categorical feature.'): 32}, {Param(parent='RandomForestClassifier_b3499531baf4', name='numTrees', doc='Number of trees to train (>= 1).'): 30, Param(parent='RandomForestClassifier_b3499531baf4', name='maxDepth', doc='Maximum depth of the tree. (>= 0) E.g., depth 0 means 1 leaf node; depth 1 means 1 internal node + 2 leaf nodes. Must be in range [0, 30].'): 10, Param(parent='RandomForestClassifier_b3499531baf4', name='maxBins', doc='Max number of bins for discretizing continuous features.  Must be >=2 and >= number of categories for any categorical feature.'): 64}, {Param(parent='RandomForestClassifier_b3499531baf4', name='numTrees', doc='Number of trees to train (>= 1).'): 30, Param(parent='RandomForestClassifier_b3499531baf4', name='maxDepth', doc='Maximum depth of the tree. (>= 0) E.g., depth 0 means 1 leaf node; depth 1 means 1 internal node + 2 leaf nodes. Must be in range [0, 30].'): 10, Param(parent='RandomForestClassifier_b3499531baf4', name='maxBins', doc='Max number of bins for discretizing continuous features.  Must be >=2 and >= number of categories for any categorical feature.'): 128}, {Param(parent='RandomForestClassifier_b3499531baf4', name='numTrees', doc='Number of trees to train (>= 1).'): 30, Param(parent='RandomForestClassifier_b3499531baf4', name='maxDepth', doc='Maximum depth of the tree. (>= 0) E.g., depth 0 means 1 leaf node; depth 1 means 1 internal node + 2 leaf nodes. Must be in range [0, 30].'): 15, Param(parent='RandomForestClassifier_b3499531baf4', name='maxBins', doc='Max number of bins for discretizing continuous features.  Must be >=2 and >= number of categories for any categorical feature.'): 32}, {Param(parent='RandomForestClassifier_b3499531baf4', name='numTrees', doc='Number of trees to train (>= 1).'): 30, Param(parent='RandomForestClassifier_b3499531baf4', name='maxDepth', doc='Maximum depth of the tree. (>= 0) E.g., depth 0 means 1 leaf node; depth 1 means 1 internal node + 2 leaf nodes. Must be in range [0, 30].'): 15, Param(parent='RandomForestClassifier_b3499531baf4', name='maxBins', doc='Max number of bins for discretizing continuous features.  Must be >=2 and >= number of categories for any categorical feature.'): 64}, {Param(parent='RandomForestClassifier_b3499531baf4', name='numTrees', doc='Number of trees to train (>= 1).'): 30, Param(parent='RandomForestClassifier_b3499531baf4', name='maxDepth', doc='Maximum depth of the tree. (>= 0) E.g., depth 0 means 1 leaf node; depth 1 means 1 internal node + 2 leaf nodes. Must be in range [0, 30].'): 15, Param(parent='RandomForestClassifier_b3499531baf4', name='maxBins', doc='Max number of bins for discretizing continuous features.  Must be >=2 and >= number of categories for any categorical feature.'): 128}, {Param(parent='RandomForestClassifier_b3499531baf4', name='numTrees', doc='Number of trees to train (>= 1).'): 100, Param(parent='RandomForestClassifier_b3499531baf4', name='maxDepth', doc='Maximum depth of the tree. (>= 0) E.g., depth 0 means 1 leaf node; depth 1 means 1 internal node + 2 leaf nodes. Must be in range [0, 30].'): 5, Param(parent='RandomForestClassifier_b3499531baf4', name='maxBins', doc='Max number of bins for discretizing continuous features.  Must be >=2 and >= number of categories for any categorical feature.'): 32}, {Param(parent='RandomForestClassifier_b3499531baf4', name='numTrees', doc='Number of trees to train (>= 1).'): 100, Param(parent='RandomForestClassifier_b3499531baf4', name='maxDepth', doc='Maximum depth of the tree. (>= 0) E.g., depth 0 means 1 leaf node; depth 1 means 1 internal node + 2 leaf nodes. Must be in range [0, 30].'): 5, Param(parent='RandomForestClassifier_b3499531baf4', name='maxBins', doc='Max number of bins for discretizing continuous features.  Must be >=2 and >= number of categories for any categorical feature.'): 64}, {Param(parent='RandomForestClassifier_b3499531baf4', name='numTrees', doc='Number of trees to train (>= 1).'): 100, Param(parent='RandomForestClassifier_b3499531baf4', name='maxDepth', doc='Maximum depth of the tree. (>= 0) E.g., depth 0 means 1 leaf node; depth 1 means 1 internal node + 2 leaf nodes. Must be in range [0, 30].'): 5, Param(parent='RandomForestClassifier_b3499531baf4', name='maxBins', doc='Max number of bins for discretizing continuous features.  Must be >=2 and >= number of categories for any categorical feature.'): 128}, {Param(parent='RandomForestClassifier_b3499531baf4', name='numTrees', doc='Number of trees to train (>= 1).'): 100, Param(parent='RandomForestClassifier_b3499531baf4', name='maxDepth', doc='Maximum depth of the tree. (>= 0) E.g., depth 0 means 1 leaf node; depth 1 means 1 internal node + 2 leaf nodes. Must be in range [0, 30].'): 10, Param(parent='RandomForestClassifier_b3499531baf4', name='maxBins', doc='Max number of bins for discretizing continuous features.  Must be >=2 and >= number of categories for any categorical feature.'): 32}, {Param(parent='RandomForestClassifier_b3499531baf4', name='numTrees', doc='Number of trees to train (>= 1).'): 100, Param(parent='RandomForestClassifier_b3499531baf4', name='maxDepth', doc='Maximum depth of the tree. (>= 0) E.g., depth 0 means 1 leaf node; depth 1 means 1 internal node + 2 leaf nodes. Must be in range [0, 30].'): 10, Param(parent='RandomForestClassifier_b3499531baf4', name='maxBins', doc='Max number of bins for discretizing continuous features.  Must be >=2 and >= number of categories for any categorical feature.'): 64}, {Param(parent='RandomForestClassifier_b3499531baf4', name='numTrees', doc='Number of trees to train (>= 1).'): 100, Param(parent='RandomForestClassifier_b3499531baf4', name='maxDepth', doc='Maximum depth of the tree. (>= 0) E.g., depth 0 means 1 leaf node; depth 1 means 1 internal node + 2 leaf nodes. Must be in range [0, 30].'): 10, Param(parent='RandomForestClassifier_b3499531baf4', name='maxBins', doc='Max number of bins for discretizing continuous features.  Must be >=2 and >= number of categories for any categorical feature.'): 128}, {Param(parent='RandomForestClassifier_b3499531baf4', name='numTrees', doc='Number of trees to train (>= 1).'): 100, Param(parent='RandomForestClassifier_b3499531baf4', name='maxDepth', doc='Maximum depth of the tree. (>= 0) E.g., depth 0 means 1 leaf node; depth 1 means 1 internal node + 2 leaf nodes. Must be in range [0, 30].'): 15, Param(parent='RandomForestClassifier_b3499531baf4', name='maxBins', doc='Max number of bins for discretizing continuous features.  Must be >=2 and >= number of categories for any categorical feature.'): 32}, {Param(parent='RandomForestClassifier_b3499531baf4', name='numTrees', doc='Number of trees to train (>= 1).'): 100, Param(parent='RandomForestClassifier_b3499531baf4', name='maxDepth', doc='Maximum depth of the tree. (>= 0) E.g., depth 0 means 1 leaf node; depth 1 means 1 internal node + 2 leaf nodes. Must be in range [0, 30].'): 15, Param(parent='RandomForestClassifier_b3499531baf4', name='maxBins', doc='Max number of bins for discretizing continuous features.  Must be >=2 and >= number of categories for any categorical feature.'): 64}, {Param(parent='RandomForestClassifier_b3499531baf4', name='numTrees', doc='Number of trees to train (>= 1).'): 100, Param(parent='RandomForestClassifier_b3499531baf4', name='maxDepth', doc='Maximum depth of the tree. (>= 0) E.g., depth 0 means 1 leaf node; depth 1 means 1 internal node + 2 leaf nodes. Must be in range [0, 30].'): 15, Param(parent='RandomForestClassifier_b3499531baf4', name='maxBins', doc='Max number of bins for discretizing continuous features.  Must be >=2 and >= number of categories for any categorical feature.'): 128}])\n",
      "evaluator: evaluator used to select hyper-parameters that maximize the validator metric (current: MulticlassClassificationEvaluator_6c13ec0a6a22)\n",
      "seed: random seed. (default: -5344813404624419522, current: 42)\n",
      "trainRatio: Param for ratio between train and     validation data. Must be between 0 and 1. (default: 0.75, current: 0.8) \n",
      "\n",
      "\n",
      "Evaluating with metric -> accuracy\n",
      "Evaluators rating for the test set -> 0.6666666666666666\n"
     ]
    }
   ],
   "source": [
    "from pyspark.ml.classification import RandomForestClassifier\n",
    "from pyspark.ml.evaluation import MulticlassClassificationEvaluator\n",
    "from pyspark.ml.tuning import TrainValidationSplit, ParamGridBuilder\n",
    "\n",
    "\n",
    "\n",
    "# Define Random Forest Classifier\n",
    "rf = RandomForestClassifier(labelCol=\"Conversation_Type\", featuresCol=\"combined_features\", predictionCol=\"Prediction\")\n",
    "\n",
    "evaluator = MulticlassClassificationEvaluator(labelCol='Conversation_Type', metricName=\"accuracy\", predictionCol=\"Prediction\")\n",
    "\n",
    "paramGrid = ParamGridBuilder() \\\n",
    "    .addGrid(rf.numTrees, [10, 20, 30, 100]) \\\n",
    "    .addGrid(rf.maxDepth, [5, 10, 15]) \\\n",
    "    .addGrid(rf.maxBins, [32, 64, 128]) \\\n",
    "    .build()\n",
    "    \n",
    "    \n",
    "# This is similar to cross validation but only split the set once\n",
    "tvs = TrainValidationSplit(\n",
    "    estimator=rf, \n",
    "    estimatorParamMaps=paramGrid, \n",
    "    evaluator=evaluator, \n",
    "    trainRatio=0.8,\n",
    "    parallelism=1, \n",
    "    seed=42)\n",
    "\n",
    "tvsModel = tvs.fit(train_data)\n",
    "\n",
    "print(tvsModel, '\\n')\n",
    "print(tvsModel.explainParams(), '\\n')\n",
    "print('\\nEvaluating with metric -> {}'.format(evaluator.getMetricName()))\n",
    "print('Evaluators rating for the test set -> {}'.format(evaluator.evaluate(tvsModel.transform(test_data))))\n"
   ]
  },
  {
   "cell_type": "code",
   "execution_count": 78,
   "metadata": {},
   "outputs": [
    {
     "name": "stdout",
     "output_type": "stream",
     "text": [
      "Train Validation Split Model validationMetrics -> [0.8181818181818182, 0.8181818181818182, 0.8181818181818182, 0.7727272727272727, 0.7727272727272727, 0.7727272727272727, 0.7727272727272727, 0.7727272727272727, 0.7727272727272727, 0.8636363636363636, 0.8636363636363636, 0.8636363636363636, 0.8636363636363636, 0.8636363636363636, 0.8636363636363636, 0.8636363636363636, 0.8636363636363636, 0.8636363636363636, 0.8181818181818182, 0.8181818181818182, 0.8181818181818182, 0.7272727272727273, 0.7272727272727273, 0.7272727272727273, 0.7272727272727273, 0.7272727272727273, 0.7272727272727273, 0.8636363636363636, 0.8636363636363636, 0.8636363636363636, 0.8636363636363636, 0.8636363636363636, 0.8636363636363636, 0.8636363636363636, 0.8636363636363636, 0.8636363636363636]\n",
      "Best Model -> RandomForestClassificationModel: uid=RandomForestClassifier_b3499531baf4, numTrees=20, numClasses=2, numFeatures=38\n"
     ]
    }
   ],
   "source": [
    "print('Train Validation Split Model validationMetrics -> {}'.format(tvsModel.validationMetrics))\n",
    "print('Best Model -> {}'.format(tvsModel.bestModel))"
   ]
  },
  {
   "cell_type": "markdown",
   "metadata": {},
   "source": [
    "### Testing"
   ]
  },
  {
   "cell_type": "code",
   "execution_count": 79,
   "metadata": {},
   "outputs": [
    {
     "name": "stdout",
     "output_type": "stream",
     "text": [
      "+---------------+-----------------+----------+----------------------------------------+\n",
      "|Conversation_ID|Conversation_Type|Prediction|Probability                             |\n",
      "+---------------+-----------------+----------+----------------------------------------+\n",
      "|ALtIzDsxTHTxIe |0                |1.0       |[0.4429319648773936,0.5570680351226064] |\n",
      "|DjQIAADidtJ3sU |1                |0.0       |[0.546780462184874,0.45321953781512603] |\n",
      "|GIjmhRS9Dy8xg1 |0                |1.0       |[0.4028177731583426,0.5971822268416573] |\n",
      "|OS6dP0SUxrOJVh |0                |1.0       |[0.49052114552114556,0.5094788544788544]|\n",
      "|RydOJX7W9kvYQc |0                |1.0       |[0.37070335125199866,0.6292966487480014]|\n",
      "|VBwnvERVuU3jv9 |0                |1.0       |[0.3358907121407121,0.6641092878592879] |\n",
      "|j2Q9T9FmncM5Re |0                |1.0       |[0.46969108105900564,0.5303089189409944]|\n",
      "|qEKhQ6c7Jibf99 |0                |1.0       |[0.37109431315003605,0.6289056868499641]|\n",
      "+---------------+-----------------+----------+----------------------------------------+\n",
      "\n"
     ]
    }
   ],
   "source": [
    "predictions = tvsModel.bestModel.transform(test_data)\n",
    "predictions.select(\"Conversation_ID\",\"Conversation_Type\", \"Prediction\", \"Probability\").where(predictions.Prediction != predictions.Conversation_Type).show(10, truncate=False)"
   ]
  },
  {
   "cell_type": "code",
   "execution_count": 80,
   "metadata": {},
   "outputs": [],
   "source": [
    "model_path = \"../Models/Trained_Models/RandomForest\""
   ]
  },
  {
   "cell_type": "code",
   "execution_count": 81,
   "metadata": {},
   "outputs": [],
   "source": [
    "# tvsModel.write().overwrite().save(model_path)"
   ]
  },
  {
   "cell_type": "markdown",
   "metadata": {},
   "source": [
    "## GRADIENT BOOSTED TREES"
   ]
  },
  {
   "cell_type": "markdown",
   "metadata": {},
   "source": [
    "### Training Gradient Boosted Trees Model"
   ]
  },
  {
   "cell_type": "code",
   "execution_count": 82,
   "metadata": {},
   "outputs": [
    {
     "name": "stdout",
     "output_type": "stream",
     "text": [
      "TrainValidationSplitModel_fb91dc694da4 \n",
      "\n",
      "estimator: estimator to be cross-validated (current: GBTClassifier_d6e29f84366b)\n",
      "estimatorParamMaps: estimator param maps (current: [{Param(parent='GBTClassifier_d6e29f84366b', name='maxDepth', doc='Maximum depth of the tree. (>= 0) E.g., depth 0 means 1 leaf node; depth 1 means 1 internal node + 2 leaf nodes. Must be in range [0, 30].'): 2, Param(parent='GBTClassifier_d6e29f84366b', name='stepSize', doc='Step size (a.k.a. learning rate) in interval (0, 1] for shrinking the contribution of each estimator.'): 0.1, Param(parent='GBTClassifier_d6e29f84366b', name='maxIter', doc='max number of iterations (>= 0).'): 50}, {Param(parent='GBTClassifier_d6e29f84366b', name='maxDepth', doc='Maximum depth of the tree. (>= 0) E.g., depth 0 means 1 leaf node; depth 1 means 1 internal node + 2 leaf nodes. Must be in range [0, 30].'): 2, Param(parent='GBTClassifier_d6e29f84366b', name='stepSize', doc='Step size (a.k.a. learning rate) in interval (0, 1] for shrinking the contribution of each estimator.'): 0.1, Param(parent='GBTClassifier_d6e29f84366b', name='maxIter', doc='max number of iterations (>= 0).'): 100}, {Param(parent='GBTClassifier_d6e29f84366b', name='maxDepth', doc='Maximum depth of the tree. (>= 0) E.g., depth 0 means 1 leaf node; depth 1 means 1 internal node + 2 leaf nodes. Must be in range [0, 30].'): 2, Param(parent='GBTClassifier_d6e29f84366b', name='stepSize', doc='Step size (a.k.a. learning rate) in interval (0, 1] for shrinking the contribution of each estimator.'): 0.1, Param(parent='GBTClassifier_d6e29f84366b', name='maxIter', doc='max number of iterations (>= 0).'): 200}, {Param(parent='GBTClassifier_d6e29f84366b', name='maxDepth', doc='Maximum depth of the tree. (>= 0) E.g., depth 0 means 1 leaf node; depth 1 means 1 internal node + 2 leaf nodes. Must be in range [0, 30].'): 2, Param(parent='GBTClassifier_d6e29f84366b', name='stepSize', doc='Step size (a.k.a. learning rate) in interval (0, 1] for shrinking the contribution of each estimator.'): 0.3, Param(parent='GBTClassifier_d6e29f84366b', name='maxIter', doc='max number of iterations (>= 0).'): 50}, {Param(parent='GBTClassifier_d6e29f84366b', name='maxDepth', doc='Maximum depth of the tree. (>= 0) E.g., depth 0 means 1 leaf node; depth 1 means 1 internal node + 2 leaf nodes. Must be in range [0, 30].'): 2, Param(parent='GBTClassifier_d6e29f84366b', name='stepSize', doc='Step size (a.k.a. learning rate) in interval (0, 1] for shrinking the contribution of each estimator.'): 0.3, Param(parent='GBTClassifier_d6e29f84366b', name='maxIter', doc='max number of iterations (>= 0).'): 100}, {Param(parent='GBTClassifier_d6e29f84366b', name='maxDepth', doc='Maximum depth of the tree. (>= 0) E.g., depth 0 means 1 leaf node; depth 1 means 1 internal node + 2 leaf nodes. Must be in range [0, 30].'): 2, Param(parent='GBTClassifier_d6e29f84366b', name='stepSize', doc='Step size (a.k.a. learning rate) in interval (0, 1] for shrinking the contribution of each estimator.'): 0.3, Param(parent='GBTClassifier_d6e29f84366b', name='maxIter', doc='max number of iterations (>= 0).'): 200}, {Param(parent='GBTClassifier_d6e29f84366b', name='maxDepth', doc='Maximum depth of the tree. (>= 0) E.g., depth 0 means 1 leaf node; depth 1 means 1 internal node + 2 leaf nodes. Must be in range [0, 30].'): 2, Param(parent='GBTClassifier_d6e29f84366b', name='stepSize', doc='Step size (a.k.a. learning rate) in interval (0, 1] for shrinking the contribution of each estimator.'): 0.5, Param(parent='GBTClassifier_d6e29f84366b', name='maxIter', doc='max number of iterations (>= 0).'): 50}, {Param(parent='GBTClassifier_d6e29f84366b', name='maxDepth', doc='Maximum depth of the tree. (>= 0) E.g., depth 0 means 1 leaf node; depth 1 means 1 internal node + 2 leaf nodes. Must be in range [0, 30].'): 2, Param(parent='GBTClassifier_d6e29f84366b', name='stepSize', doc='Step size (a.k.a. learning rate) in interval (0, 1] for shrinking the contribution of each estimator.'): 0.5, Param(parent='GBTClassifier_d6e29f84366b', name='maxIter', doc='max number of iterations (>= 0).'): 100}, {Param(parent='GBTClassifier_d6e29f84366b', name='maxDepth', doc='Maximum depth of the tree. (>= 0) E.g., depth 0 means 1 leaf node; depth 1 means 1 internal node + 2 leaf nodes. Must be in range [0, 30].'): 2, Param(parent='GBTClassifier_d6e29f84366b', name='stepSize', doc='Step size (a.k.a. learning rate) in interval (0, 1] for shrinking the contribution of each estimator.'): 0.5, Param(parent='GBTClassifier_d6e29f84366b', name='maxIter', doc='max number of iterations (>= 0).'): 200}, {Param(parent='GBTClassifier_d6e29f84366b', name='maxDepth', doc='Maximum depth of the tree. (>= 0) E.g., depth 0 means 1 leaf node; depth 1 means 1 internal node + 2 leaf nodes. Must be in range [0, 30].'): 4, Param(parent='GBTClassifier_d6e29f84366b', name='stepSize', doc='Step size (a.k.a. learning rate) in interval (0, 1] for shrinking the contribution of each estimator.'): 0.1, Param(parent='GBTClassifier_d6e29f84366b', name='maxIter', doc='max number of iterations (>= 0).'): 50}, {Param(parent='GBTClassifier_d6e29f84366b', name='maxDepth', doc='Maximum depth of the tree. (>= 0) E.g., depth 0 means 1 leaf node; depth 1 means 1 internal node + 2 leaf nodes. Must be in range [0, 30].'): 4, Param(parent='GBTClassifier_d6e29f84366b', name='stepSize', doc='Step size (a.k.a. learning rate) in interval (0, 1] for shrinking the contribution of each estimator.'): 0.1, Param(parent='GBTClassifier_d6e29f84366b', name='maxIter', doc='max number of iterations (>= 0).'): 100}, {Param(parent='GBTClassifier_d6e29f84366b', name='maxDepth', doc='Maximum depth of the tree. (>= 0) E.g., depth 0 means 1 leaf node; depth 1 means 1 internal node + 2 leaf nodes. Must be in range [0, 30].'): 4, Param(parent='GBTClassifier_d6e29f84366b', name='stepSize', doc='Step size (a.k.a. learning rate) in interval (0, 1] for shrinking the contribution of each estimator.'): 0.1, Param(parent='GBTClassifier_d6e29f84366b', name='maxIter', doc='max number of iterations (>= 0).'): 200}, {Param(parent='GBTClassifier_d6e29f84366b', name='maxDepth', doc='Maximum depth of the tree. (>= 0) E.g., depth 0 means 1 leaf node; depth 1 means 1 internal node + 2 leaf nodes. Must be in range [0, 30].'): 4, Param(parent='GBTClassifier_d6e29f84366b', name='stepSize', doc='Step size (a.k.a. learning rate) in interval (0, 1] for shrinking the contribution of each estimator.'): 0.3, Param(parent='GBTClassifier_d6e29f84366b', name='maxIter', doc='max number of iterations (>= 0).'): 50}, {Param(parent='GBTClassifier_d6e29f84366b', name='maxDepth', doc='Maximum depth of the tree. (>= 0) E.g., depth 0 means 1 leaf node; depth 1 means 1 internal node + 2 leaf nodes. Must be in range [0, 30].'): 4, Param(parent='GBTClassifier_d6e29f84366b', name='stepSize', doc='Step size (a.k.a. learning rate) in interval (0, 1] for shrinking the contribution of each estimator.'): 0.3, Param(parent='GBTClassifier_d6e29f84366b', name='maxIter', doc='max number of iterations (>= 0).'): 100}, {Param(parent='GBTClassifier_d6e29f84366b', name='maxDepth', doc='Maximum depth of the tree. (>= 0) E.g., depth 0 means 1 leaf node; depth 1 means 1 internal node + 2 leaf nodes. Must be in range [0, 30].'): 4, Param(parent='GBTClassifier_d6e29f84366b', name='stepSize', doc='Step size (a.k.a. learning rate) in interval (0, 1] for shrinking the contribution of each estimator.'): 0.3, Param(parent='GBTClassifier_d6e29f84366b', name='maxIter', doc='max number of iterations (>= 0).'): 200}, {Param(parent='GBTClassifier_d6e29f84366b', name='maxDepth', doc='Maximum depth of the tree. (>= 0) E.g., depth 0 means 1 leaf node; depth 1 means 1 internal node + 2 leaf nodes. Must be in range [0, 30].'): 4, Param(parent='GBTClassifier_d6e29f84366b', name='stepSize', doc='Step size (a.k.a. learning rate) in interval (0, 1] for shrinking the contribution of each estimator.'): 0.5, Param(parent='GBTClassifier_d6e29f84366b', name='maxIter', doc='max number of iterations (>= 0).'): 50}, {Param(parent='GBTClassifier_d6e29f84366b', name='maxDepth', doc='Maximum depth of the tree. (>= 0) E.g., depth 0 means 1 leaf node; depth 1 means 1 internal node + 2 leaf nodes. Must be in range [0, 30].'): 4, Param(parent='GBTClassifier_d6e29f84366b', name='stepSize', doc='Step size (a.k.a. learning rate) in interval (0, 1] for shrinking the contribution of each estimator.'): 0.5, Param(parent='GBTClassifier_d6e29f84366b', name='maxIter', doc='max number of iterations (>= 0).'): 100}, {Param(parent='GBTClassifier_d6e29f84366b', name='maxDepth', doc='Maximum depth of the tree. (>= 0) E.g., depth 0 means 1 leaf node; depth 1 means 1 internal node + 2 leaf nodes. Must be in range [0, 30].'): 4, Param(parent='GBTClassifier_d6e29f84366b', name='stepSize', doc='Step size (a.k.a. learning rate) in interval (0, 1] for shrinking the contribution of each estimator.'): 0.5, Param(parent='GBTClassifier_d6e29f84366b', name='maxIter', doc='max number of iterations (>= 0).'): 200}, {Param(parent='GBTClassifier_d6e29f84366b', name='maxDepth', doc='Maximum depth of the tree. (>= 0) E.g., depth 0 means 1 leaf node; depth 1 means 1 internal node + 2 leaf nodes. Must be in range [0, 30].'): 6, Param(parent='GBTClassifier_d6e29f84366b', name='stepSize', doc='Step size (a.k.a. learning rate) in interval (0, 1] for shrinking the contribution of each estimator.'): 0.1, Param(parent='GBTClassifier_d6e29f84366b', name='maxIter', doc='max number of iterations (>= 0).'): 50}, {Param(parent='GBTClassifier_d6e29f84366b', name='maxDepth', doc='Maximum depth of the tree. (>= 0) E.g., depth 0 means 1 leaf node; depth 1 means 1 internal node + 2 leaf nodes. Must be in range [0, 30].'): 6, Param(parent='GBTClassifier_d6e29f84366b', name='stepSize', doc='Step size (a.k.a. learning rate) in interval (0, 1] for shrinking the contribution of each estimator.'): 0.1, Param(parent='GBTClassifier_d6e29f84366b', name='maxIter', doc='max number of iterations (>= 0).'): 100}, {Param(parent='GBTClassifier_d6e29f84366b', name='maxDepth', doc='Maximum depth of the tree. (>= 0) E.g., depth 0 means 1 leaf node; depth 1 means 1 internal node + 2 leaf nodes. Must be in range [0, 30].'): 6, Param(parent='GBTClassifier_d6e29f84366b', name='stepSize', doc='Step size (a.k.a. learning rate) in interval (0, 1] for shrinking the contribution of each estimator.'): 0.1, Param(parent='GBTClassifier_d6e29f84366b', name='maxIter', doc='max number of iterations (>= 0).'): 200}, {Param(parent='GBTClassifier_d6e29f84366b', name='maxDepth', doc='Maximum depth of the tree. (>= 0) E.g., depth 0 means 1 leaf node; depth 1 means 1 internal node + 2 leaf nodes. Must be in range [0, 30].'): 6, Param(parent='GBTClassifier_d6e29f84366b', name='stepSize', doc='Step size (a.k.a. learning rate) in interval (0, 1] for shrinking the contribution of each estimator.'): 0.3, Param(parent='GBTClassifier_d6e29f84366b', name='maxIter', doc='max number of iterations (>= 0).'): 50}, {Param(parent='GBTClassifier_d6e29f84366b', name='maxDepth', doc='Maximum depth of the tree. (>= 0) E.g., depth 0 means 1 leaf node; depth 1 means 1 internal node + 2 leaf nodes. Must be in range [0, 30].'): 6, Param(parent='GBTClassifier_d6e29f84366b', name='stepSize', doc='Step size (a.k.a. learning rate) in interval (0, 1] for shrinking the contribution of each estimator.'): 0.3, Param(parent='GBTClassifier_d6e29f84366b', name='maxIter', doc='max number of iterations (>= 0).'): 100}, {Param(parent='GBTClassifier_d6e29f84366b', name='maxDepth', doc='Maximum depth of the tree. (>= 0) E.g., depth 0 means 1 leaf node; depth 1 means 1 internal node + 2 leaf nodes. Must be in range [0, 30].'): 6, Param(parent='GBTClassifier_d6e29f84366b', name='stepSize', doc='Step size (a.k.a. learning rate) in interval (0, 1] for shrinking the contribution of each estimator.'): 0.3, Param(parent='GBTClassifier_d6e29f84366b', name='maxIter', doc='max number of iterations (>= 0).'): 200}, {Param(parent='GBTClassifier_d6e29f84366b', name='maxDepth', doc='Maximum depth of the tree. (>= 0) E.g., depth 0 means 1 leaf node; depth 1 means 1 internal node + 2 leaf nodes. Must be in range [0, 30].'): 6, Param(parent='GBTClassifier_d6e29f84366b', name='stepSize', doc='Step size (a.k.a. learning rate) in interval (0, 1] for shrinking the contribution of each estimator.'): 0.5, Param(parent='GBTClassifier_d6e29f84366b', name='maxIter', doc='max number of iterations (>= 0).'): 50}, {Param(parent='GBTClassifier_d6e29f84366b', name='maxDepth', doc='Maximum depth of the tree. (>= 0) E.g., depth 0 means 1 leaf node; depth 1 means 1 internal node + 2 leaf nodes. Must be in range [0, 30].'): 6, Param(parent='GBTClassifier_d6e29f84366b', name='stepSize', doc='Step size (a.k.a. learning rate) in interval (0, 1] for shrinking the contribution of each estimator.'): 0.5, Param(parent='GBTClassifier_d6e29f84366b', name='maxIter', doc='max number of iterations (>= 0).'): 100}, {Param(parent='GBTClassifier_d6e29f84366b', name='maxDepth', doc='Maximum depth of the tree. (>= 0) E.g., depth 0 means 1 leaf node; depth 1 means 1 internal node + 2 leaf nodes. Must be in range [0, 30].'): 6, Param(parent='GBTClassifier_d6e29f84366b', name='stepSize', doc='Step size (a.k.a. learning rate) in interval (0, 1] for shrinking the contribution of each estimator.'): 0.5, Param(parent='GBTClassifier_d6e29f84366b', name='maxIter', doc='max number of iterations (>= 0).'): 200}])\n",
      "evaluator: evaluator used to select hyper-parameters that maximize the validator metric (current: BinaryClassificationEvaluator_e68606735b8b)\n",
      "seed: random seed. (default: -5344813404624419522, current: 42)\n",
      "trainRatio: Param for ratio between train and     validation data. Must be between 0 and 1. (default: 0.75, current: 0.8) \n",
      "\n",
      "\n",
      "Evaluating with metric -> accuracy\n",
      "Evaluators rating for the test set -> 0.8333333333333334\n"
     ]
    }
   ],
   "source": [
    "from pyspark.ml.classification import GBTClassifier\n",
    "from pyspark.ml.evaluation import BinaryClassificationEvaluator\n",
    "from pyspark.ml.tuning import CrossValidator, ParamGridBuilder\n",
    "\n",
    "# Create GBT classifier\n",
    "gbt = GBTClassifier(labelCol=\"Conversation_Type\", featuresCol=\"combined_features\", predictionCol=\"Prediction\")\n",
    "\n",
    "# Hyperparameter grid\n",
    "paramGrid = ParamGridBuilder() \\\n",
    "    .addGrid(gbt.maxDepth, [2, 4, 6]) \\\n",
    "    .addGrid(gbt.stepSize, [0.1, 0.3, 0.5]) \\\n",
    "    .addGrid(gbt.maxIter, [50, 100]) \\\n",
    "    .build()\n",
    "\n",
    "# Cross validation\n",
    "tvs = TrainValidationSplit(\n",
    "    estimator=gbt,\n",
    "    estimatorParamMaps=paramGrid,\n",
    "    evaluator=BinaryClassificationEvaluator(labelCol=\"Conversation_Type\"),\n",
    "    trainRatio=0.8,\n",
    "    parallelism=1,\n",
    "    seed=42 \n",
    ")\n",
    "\n",
    "# Train model using TrainValidationSplit\n",
    "tvsModel = tvs.fit(train_data)\n",
    "\n",
    "print(tvsModel, '\\n')\n",
    "print(tvsModel.explainParams(), '\\n')\n",
    "print('\\nEvaluating with metric -> {}'.format(evaluator.getMetricName()))\n",
    "print('Evaluators rating for the test set -> {}'.format(evaluator.evaluate(tvsModel.transform(test_data))))"
   ]
  },
  {
   "cell_type": "code",
   "execution_count": 83,
   "metadata": {},
   "outputs": [
    {
     "name": "stdout",
     "output_type": "stream",
     "text": [
      "Train Validation Split Model validationMetrics -> [0.9791666666666666, 0.9791666666666666, 0.9583333333333334, 0.9791666666666666, 0.96875, 0.9583333333333334, 0.96875, 0.9479166666666666, 0.9479166666666666, 0.9270833333333334, 0.9270833333333334, 0.90625, 0.9270833333333334, 0.9270833333333334, 0.9270833333333334, 0.9479166666666666, 0.9479166666666666, 0.9479166666666666, 0.8489583333333334, 0.859375, 0.84375, 0.8489583333333333, 0.8489583333333333, 0.8489583333333333, 0.8489583333333334, 0.8489583333333334, 0.8489583333333334]\n",
      "Best Model -> GBTClassificationModel: uid = GBTClassifier_d6e29f84366b, numTrees=50, numClasses=2, numFeatures=38\n"
     ]
    }
   ],
   "source": [
    "print('Train Validation Split Model validationMetrics -> {}'.format(tvsModel.validationMetrics))\n",
    "print('Best Model -> {}'.format(tvsModel.bestModel))"
   ]
  },
  {
   "cell_type": "markdown",
   "metadata": {},
   "source": [
    "### Testing"
   ]
  },
  {
   "cell_type": "code",
   "execution_count": 84,
   "metadata": {},
   "outputs": [
    {
     "name": "stdout",
     "output_type": "stream",
     "text": [
      "+---------------+-----------------+----------+----------------------------------------+\n",
      "|Conversation_ID|Conversation_Type|Prediction|Probability                             |\n",
      "+---------------+-----------------+----------+----------------------------------------+\n",
      "|ALtIzDsxTHTxIe |0                |1.0       |[0.19550410471619561,0.8044958952838044]|\n",
      "|GIjmhRS9Dy8xg1 |0                |1.0       |[0.19306684868503732,0.8069331513149627]|\n",
      "|OHJFQTvA2eXtsV |1                |0.0       |[0.8807252323571514,0.11927476764284861]|\n",
      "|PfjocwPlJ3gqF5 |1                |0.0       |[0.8353781963074045,0.1646218036925955] |\n",
      "+---------------+-----------------+----------+----------------------------------------+\n",
      "\n"
     ]
    }
   ],
   "source": [
    "predictions = tvsModel.bestModel.transform(test_data)\n",
    "predictions.select(\"Conversation_ID\",\"Conversation_Type\", \"Prediction\", \"Probability\").where(predictions.Prediction != predictions.Conversation_Type).show(10, truncate=False)"
   ]
  },
  {
   "cell_type": "code",
   "execution_count": 85,
   "metadata": {},
   "outputs": [],
   "source": [
    "model_path = \"../Models/Trained_Models/GradientBoostedTrees\""
   ]
  },
  {
   "cell_type": "code",
   "execution_count": 86,
   "metadata": {},
   "outputs": [],
   "source": [
    "# tvsModel.write().overwrite().save(model_path)"
   ]
  }
 ],
 "metadata": {
  "kernelspec": {
   "display_name": "Python 3",
   "language": "python",
   "name": "python3"
  },
  "language_info": {
   "codemirror_mode": {
    "name": "ipython",
    "version": 3
   },
   "file_extension": ".py",
   "mimetype": "text/x-python",
   "name": "python",
   "nbconvert_exporter": "python",
   "pygments_lexer": "ipython3",
   "version": "3.11.1"
  },
  "orig_nbformat": 4
 },
 "nbformat": 4,
 "nbformat_minor": 2
}
